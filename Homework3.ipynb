{
  "cells": [
    {
      "cell_type": "markdown",
      "metadata": {
        "id": "view-in-github",
        "colab_type": "text"
      },
      "source": [
        "<a href=\"https://colab.research.google.com/github/annalamboglia/BigDataHomework/blob/main/Homework3.ipynb\" target=\"_parent\"><img src=\"https://colab.research.google.com/assets/colab-badge.svg\" alt=\"Open In Colab\"/></a>"
      ]
    },
    {
      "cell_type": "markdown",
      "metadata": {
        "id": "L87GC0B7WXZN"
      },
      "source": [
        "### 1. Installation"
      ]
    },
    {
      "cell_type": "code",
      "execution_count": 3,
      "metadata": {
        "id": "0ANLb5NdTNSP"
      },
      "outputs": [],
      "source": [
        "# Run below commands in google colab\n",
        "# install Java8\n",
        "!apt-get install openjdk-8-jdk-headless -qq > /dev/null\n",
        "# download spark3.0.0\n",
        "!wget -q http://apache.osuosl.org/spark/spark-3.2.1/spark-3.2.1-bin-hadoop3.2.tgz\n",
        "# unzip it\n",
        "!tar xf spark-3.2.1-bin-hadoop3.2.tgz\n",
        "# install findspark \n",
        "!pip install -q findspark\n"
      ]
    },
    {
      "cell_type": "markdown",
      "metadata": {
        "id": "4r2_K8dUWqsr"
      },
      "source": [
        "Download and install Apache Spark 3.2.1, along with its dependencies (Java Development Kit 8+)"
      ]
    },
    {
      "cell_type": "markdown",
      "metadata": {
        "id": "BQkhvC3SW2vC"
      },
      "source": [
        "Set Environment Variables to make the Spark runtime visible to Linux OS. Please, note that you can manage multiple versions of spark by pointing to the correct version through environment variables. Run below set of commands to point to Apache Spark 3.2.1 version downloaded earlier."
      ]
    },
    {
      "cell_type": "code",
      "execution_count": 1,
      "metadata": {
        "id": "V-ZndeGfXN5m"
      },
      "outputs": [],
      "source": [
        "import os\n",
        "os.environ[\"JAVA_HOME\"] = \"/usr/lib/jvm/java-8-openjdk-amd64\"\n",
        "os.environ[\"SPARK_HOME\"] = \"/content/spark-3.2.1-bin-hadoop3.2\""
      ]
    },
    {
      "cell_type": "markdown",
      "metadata": {
        "id": "2mbVIf0hXfVA"
      },
      "source": [
        "Test the installation worked successfully."
      ]
    },
    {
      "cell_type": "code",
      "execution_count": 4,
      "metadata": {
        "id": "8vn4ZFqFXefa"
      },
      "outputs": [],
      "source": [
        "import findspark\n",
        "findspark.init()"
      ]
    },
    {
      "cell_type": "code",
      "execution_count": 5,
      "metadata": {
        "id": "XHRmDBHXWWKJ"
      },
      "outputs": [],
      "source": [
        "# Verify the Spark version running on the virtual cluster\n",
        "from pyspark.context import SparkContext\n",
        "sc = SparkContext.getOrCreate()\n",
        "\n",
        "assert  \"3.\" in sc.version, \"Verify that the cluster Spark's version is 3.x\""
      ]
    },
    {
      "cell_type": "markdown",
      "metadata": {
        "id": "BShrmAX7WWKO"
      },
      "source": [
        "If the environment is not configured properly, the instruction will show the Spark's version that would not be the 3.0."
      ]
    },
    {
      "cell_type": "code",
      "execution_count": 6,
      "metadata": {
        "colab": {
          "base_uri": "https://localhost:8080/"
        },
        "id": "AqJb0KERzN8W",
        "outputId": "0964e1d7-8e89-4694-ba08-0d5ac1711c37"
      },
      "outputs": [
        {
          "output_type": "stream",
          "name": "stdout",
          "text": [
            "<pyspark.sql.session.SparkSession object at 0x7f48d5d45f90>\n"
          ]
        }
      ],
      "source": [
        "from pyspark.sql import SparkSession\n",
        "spark = SparkSession(sc)\n",
        "print(spark)"
      ]
    },
    {
      "cell_type": "code",
      "execution_count": 7,
      "metadata": {
        "id": "HbIi7CQowQlb",
        "colab": {
          "base_uri": "https://localhost:8080/"
        },
        "outputId": "20dc907a-e216-482c-a1cc-f5719d102b2b"
      },
      "outputs": [
        {
          "output_type": "stream",
          "name": "stdout",
          "text": [
            "Mounted at /content/drive\n"
          ]
        }
      ],
      "source": [
        "#Collegamento al Drive\n",
        "from google.colab import drive\n",
        "drive.mount('/content/drive')"
      ]
    },
    {
      "cell_type": "markdown",
      "metadata": {
        "id": "gYigQThCwxG1"
      },
      "source": [
        "### Load Yelp Dataset"
      ]
    },
    {
      "cell_type": "code",
      "execution_count": 8,
      "metadata": {
        "id": "1pJPPTB1y_b4",
        "colab": {
          "base_uri": "https://localhost:8080/"
        },
        "outputId": "bfcc145a-e8ad-4612-927f-63836b0c3641"
      },
      "outputs": [
        {
          "output_type": "stream",
          "name": "stdout",
          "text": [
            "root\n",
            " |-- _corrupt_record: string (nullable = true)\n",
            " |-- business_id: string (nullable = true)\n",
            " |-- cool: long (nullable = true)\n",
            " |-- date: string (nullable = true)\n",
            " |-- funny: long (nullable = true)\n",
            " |-- review_id: string (nullable = true)\n",
            " |-- stars: double (nullable = true)\n",
            " |-- text: string (nullable = true)\n",
            " |-- useful: long (nullable = true)\n",
            " |-- user_id: string (nullable = true)\n",
            "\n",
            "+--------------------+----+-------------------+-----+--------------------+-----+--------------------+------+--------------------+\n",
            "|         business_id|cool|               date|funny|           review_id|stars|                text|useful|             user_id|\n",
            "+--------------------+----+-------------------+-----+--------------------+-----+--------------------+------+--------------------+\n",
            "|XQfwVwDr-v0ZS3_Cb...|   0|2018-07-07 22:09:11|    0|KU_O5udG6zpxOg-Vc...|  3.0|If you decide to ...|     0|mh_-eMZ6K5RLWhZyI...|\n",
            "|7ATYjTIgM3jUlt4UM...|   1|2012-01-03 15:28:18|    0|BiTunyQ73aT9WBnpR...|  5.0|I've taken a lot ...|     1|OyoGAe7OKpv6SyGZT...|\n",
            "|YjUWPpI6HXG530lwP...|   0|2014-02-05 20:30:30|    0|saUsX_uimxRlCVr67...|  3.0|Family diner. Had...|     0|8g_iMtfSiwikVnbP2...|\n",
            "|kxX2SOes4o-D3ZQBk...|   1|2015-01-04 00:01:03|    0|AqPFMleE6RsU23_au...|  5.0|Wow!  Yummy, diff...|     1|_7bHUi9Uuf5__HHc_...|\n",
            "|e4Vwtrqf-wpJfwesg...|   1|2017-01-14 20:54:15|    0|Sx8TMOWLNuJBWer-0...|  4.0|Cute interior and...|     1|bcjbaE6dDog4jkNY9...|\n",
            "|04UD14gamNjLY0IDY...|   1|2015-09-23 23:10:31|    2|JrIxlS1TzJ-iCu79u...|  1.0|I am a long term ...|     1|eUta8W_HdHMXPzLBB...|\n",
            "|gmjsEdUsKpj9Xxu6p...|   0|2015-01-03 23:21:18|    2|6AxgBCNX_PNTOxmbR...|  5.0|Loved this tour! ...|     0|r3zeYsv1XFBRA4dJp...|\n",
            "|LHSTtnW3YHCeUkRDG...|   0|2015-08-07 02:29:16|    0|_ZeMknuYdlQcUqng_...|  5.0|Amazingly amazing...|     2|yfFzsLmaWF2d4Sr0U...|\n",
            "|B5XSoSG3SfvQGtKEG...|   0|2016-03-30 22:46:33|    1|ZKvDG2sBvHVdF5oBN...|  3.0|This easter inste...|     1|wSTuiTk-sKNdcFypr...|\n",
            "|gebiRewfieSdtt17P...|   0|2016-07-25 07:31:06|    0|pUycOfUwM8vqX7KjR...|  3.0|Had a party of 6 ...|     0|59MxRhNVhU9MYndMk...|\n",
            "|uMvVYRgGNXf5boolA...|   0|2015-06-21 14:48:06|    0|rGQRf8UafX7OTlMNN...|  5.0|My experience wit...|     2|1WHRWwQmZOZDAhp2Q...|\n",
            "|EQ-TZ2eeD_E0BHuvo...|   0|2015-08-19 14:31:45|    0|l3Wk_mvAog6XANIuG...|  4.0|Locals recommende...|     0|ZbqSHbgCjzVAqaa7N...|\n",
            "|lj-E32x9_FA7GmUrB...|   0|2014-06-27 22:44:01|    0|XW_LfMv0fV21l9c6x...|  4.0|Love going here f...|     0|9OAtfnWag-ajVxRbU...|\n",
            "|RZtGWDLCAtuipwaZ-...|   0|2009-10-14 19:57:14|    0|8JFGBuHMoiNDyfcxu...|  4.0|Good food--loved ...|     0|smOvOajNG0lS4Pq7d...|\n",
            "|otQS34_MymijPTdNB...|   0|2011-10-27 17:12:05|    2|UBp0zWyH60Hmw6Fsa...|  4.0|The bun makes the...|     0|4Uh27DgGzsp6PqrH9...|\n",
            "|BVndHaLihEYbr76Z0...|   0|2014-10-11 16:22:06|    0|OAhBYw8IQ6wlfw1ow...|  5.0|Great place for b...|     0|1C2lxzUo1Hyye4RFI...|\n",
            "|YtSqYv1Q_pOltsVPS...|   0|2013-06-24 11:21:25|    0|oyaMhzBSwfGgemSGu...|  5.0|Tremendous servic...|     0|Dd1jQj7S-BFGqRbAp...|\n",
            "|rBdG_23USc7DletfZ...|   0|2014-08-10 19:41:43|    0|LnGZB0fjfgeVDVz5I...|  4.0|The hubby and I h...|     1|j2wlzrntrbKwyOcOi...|\n",
            "|CLEWowfkj-wKYJlQD...|   1|2016-03-07 00:02:18|    0|u2vzZaOqJ2feRshaa...|  5.0|I go to blow bar ...|     2|NDZvyYHTUWWu-kqgQ...|\n",
            "|eFvzHawVJofxSnD7T...|   0|2014-11-12 15:30:27|    0|Xs8Z8lmKkosqW5mw_...|  5.0|My absolute favor...|     0|IQsF3Rc6IgCzjVV9D...|\n",
            "+--------------------+----+-------------------+-----+--------------------+-----+--------------------+------+--------------------+\n",
            "only showing top 20 rows\n",
            "\n"
          ]
        }
      ],
      "source": [
        "# Read JSON file into dataframe\n",
        "path='/content/drive/MyDrive/YELP_DATASET/'\n",
        "\n",
        "df_review = spark.read.json(path + 'yelp_academic_dataset_review.json')\n",
        "df_review.printSchema()\n",
        "\n",
        "df_review  = df_review.drop('_corrupt_record')\n",
        "df_review.show()"
      ]
    },
    {
      "cell_type": "code",
      "execution_count": 9,
      "metadata": {
        "id": "Csf2H4wGYnGY",
        "colab": {
          "base_uri": "https://localhost:8080/"
        },
        "outputId": "7f73981e-929d-4ca9-e3c7-b724bab9a182"
      },
      "outputs": [
        {
          "output_type": "stream",
          "name": "stdout",
          "text": [
            "root\n",
            " |-- address: string (nullable = true)\n",
            " |-- attributes: struct (nullable = true)\n",
            " |    |-- AcceptsInsurance: string (nullable = true)\n",
            " |    |-- AgesAllowed: string (nullable = true)\n",
            " |    |-- Alcohol: string (nullable = true)\n",
            " |    |-- Ambience: string (nullable = true)\n",
            " |    |-- BYOB: string (nullable = true)\n",
            " |    |-- BYOBCorkage: string (nullable = true)\n",
            " |    |-- BestNights: string (nullable = true)\n",
            " |    |-- BikeParking: string (nullable = true)\n",
            " |    |-- BusinessAcceptsBitcoin: string (nullable = true)\n",
            " |    |-- BusinessAcceptsCreditCards: string (nullable = true)\n",
            " |    |-- BusinessParking: string (nullable = true)\n",
            " |    |-- ByAppointmentOnly: string (nullable = true)\n",
            " |    |-- Caters: string (nullable = true)\n",
            " |    |-- CoatCheck: string (nullable = true)\n",
            " |    |-- Corkage: string (nullable = true)\n",
            " |    |-- DietaryRestrictions: string (nullable = true)\n",
            " |    |-- DogsAllowed: string (nullable = true)\n",
            " |    |-- DriveThru: string (nullable = true)\n",
            " |    |-- GoodForDancing: string (nullable = true)\n",
            " |    |-- GoodForKids: string (nullable = true)\n",
            " |    |-- GoodForMeal: string (nullable = true)\n",
            " |    |-- HairSpecializesIn: string (nullable = true)\n",
            " |    |-- HappyHour: string (nullable = true)\n",
            " |    |-- HasTV: string (nullable = true)\n",
            " |    |-- Music: string (nullable = true)\n",
            " |    |-- NoiseLevel: string (nullable = true)\n",
            " |    |-- Open24Hours: string (nullable = true)\n",
            " |    |-- OutdoorSeating: string (nullable = true)\n",
            " |    |-- RestaurantsAttire: string (nullable = true)\n",
            " |    |-- RestaurantsCounterService: string (nullable = true)\n",
            " |    |-- RestaurantsDelivery: string (nullable = true)\n",
            " |    |-- RestaurantsGoodForGroups: string (nullable = true)\n",
            " |    |-- RestaurantsPriceRange2: string (nullable = true)\n",
            " |    |-- RestaurantsReservations: string (nullable = true)\n",
            " |    |-- RestaurantsTableService: string (nullable = true)\n",
            " |    |-- RestaurantsTakeOut: string (nullable = true)\n",
            " |    |-- Smoking: string (nullable = true)\n",
            " |    |-- WheelchairAccessible: string (nullable = true)\n",
            " |    |-- WiFi: string (nullable = true)\n",
            " |-- business_id: string (nullable = true)\n",
            " |-- categories: string (nullable = true)\n",
            " |-- city: string (nullable = true)\n",
            " |-- hours: struct (nullable = true)\n",
            " |    |-- Friday: string (nullable = true)\n",
            " |    |-- Monday: string (nullable = true)\n",
            " |    |-- Saturday: string (nullable = true)\n",
            " |    |-- Sunday: string (nullable = true)\n",
            " |    |-- Thursday: string (nullable = true)\n",
            " |    |-- Tuesday: string (nullable = true)\n",
            " |    |-- Wednesday: string (nullable = true)\n",
            " |-- is_open: long (nullable = true)\n",
            " |-- latitude: double (nullable = true)\n",
            " |-- longitude: double (nullable = true)\n",
            " |-- name: string (nullable = true)\n",
            " |-- postal_code: string (nullable = true)\n",
            " |-- review_count: long (nullable = true)\n",
            " |-- stars: double (nullable = true)\n",
            " |-- state: string (nullable = true)\n",
            "\n",
            "+--------------------+--------------------+--------------------+--------------------+--------------+--------------------+-------+-------------+--------------+--------------------+-----------+------------+-----+-----+\n",
            "|             address|          attributes|         business_id|          categories|          city|               hours|is_open|     latitude|     longitude|                name|postal_code|review_count|stars|state|\n",
            "+--------------------+--------------------+--------------------+--------------------+--------------+--------------------+-------+-------------+--------------+--------------------+-----------+------------+-----+-----+\n",
            "|1616 Chapala St, ...|{null, null, null...|Pns2l4eNsfO8kk83d...|Doctors, Traditio...| Santa Barbara|                null|      0|   34.4266787|  -119.7111968|Abby Rappoport, L...|      93101|           7|  5.0|   CA|\n",
            "|87 Grasso Plaza S...|{null, null, null...|mpf3x-BjTdTEA3yCZ...|Shipping Centers,...|        Affton|{8:0-18:30, 0:0-0...|      1|    38.551126|    -90.335695|       The UPS Store|      63123|          15|  3.0|   MO|\n",
            "|5255 E Broadway Blvd|{null, null, null...|tUFrWirKiKi_TAnsV...|Department Stores...|        Tucson|{8:0-23:0, 8:0-22...|      0|    32.223236|   -110.880452|              Target|      85711|          22|  3.5|   AZ|\n",
            "|         935 Race St|{null, null, u'no...|MTSW4McQd7CbVtyjq...|Restaurants, Food...|  Philadelphia|{7:0-21:0, 7:0-20...|      1|   39.9555052|   -75.1555641|  St Honore Pastries|      19107|          80|  4.0|   PA|\n",
            "|       101 Walnut St|{null, null, null...|mWMc6_wTdE0EUBKIG...|Brewpubs, Breweri...|    Green Lane|{12:0-22:0, null,...|      1|   40.3381827|   -75.4716585|Perkiomen Valley ...|      18054|          13|  4.5|   PA|\n",
            "|       615 S Main St|{null, null, u'no...|CF33F8-E6oudUQ46H...|Burgers, Fast Foo...|  Ashland City|{9:0-0:0, 0:0-0:0...|      1|    36.269593|    -87.058943|      Sonic Drive-In|      37015|           6|  2.0|   TN|\n",
            "|8522 Eager Road, ...|{null, null, null...|n_0UpQx1hsNbnPUSl...|Sporting Goods, F...|     Brentwood|{10:0-18:0, 0:0-0...|      1|    38.627695|    -90.340465|     Famous Footwear|      63144|          13|  2.5|   MO|\n",
            "|  400 Pasadena Ave S|                null|qkRM_2X51Yqxk3btl...|Synagogues, Relig...|St. Petersburg|{9:0-17:0, 9:0-17...|      1|     27.76659|    -82.732983|      Temple Beth-El|      33707|           5|  3.5|   FL|\n",
            "|   8025 Mackenzie Rd|{null, null, u'fu...|k0hlBqXX-Bt0vf1op...|Pubs, Restaurants...|        Affton|                null|      0|   38.5651648|   -90.3210868|Tsevi's Pub And G...|      63123|          19|  3.0|   MO|\n",
            "| 2312 Dickerson Pike|{null, null, u'no...|bBDDEgkFA1Otx9Lfe...|Ice Cream & Froze...|     Nashville|{6:0-16:0, 0:0-0:...|      1|   36.2081024|   -86.7681696|      Sonic Drive-In|      37207|          10|  1.5|   TN|\n",
            "|21705 Village Lak...|{null, null, null...|UJsufbvfyfONHeWdv...|Department Stores...| Land O' Lakes|{9:30-21:30, 9:30...|      1|28.1904587953|-82.4573802199|           Marshalls|      34639|           6|  3.5|   FL|\n",
            "|                    |{null, null, 'non...|eEOYSgkmpB90uNA7l...|Vietnamese, Food,...|     Tampa Bay|{11:0-14:0, 11:0-...|      1|   27.9552692|   -82.4563199|Vietnamese Food T...|      33602|          10|  4.0|   FL|\n",
            "|        8901 US 31 S|{null, null, 'non...|il_Ro8jwPlHresjw9...|American (Traditi...|  Indianapolis|{6:0-22:0, 6:0-22...|      1|39.6371332838| -86.127217412|             Denny's|      46227|          28|  2.5|   IN|\n",
            "|   15 N Missouri Ave|{null, null, null...|jaxMSoInw8Poo3XeM...|General Dentistry...|    Clearwater|{null, 7:30-15:30...|      1|    27.966235|    -82.787412|        Adams Dental|      33755|          10|  5.0|   FL|\n",
            "|       2575 E Bay Dr|{null, null, u'no...|0bPLkL0QhhPO5kt1_...|Food, Delis, Ital...|         Largo|{10:0-20:0, 10:0-...|      0|   27.9161159|   -82.7604608|Zio's Italian Market|      33771|         100|  4.5|   FL|\n",
            "|         205 Race St|{null, null, 'ful...|MUTTqe8uqyMdBl186...|Sushi Bars, Resta...|  Philadelphia|{13:30-23:0, null...|      1|    39.953949|   -75.1432262|            Tuna Bar|      19106|         245|  4.0|   PA|\n",
            "|     625 N Stone Ave|{null, null, null...|rBmpy_Y1UbBx8ggHl...|Automotive, Auto ...|        Tucson|{8:0-17:0, 0:0-0:...|      1|   32.2298719|  -110.9723419|Arizona Truck Out...|      85705|          10|  4.5|   AZ|\n",
            "|        712 Adams St|{null, null, null...|M0XSSHqrASOnhgbWD...|Vape Shops, Tobac...|   New Orleans|{10:0-19:0, 10:0-...|      1|29.9414679565| -90.129952757|      Herb Import Co|      70118|           5|  4.0|   LA|\n",
            "|     1241 Airline Dr|                null|8wGISYjYkE2tSqn3c...|Automotive, Car R...|        Kenner|{8:0-17:0, 8:0-17...|      1|    29.981183|   -90.2540123|    Nifty Car Rental|      70062|          14|  3.5|   LA|\n",
            "|       1224 South St|{null, null, u'no...|ROeacJQwBeh05Rqg7...| Korean, Restaurants|  Philadelphia|{11:30-20:30, 11:...|      1|    39.943223|    -75.162568|                 BAP|      19147|         205|  4.5|   PA|\n",
            "+--------------------+--------------------+--------------------+--------------------+--------------+--------------------+-------+-------------+--------------+--------------------+-----------+------------+-----+-----+\n",
            "only showing top 20 rows\n",
            "\n"
          ]
        }
      ],
      "source": [
        "df_business = spark.read.json(path + 'yelp_academic_dataset_business.json')\n",
        "df_business.printSchema()\n",
        "df_business.show()"
      ]
    },
    {
      "cell_type": "markdown",
      "metadata": {
        "id": "LIopbGC6T-_a"
      },
      "source": [
        "#Per ogni business calcolare la media delle recensioni ed ordinarle in ordine descrescente\n",
        "\n"
      ]
    },
    {
      "cell_type": "code",
      "execution_count": 10,
      "metadata": {
        "id": "dzJPTeQMz0AB",
        "colab": {
          "base_uri": "https://localhost:8080/"
        },
        "outputId": "10f7c416-ca5e-44ba-c3d3-e0ce8cb727f1"
      },
      "outputs": [
        {
          "output_type": "stream",
          "name": "stdout",
          "text": [
            "+--------------------+--------------------+--------+------------+\n",
            "|                name|          categories|avgStars|review_count|\n",
            "+--------------------+--------------------+--------+------------+\n",
            "|            Manolito|Cocktail Bars, Cu...|     5.0|         144|\n",
            "|Night Lizard Brew...|Food, Breweries, ...|     5.0|         133|\n",
            "|Aesthetically Spe...|Waxing, Hair Remo...|     5.0|         132|\n",
            "|Lake Appliance Re...|Appliances & Repa...|     5.0|         123|\n",
            "|        Diskin Cider|Food, Cideries, T...|     5.0|         117|\n",
            "|      Low Price Keys|Home Services, Au...|     5.0|         112|\n",
            "|Walls Jewelry Rep...|Watch Repair, Loc...|     5.0|         112|\n",
            "|     Luhv Vegan Deli|Restaurants, Vega...|     5.0|         107|\n",
            "|Aladdin's Market ...|Convenience Store...|     5.0|         105|\n",
            "|ella & louie flowers|Flowers & Gifts, ...|     5.0|         103|\n",
            "|Premiere Center f...|Medical Spas, Pro...|     5.0|          97|\n",
            "|Honky Tonk Party ...|Bus Tours, Event ...|     5.0|          93|\n",
            "| Faedo Family Bakery|Bakeries, Food, R...|     5.0|          93|\n",
            "|       Drink & Learn|Beer, Wine & Spir...|     5.0|          90|\n",
            "|T J Paws Self-Ser...|Pet Groomers, Pet...|     5.0|          89|\n",
            "|          Stolen Sun|Nightlife, Gastro...|     5.0|          84|\n",
            "|Ceremonies By Nan...|Officiants, Event...|     5.0|          81|\n",
            "| Stateside Vodka Bar|Venues & Event Sp...|     5.0|          79|\n",
            "|   Eagle Inspections|Home Services, Pe...|     5.0|          76|\n",
            "|Steves iPhone Repair|Professional Serv...|     5.0|          75|\n",
            "+--------------------+--------------------+--------+------------+\n",
            "only showing top 20 rows\n",
            "\n"
          ]
        }
      ],
      "source": [
        "from pyspark.sql.functions import col\n",
        "\n",
        "df_review.groupBy(\"business_id\") \\\n",
        "  .avg(\"stars\") \\\n",
        "  .join(df_business, df_business.business_id==df_review.business_id, 'outer') \\\n",
        "  .select('name','categories',col('avg(stars)').alias(\"avgStars\"),'review_count')\\\n",
        "  .sort(col('avgStars').desc(),col('review_count').desc()) \\\n",
        "  .show()"
      ]
    },
    {
      "cell_type": "markdown",
      "metadata": {
        "id": "51Et6n8dAGYd"
      },
      "source": [
        "#Trovare i ristoranti migliori a Philadelphia a seconda delle stella\n"
      ]
    },
    {
      "cell_type": "code",
      "execution_count": null,
      "metadata": {
        "colab": {
          "base_uri": "https://localhost:8080/"
        },
        "id": "CsHAmbY64NXq",
        "outputId": "e671121e-5ac0-417b-f6e9-13acf3769abc"
      },
      "outputs": [
        {
          "name": "stdout",
          "output_type": "stream",
          "text": [
            "+--------------------+--------------------+-----------+------------+-----+------------+\n",
            "|                name|             address| categories|        city|stars|review_count|\n",
            "+--------------------+--------------------+-----------+------------+-----+------------+\n",
            "|         Cheers Cafe|2601 E Westmorela...|Restaurants|Philadelphia|  5.0|           6|\n",
            "|               Gayle|        617 S 3rd St|Restaurants|Philadelphia|  4.5|          18|\n",
            "|        Hunan Palace|  6118 Lancaster Ave|Restaurants|Philadelphia|  4.5|           7|\n",
            "|         Yummy Diner|        34 N 52nd St|Restaurants|Philadelphia|  4.5|           6|\n",
            "|Shank & Evelyn's ...|       932 S 10th St|Restaurants|Philadelphia|  4.5|           5|\n",
            "|               Saute|      775 S Front St|Restaurants|Philadelphia|  4.0|          25|\n",
            "|      Bistro Juliana|2723 E Cumberland St|Restaurants|Philadelphia|  4.0|          14|\n",
            "|          Roselena's| 1623 E Passyunk Ave|Restaurants|Philadelphia|  4.0|          10|\n",
            "|        Astral Plane| 1708 Lombard Street|Restaurants|Philadelphia|  4.0|           9|\n",
            "|El Provocon Resta...|   141 W Wyoming Ave|Restaurants|Philadelphia|  4.0|           7|\n",
            "+--------------------+--------------------+-----------+------------+-----+------------+\n",
            "\n"
          ]
        }
      ],
      "source": [
        "df_business.select('name','address','categories','city','stars','review_count')\\\n",
        ".where(df_business.city == 'Philadelphia')\\\n",
        ".where(df_business.categories=='Restaurants')\\\n",
        ".sort(df_business.stars.desc(),df_business.review_count.desc())\\\n",
        ".limit(10)\\\n",
        ".show()"
      ]
    },
    {
      "cell_type": "markdown",
      "metadata": {
        "id": "FleFYx-hAQ3u"
      },
      "source": [
        "#Trovare i migliori 10 Business accettano Bitcoin come metodo di pagamento"
      ]
    },
    {
      "cell_type": "code",
      "execution_count": null,
      "metadata": {
        "colab": {
          "base_uri": "https://localhost:8080/"
        },
        "id": "De36L1xS-Xvp",
        "outputId": "568f19fc-0054-46bb-92ec-8f9c3dfff22e"
      },
      "outputs": [
        {
          "name": "stdout",
          "output_type": "stream",
          "text": [
            "+--------------------+--------------------+--------------------+---------------+-----+------------+\n",
            "|                name|             address|          categories|           city|stars|review_count|\n",
            "+--------------------+--------------------+--------------------+---------------+-----+------------+\n",
            "|A New Twist Ballo...|                    |Event Planning & ...|          Boise|  5.0|         276|\n",
            "|3D Carpet Cleanin...|6610 W Linebaugh ...|Home & Garden, Lo...|          Tampa|  5.0|         203|\n",
            "|          Oat Bakery|        5 W Haley St|Bakeries, Vegan, ...|  Santa Barbara|  5.0|         123|\n",
            "|     Blinds Brothers|                    |Home & Garden, Sh...|   Philadelphia|  5.0|          97|\n",
            "|        Paradise Spa|       174 107th Ave|Hydrotherapy, Mas...|Treasure Island|  5.0|          74|\n",
            "|            DILIGENT|    263 Riverside Dr|Real Estate, Home...|      Nashville|  5.0|          67|\n",
            "|          Dj Hecktik|                    |Photo Booth Renta...|  Santa Barbara|  5.0|          67|\n",
            "|         A&M Factory|   360 Lancaster Ave|Restaurants, Brea...|        Malvern|  5.0|          57|\n",
            "|Bella Vista Lash ...|  529 Washington Ave|Hair Removal, Bea...|   Philadelphia|  5.0|          55|\n",
            "|           AL Madina|     662 Oakfield Dr|Delis, Middle Eas...|        Brandon|  5.0|          51|\n",
            "+--------------------+--------------------+--------------------+---------------+-----+------------+\n",
            "\n"
          ]
        }
      ],
      "source": [
        "df_business.select('name','address','categories','city','stars','review_count')\\\n",
        ".where(df_business.attributes.BusinessAcceptsBitcoin==True)\\\n",
        ".sort(col('stars').desc(),col('review_count').desc())\\\n",
        ".limit(10).show()"
      ]
    },
    {
      "cell_type": "markdown",
      "metadata": {
        "id": "DsFGya3sNxJJ"
      },
      "source": [
        "#Recensioni Annuali"
      ]
    },
    {
      "cell_type": "code",
      "execution_count": null,
      "metadata": {
        "colab": {
          "base_uri": "https://localhost:8080/"
        },
        "id": "gY31YsWFJyak",
        "outputId": "f45de84c-8003-43a0-f6a1-5c7def6e38d8"
      },
      "outputs": [
        {
          "name": "stdout",
          "output_type": "stream",
          "text": [
            "+----+------+\n",
            "|year| count|\n",
            "+----+------+\n",
            "|2022| 25257|\n",
            "|2021|493939|\n",
            "|2020|442892|\n",
            "|2019|724905|\n",
            "|2018|756670|\n",
            "|2017|697776|\n",
            "|2016|647161|\n",
            "|2015|590263|\n",
            "|2014|446222|\n",
            "|2013|328691|\n",
            "|2012|244979|\n",
            "|2011|198099|\n",
            "|2010|118081|\n",
            "|2009| 63595|\n",
            "|2008| 41149|\n",
            "|2007| 13107|\n",
            "|2006|  3452|\n",
            "|2005|   757|\n",
            "|null|     1|\n",
            "+----+------+\n",
            "\n"
          ]
        }
      ],
      "source": [
        "from pyspark.sql.functions import *\n",
        "\n",
        "df_reviews_data=df_review.select(col(\"date\"), \n",
        "     year(col(\"date\")).alias(\"year\"), \n",
        "     month(col(\"date\")).alias(\"month\"))\\\n",
        "     .groupBy(\"year\") \\\n",
        "     .count() \\\n",
        "     .sort(col('year').desc())\n",
        "\n",
        "df_reviews_data.show()"
      ]
    },
    {
      "cell_type": "code",
      "execution_count": null,
      "metadata": {
        "id": "xX5XvpWiKHfK"
      },
      "outputs": [],
      "source": [
        "pandasDF = df_reviews_data.toPandas()"
      ]
    },
    {
      "cell_type": "code",
      "execution_count": null,
      "metadata": {
        "id": "iM9IIvshKqWz"
      },
      "outputs": [],
      "source": [
        "pandasDF.dropna(inplace=True)\n",
        "\n",
        "#change datatype of column\n",
        "pandasDF = pandasDF.astype({'year': int})"
      ]
    },
    {
      "cell_type": "code",
      "execution_count": null,
      "metadata": {
        "id": "nfF5uljELzw3"
      },
      "outputs": [],
      "source": [
        "pandasDF.to_excel(\"/content/drive/MyDrive/YELP_DATASET/Recensioni_Anno.xlsx\")\n"
      ]
    },
    {
      "cell_type": "markdown",
      "metadata": {
        "id": "SndiFkLsN4Br"
      },
      "source": [
        "#Recensioni Mensili"
      ]
    },
    {
      "cell_type": "code",
      "execution_count": 11,
      "metadata": {
        "id": "MaawGgishlOl",
        "colab": {
          "base_uri": "https://localhost:8080/"
        },
        "outputId": "b0f9693e-3bc3-4335-d466-3ab244f2622f"
      },
      "outputs": [
        {
          "output_type": "stream",
          "name": "stdout",
          "text": [
            "+----+-----+-----+\n",
            "|year|month|count|\n",
            "+----+-----+-----+\n",
            "|2022|    1|25257|\n",
            "|2021|   12|38884|\n",
            "|2021|   11|36103|\n",
            "|2021|   10|39380|\n",
            "|2021|    9|37163|\n",
            "|2021|    8|44989|\n",
            "|2021|    7|48392|\n",
            "|2021|    6|46314|\n",
            "|2021|    5|45953|\n",
            "|2021|    4|42971|\n",
            "|2021|    3|43130|\n",
            "|2021|    2|34289|\n",
            "|2021|    1|36371|\n",
            "|2020|   12|34181|\n",
            "|2020|   11|33315|\n",
            "|2020|   10|39095|\n",
            "|2020|    9|38411|\n",
            "|2020|    8|40214|\n",
            "|2020|    7|38294|\n",
            "|2020|    6|32711|\n",
            "+----+-----+-----+\n",
            "only showing top 20 rows\n",
            "\n"
          ]
        }
      ],
      "source": [
        "from pyspark.sql.functions import *\n",
        "\n",
        "df_reviews_data=df_review.select(col(\"date\"), \n",
        "     year(col(\"date\")).alias(\"year\"), \n",
        "     month(col(\"date\")).alias(\"month\"))\\\n",
        "     .groupBy(\"year\",'month') \\\n",
        "     .count() \\\n",
        "     .sort(col('year').desc(),col('month').desc()) \n",
        "\n",
        "df_reviews_data.show()"
      ]
    },
    {
      "cell_type": "code",
      "execution_count": 12,
      "metadata": {
        "id": "ZVTd_zQkSdTB"
      },
      "outputs": [],
      "source": [
        "df_reviews_data=df_reviews_data.na.drop()\n"
      ]
    },
    {
      "cell_type": "code",
      "execution_count": null,
      "metadata": {
        "id": "YdqWymbmEYS0"
      },
      "outputs": [],
      "source": [
        "pandasDF.to_excel(\"/content/drive/MyDrive/YELP_DATASET/Recensioni_Anno_mese.xlsx\")\n"
      ]
    },
    {
      "cell_type": "markdown",
      "metadata": {
        "id": "7EFO5WaGN7xo"
      },
      "source": [
        "#Ristoranti"
      ]
    },
    {
      "cell_type": "code",
      "execution_count": null,
      "metadata": {
        "colab": {
          "base_uri": "https://localhost:8080/"
        },
        "id": "D9xKWdwW6iVs",
        "outputId": "bb560b32-6338-4130-a5d3-1bafe7783c8e"
      },
      "outputs": [
        {
          "name": "stdout",
          "output_type": "stream",
          "text": [
            "+-------+-------------+--------------+------------------+------------+\n",
            "|is_open|     latitude|     longitude|          avgStars|review_count|\n",
            "+-------+-------------+--------------+------------------+------------+\n",
            "|      0|   27.7693413|   -82.6355183|             3.875|           8|\n",
            "|      0|28.0116750414|-82.7883693274|               4.0|          12|\n",
            "|      1|   39.9407892|   -75.2596751|2.5714285714285716|           6|\n",
            "|      1|   39.5362876|   -119.818231| 3.658536585365854|          37|\n",
            "|      0|    29.959323|   -90.1720183|3.3333333333333335|           5|\n",
            "|      1|    38.703965|    -90.398387|               5.0|           8|\n",
            "|      1|   39.9517142|   -75.1557198|3.5714285714285716|           7|\n",
            "|      0|    39.929374|   -75.1638426|               3.9|          10|\n",
            "|      0|   39.9467686|   -74.9669128|             2.625|           8|\n",
            "|      1|   38.5863902|   -90.2768608|1.0909090909090908|          11|\n",
            "|      1|   40.0795109|    -75.173133|3.3636363636363638|          19|\n",
            "|      0|   32.3088617|  -110.8454964|               1.8|           5|\n",
            "|      1|   27.9784761|   -82.5499481|               2.6|           5|\n",
            "|      1|   40.0220092|   -75.1261474| 3.857142857142857|           7|\n",
            "|      1|   39.9528591|   -75.0966681|2.5714285714285716|           7|\n",
            "|      1|   53.4722697|  -113.4504354| 4.285714285714286|           7|\n",
            "|      1|    39.945509|   -75.0920269| 3.888888888888889|           9|\n",
            "|      0|39.9953663224|-75.7481616027|1.3333333333333333|           6|\n",
            "|      0|      39.8974|    -74.929883|              3.75|           7|\n",
            "|      0|   39.9489511|   -75.1630431|2.9130434782608696|          23|\n",
            "+-------+-------------+--------------+------------------+------------+\n",
            "only showing top 20 rows\n",
            "\n"
          ]
        }
      ],
      "source": [
        "from pyspark.sql.functions import col\n",
        "\n",
        "df_review_dataset=df_review.groupBy(\"business_id\") \\\n",
        "  .avg(\"stars\") \\\n",
        "  .join(df_business, df_business.business_id==df_review.business_id, 'outer') \\\n",
        "  .where(df_business.categories=='Restaurants')\\\n",
        "  .select('is_open','latitude', 'longitude',col('avg(stars)').alias(\"avgStars\"),'review_count')\n",
        "\n",
        "df_review_dataset.show()"
      ]
    },
    {
      "cell_type": "markdown",
      "metadata": {
        "id": "LfLvAFux-jM0"
      },
      "source": [
        "#Linear Regressor"
      ]
    },
    {
      "cell_type": "code",
      "execution_count": 13,
      "metadata": {
        "colab": {
          "base_uri": "https://localhost:8080/"
        },
        "id": "KDYY6ZX5J6Ci",
        "outputId": "7da97208-2ac1-4c7d-9afe-d7e767ed038d"
      },
      "outputs": [
        {
          "output_type": "stream",
          "name": "stdout",
          "text": [
            "+----+-----+-----+-------------+-----+\n",
            "|year|month|count|     features|label|\n",
            "+----+-----+-----+-------------+-----+\n",
            "|2022|    1|25257| [2022.0,1.0]| 54.0|\n",
            "|2021|   12|38884|[2021.0,12.0]| 95.0|\n",
            "|2021|   11|36103|[2021.0,11.0]| 77.0|\n",
            "|2021|   10|39380|[2021.0,10.0]| 97.0|\n",
            "|2021|    9|37163| [2021.0,9.0]| 84.0|\n",
            "|2021|    8|44989| [2021.0,8.0]|111.0|\n",
            "|2021|    7|48392| [2021.0,7.0]|124.0|\n",
            "|2021|    6|46314| [2021.0,6.0]|116.0|\n",
            "|2021|    5|45953| [2021.0,5.0]|113.0|\n",
            "|2021|    4|42971| [2021.0,4.0]|106.0|\n",
            "|2021|    3|43130| [2021.0,3.0]|108.0|\n",
            "|2021|    2|34289| [2021.0,2.0]| 74.0|\n",
            "|2021|    1|36371| [2021.0,1.0]| 79.0|\n",
            "|2020|   12|34181|[2020.0,12.0]| 73.0|\n",
            "|2020|   11|33315|[2020.0,11.0]| 70.0|\n",
            "|2020|   10|39095|[2020.0,10.0]| 96.0|\n",
            "|2020|    9|38411| [2020.0,9.0]| 92.0|\n",
            "|2020|    8|40214| [2020.0,8.0]| 99.0|\n",
            "|2020|    7|38294| [2020.0,7.0]| 91.0|\n",
            "|2020|    6|32711| [2020.0,6.0]| 69.0|\n",
            "+----+-----+-----+-------------+-----+\n",
            "only showing top 20 rows\n",
            "\n"
          ]
        }
      ],
      "source": [
        "from pyspark.ml.feature import VectorAssembler,StringIndexer\n",
        "\n",
        "columns=df_reviews_data.columns\n",
        "columns.remove('count')\n",
        "assembler=VectorAssembler(inputCols=columns, outputCol='features')\n",
        "df=assembler.transform(df_reviews_data)\n",
        "\n",
        "stringIndexer=StringIndexer(inputCol='count',outputCol='label')\n",
        "si_model=stringIndexer.fit(df)\n",
        "df=si_model.transform(df)\n",
        "df.show()\n"
      ]
    },
    {
      "cell_type": "code",
      "execution_count": null,
      "metadata": {
        "colab": {
          "base_uri": "https://localhost:8080/"
        },
        "id": "ibjXSmEt5SMb",
        "outputId": "9d687dce-b935-4c01-915f-3f6192926ef0"
      },
      "outputs": [
        {
          "name": "stdout",
          "output_type": "stream",
          "text": [
            "root\n",
            " |-- year: integer (nullable = true)\n",
            " |-- month: integer (nullable = true)\n",
            " |-- count: long (nullable = false)\n",
            " |-- features: vector (nullable = true)\n",
            " |-- label: double (nullable = false)\n",
            "\n"
          ]
        }
      ],
      "source": [
        "df.printSchema()"
      ]
    },
    {
      "cell_type": "code",
      "execution_count": 14,
      "metadata": {
        "id": "7r_wWo0nmrq3"
      },
      "outputs": [],
      "source": [
        "trainingData=df.sampleBy('label', fractions={0:0.7,1:0.7,2: 0.7}, seed=100)\n",
        "testData=df.subtract(trainingData)\n"
      ]
    },
    {
      "cell_type": "code",
      "execution_count": 19,
      "metadata": {
        "id": "qkBDBm_iVim7"
      },
      "outputs": [],
      "source": [
        "from pyspark.ml.regression import LinearRegression\n",
        "regressor = LinearRegression(featuresCol = 'features', labelCol = 'label')\n"
      ]
    },
    {
      "cell_type": "code",
      "execution_count": 20,
      "metadata": {
        "colab": {
          "base_uri": "https://localhost:8080/"
        },
        "id": "Ti4YfUdB9B3z",
        "outputId": "ebefecf0-5190-4116-9af3-c81c1df06f57"
      },
      "outputs": [
        {
          "output_type": "stream",
          "name": "stderr",
          "text": [
            "/content/spark-3.2.1-bin-hadoop3.2/python/pyspark/sql/context.py:127: FutureWarning: Deprecated in 3.0.0. Use SparkSession.builder.getOrCreate() instead.\n",
            "  FutureWarning\n"
          ]
        },
        {
          "output_type": "stream",
          "name": "stdout",
          "text": [
            "+----+-----+-----+-------------+-----+--------------------+\n",
            "|year|month|count|     features|label|          prediction|\n",
            "+----+-----+-----+-------------+-----+--------------------+\n",
            "|2022|    1|25257| [2022.0,1.0]| 54.0| 0.16666665811447956|\n",
            "|2021|   12|38884|[2021.0,12.0]| 95.0| -3.3333333432642576|\n",
            "|2021|   11|36103|[2021.0,11.0]| 77.0| -3.0000000097503516|\n",
            "|2021|   10|39380|[2021.0,10.0]| 97.0| -2.6666666762365026|\n",
            "|2021|    9|37163| [2021.0,9.0]| 84.0| -2.3333333427225966|\n",
            "|2021|    8|44989| [2021.0,8.0]|111.0| -2.0000000092086907|\n",
            "|2021|    7|48392| [2021.0,7.0]|124.0| -1.6666666756948416|\n",
            "|2021|    6|46314| [2021.0,6.0]|116.0| -1.3333333421809357|\n",
            "|2021|    5|45953| [2021.0,5.0]|113.0| -1.0000000086670298|\n",
            "|2021|    4|42971| [2021.0,4.0]|106.0| -0.6666666751531807|\n",
            "|2021|    3|43130| [2021.0,3.0]|108.0|-0.33333334163927475|\n",
            "|2021|    2|34289| [2021.0,2.0]| 74.0|-8.12536882222048E-9|\n",
            "|2021|    1|36371| [2021.0,1.0]| 79.0| 0.33333332538848026|\n",
            "|2020|   12|34181|[2020.0,12.0]| 73.0|  -3.166666675990257|\n",
            "|2020|   11|33315|[2020.0,11.0]| 70.0|  -2.833333342476351|\n",
            "|2020|   10|39095|[2020.0,10.0]| 96.0|  -2.500000008962502|\n",
            "|2020|    9|38411| [2020.0,9.0]| 92.0|  -2.166666675448596|\n",
            "|2020|    8|40214| [2020.0,8.0]| 99.0|   -1.83333334193469|\n",
            "|2020|    7|38294| [2020.0,7.0]| 91.0|  -1.500000008420841|\n",
            "|2020|    6|32711| [2020.0,6.0]| 69.0|  -1.166666674906935|\n",
            "+----+-----+-----+-------------+-----+--------------------+\n",
            "only showing top 20 rows\n",
            "\n"
          ]
        }
      ],
      "source": [
        "#Learn to fit the model from training set\n",
        "regressor = regressor.fit(trainingData)\n",
        "\n",
        "#To predict the prices on testing set\n",
        "pred = regressor.evaluate(testData)\n",
        "\n",
        "#Predict the model\n",
        "pred.predictions.show()"
      ]
    },
    {
      "cell_type": "code",
      "source": [
        "from pyspark.ml.evaluation import RegressionEvaluator\n",
        "eval = RegressionEvaluator(labelCol=\"label\", predictionCol=\"prediction\", metricName=\"rmse\")\n",
        "\n",
        "# Root Mean Square Error\n",
        "rmse = eval.evaluate(pred.predictions)\n",
        "print(\"RMSE: %.3f\" % rmse)\n",
        "\n",
        "# Mean Square Error\n",
        "mse = eval.evaluate(pred.predictions, {eval.metricName: \"mse\"})\n",
        "print(\"MSE: %.3f\" % mse)\n",
        "\n",
        "# Mean Absolute Error\n",
        "mae = eval.evaluate(pred.predictions, {eval.metricName: \"mae\"})\n",
        "print(\"MAE: %.3f\" % mae)\n",
        "\n",
        "# r2 - coefficient of determination\n",
        "r2 = eval.evaluate(pred.predictions, {eval.metricName: \"r2\"})\n",
        "print(\"r2: %.3f\" %r2)"
      ],
      "metadata": {
        "colab": {
          "base_uri": "https://localhost:8080/"
        },
        "id": "qy42RlbzJhnj",
        "outputId": "8361f8b0-47a6-4c45-f3c4-a6fac981c3ec"
      },
      "execution_count": 22,
      "outputs": [
        {
          "output_type": "stream",
          "name": "stderr",
          "text": [
            "/content/spark-3.2.1-bin-hadoop3.2/python/pyspark/sql/context.py:127: FutureWarning: Deprecated in 3.0.0. Use SparkSession.builder.getOrCreate() instead.\n",
            "  FutureWarning\n"
          ]
        },
        {
          "output_type": "stream",
          "name": "stdout",
          "text": [
            "RMSE: 117.611\n",
            "MSE: 13832.394\n",
            "MAE: 102.201\n",
            "r2: -3.106\n"
          ]
        }
      ]
    },
    {
      "cell_type": "markdown",
      "metadata": {
        "id": "CH5SpK1-knW7"
      },
      "source": [
        "#RandomForest Regressor"
      ]
    },
    {
      "cell_type": "code",
      "execution_count": 23,
      "metadata": {
        "id": "MGZpLDwWGhki"
      },
      "outputs": [],
      "source": [
        "from pyspark.ml.feature import StringIndexer\n",
        "from pyspark.ml.feature import VectorAssembler\n",
        "\n",
        "\n",
        "columns=df_reviews_data.columns\n",
        "columns.remove('count')\n",
        "\n",
        "assembler=VectorAssembler(inputCols=columns,outputCol=\"features\")\n",
        "df=assembler.transform(df_reviews_data)\n",
        "\n",
        "stringIndexer=StringIndexer(inputCol='count',outputCol=\"label\")\n",
        "si_model=stringIndexer.fit(df)\n",
        "df=si_model.transform(df)"
      ]
    },
    {
      "cell_type": "code",
      "execution_count": 26,
      "metadata": {
        "id": "enxF-B2BDRhl"
      },
      "outputs": [],
      "source": [
        "#Split training and testing data\n",
        "trainingData = df.sampleBy(\"label\", fractions={0:0.7,1:0.7,2:0.7},seed=100)\n",
        "testData=df.subtract(trainingData)"
      ]
    },
    {
      "cell_type": "code",
      "source": [
        "from pyspark.ml.regression import RandomForestRegressor\n",
        "rf = RandomForestRegressor(featuresCol = 'features', labelCol = 'label', numTrees=100, maxDepth=2)\n",
        "model = rf.fit(trainingData)\n",
        "test_dt = model.transform(testData)\n",
        "test_dt.show(truncate=False)"
      ],
      "metadata": {
        "colab": {
          "base_uri": "https://localhost:8080/"
        },
        "id": "wREP61e2OVf2",
        "outputId": "0f190082-af06-47e6-a1e5-7bededcbcc4d"
      },
      "execution_count": 32,
      "outputs": [
        {
          "output_type": "stream",
          "name": "stdout",
          "text": [
            "+----+-----+-----+-------------+-----+------------------+\n",
            "|year|month|count|features     |label|prediction        |\n",
            "+----+-----+-----+-------------+-----+------------------+\n",
            "|2022|1    |25257|[2022.0,1.0] |54.0 |1.4009166666666666|\n",
            "|2021|12   |38884|[2021.0,12.0]|95.0 |0.7869166666666668|\n",
            "|2021|11   |36103|[2021.0,11.0]|77.0 |0.7869166666666668|\n",
            "|2021|10   |39380|[2021.0,10.0]|97.0 |0.7869166666666668|\n",
            "|2021|9    |37163|[2021.0,9.0] |84.0 |0.7869166666666668|\n",
            "|2021|8    |44989|[2021.0,8.0] |111.0|0.9809166666666667|\n",
            "|2021|7    |48392|[2021.0,7.0] |124.0|0.9809166666666667|\n",
            "|2021|6    |46314|[2021.0,6.0] |116.0|0.9809166666666667|\n",
            "|2021|5    |45953|[2021.0,5.0] |113.0|0.9809166666666667|\n",
            "|2021|4    |42971|[2021.0,4.0] |106.0|1.4009166666666666|\n",
            "|2021|3    |43130|[2021.0,3.0] |108.0|1.4009166666666666|\n",
            "|2021|2    |34289|[2021.0,2.0] |74.0 |1.4009166666666666|\n",
            "|2021|1    |36371|[2021.0,1.0] |79.0 |1.4009166666666666|\n",
            "|2020|12   |34181|[2020.0,12.0]|73.0 |0.7869166666666668|\n",
            "|2020|11   |33315|[2020.0,11.0]|70.0 |0.7869166666666668|\n",
            "|2020|10   |39095|[2020.0,10.0]|96.0 |0.7869166666666668|\n",
            "|2020|9    |38411|[2020.0,9.0] |92.0 |0.7869166666666668|\n",
            "|2020|8    |40214|[2020.0,8.0] |99.0 |0.9809166666666667|\n",
            "|2020|7    |38294|[2020.0,7.0] |91.0 |0.9809166666666667|\n",
            "|2020|6    |32711|[2020.0,6.0] |69.0 |0.9809166666666667|\n",
            "+----+-----+-----+-------------+-----+------------------+\n",
            "only showing top 20 rows\n",
            "\n"
          ]
        }
      ]
    },
    {
      "cell_type": "code",
      "execution_count": null,
      "metadata": {
        "id": "B1QHgDRIDSOR"
      },
      "outputs": [],
      "source": [
        "#coefficient of the regression model\n",
        "coeff = rf.coefficients\n",
        "\n",
        "#X and Y intercept\n",
        "intr = rf.intercept\n",
        "\n",
        "print (\"The coefficient of the model is : %a\" %coeff)\n",
        "print (\"The Intercept of the model is : %f\" %intr)"
      ]
    },
    {
      "cell_type": "code",
      "execution_count": 33,
      "metadata": {
        "colab": {
          "base_uri": "https://localhost:8080/"
        },
        "id": "0jLAjKsgDXuw",
        "outputId": "2335aba1-1d30-4380-ac55-9652be47d317"
      },
      "outputs": [
        {
          "output_type": "stream",
          "name": "stdout",
          "text": [
            "RMSE: 116.448\n",
            "MSE: 13560.047\n",
            "MAE: 100.970\n",
            "r2: -3.025\n"
          ]
        }
      ],
      "source": [
        "from pyspark.ml.evaluation import RegressionEvaluator\n",
        "evaluator = RegressionEvaluator(labelCol=\"label\", predictionCol=\"prediction\", metricName=\"rmse\")\n",
        "\n",
        "# Root Mean Square Error\n",
        "rmse = evaluator.evaluate(test_dt,{evaluator.metricName: \"rmse\"})\n",
        "print(\"RMSE: %.3f\" % rmse)\n",
        "\n",
        "# Mean Square Error\n",
        "mse = evaluator.evaluate(test_dt,{evaluator.metricName: \"mse\"})\n",
        "print(\"MSE: %.3f\" % mse)\n",
        "\n",
        "# Mean Absolute Error\n",
        "mae = evaluator.evaluate(test_dt,{evaluator.metricName: \"mae\"})\n",
        "print(\"MAE: %.3f\" % mae)\n",
        "\n",
        "# r2 - coefficient of determination\n",
        "r2 = evaluator.evaluate(test_dt,{evaluator.metricName: \"r2\"})\n",
        "print(\"r2: %.3f\" %r2)\n",
        "\n",
        "\n",
        "\n"
      ]
    }
  ],
  "metadata": {
    "application/vnd.databricks.v1+notebook": {
      "dashboards": [],
      "language": "python",
      "notebookMetadata": {
        "pythonIndentUnit": 2
      },
      "notebookName": "WorkshopPySpark_English_NoSolution",
      "notebookOrigID": 1493911226060767,
      "widgets": {}
    },
    "colab": {
      "collapsed_sections": [
        "7EFO5WaGN7xo"
      ],
      "name": "Homework3.ipynb",
      "provenance": [],
      "include_colab_link": true
    },
    "kernelspec": {
      "display_name": "Python 3",
      "name": "python3"
    },
    "language_info": {
      "name": "python"
    }
  },
  "nbformat": 4,
  "nbformat_minor": 0
}
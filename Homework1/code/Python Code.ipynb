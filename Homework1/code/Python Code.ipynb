{
 "cells": [
  {
   "cell_type": "markdown",
   "metadata": {
    "jp-MarkdownHeadingCollapsed": true,
    "tags": []
   },
   "source": [
    "## Connection to the mongodb driver. \n",
    "\n",
    "The connector can be used to access remote database (e.g. Mongo Atlas) as well.\n",
    "\n",
    "**N.B.** You should install the Python package (*pip install pymongo*) to use the API."
   ]
  },
  {
   "cell_type": "code",
   "execution_count": 1,
   "metadata": {},
   "outputs": [],
   "source": [
    "import pymongo\n",
    "import re \n",
    "\n",
    "\n",
    "# Connection\n",
    "client = pymongo.MongoClient('localhost', 27017)"
   ]
  },
  {
   "cell_type": "markdown",
   "metadata": {
    "tags": []
   },
   "source": [
    "## Yelp Dataset"
   ]
  },
  {
   "cell_type": "markdown",
   "metadata": {
    "jp-MarkdownHeadingCollapsed": true,
    "tags": []
   },
   "source": [
    "### Load Yelp Dataset"
   ]
  },
  {
   "cell_type": "code",
   "execution_count": 2,
   "metadata": {},
   "outputs": [],
   "source": [
    "import json \n",
    "\n",
    "path = \"C://Users//annal//Documents//GitHub//BigDataHomework//Homework1//yelp dataset//\"\n",
    "business = []\n",
    "\n",
    "with open(path + 'yelp_academic_dataset_business.json', 'rb') as f:\n",
    "    for jsonObj in f:\n",
    "        business_dict = json.loads(jsonObj)\n",
    "        business.append(business_dict)\n"
   ]
  },
  {
   "cell_type": "code",
   "execution_count": 3,
   "metadata": {},
   "outputs": [],
   "source": [
    "review = []\n",
    "count=0\n",
    "\n",
    "with open(path + 'yelp_academic_dataset_review.json', 'rb') as f:\n",
    "    for jsonObj in f:\n",
    "        review_dict = json.loads(jsonObj)\n",
    "        review.append(review_dict)"
   ]
  },
  {
   "cell_type": "code",
   "execution_count": 13,
   "metadata": {},
   "outputs": [],
   "source": [
    "user = []\n",
    "count = 0\n",
    "\n",
    "with open(path + 'yelp_academic_dataset_user.json', 'rb') as f:\n",
    "    for jsonObj in f:\n",
    "        user_dict = json.loads(jsonObj)\n",
    "        user.append(user_dict)\n",
    "              "
   ]
  },
  {
   "cell_type": "code",
   "execution_count": null,
   "metadata": {},
   "outputs": [],
   "source": [
    "checkin = []\n",
    "\n",
    "with open(path + 'yelp_academic_dataset_checkin.json', 'rb') as f:\n",
    "    for jsonObj in f:\n",
    "        checkin_dict = json.loads(jsonObj)\n",
    "        checkin.append(checkin_dict)\n"
   ]
  },
  {
   "cell_type": "code",
   "execution_count": null,
   "metadata": {},
   "outputs": [],
   "source": [
    "tip = []\n",
    "\n",
    "with open(path + 'yelp_academic_dataset_tip.json', 'rb') as f:\n",
    "    for jsonObj in f:\n",
    "        tip_dict = json.loads(jsonObj)\n",
    "        tip.append(tip_dict)"
   ]
  },
  {
   "cell_type": "markdown",
   "metadata": {},
   "source": [
    "## Preprocessing"
   ]
  },
  {
   "cell_type": "markdown",
   "metadata": {},
   "source": [
    "## Prendo i Ristoranti"
   ]
  },
  {
   "cell_type": "code",
   "execution_count": 4,
   "metadata": {},
   "outputs": [],
   "source": [
    "restaurants=[]\n",
    "temp=\"\"\n",
    "for i in range(0,len(business)):\n",
    "    business_id=business[i]['business_id']\n",
    "    stringa=str(business[i]['categories'])\n",
    "    chunks=stringa.split(',')\n",
    "    if ('Restaurants' in chunks):\n",
    "        restaurants.append(business[i])       "
   ]
  },
  {
   "cell_type": "code",
   "execution_count": 5,
   "metadata": {},
   "outputs": [],
   "source": [
    "allBusinessId=[]\n",
    "for r in restaurants:\n",
    "    allBusinessId.append(r['business_id'])"
   ]
  },
  {
   "cell_type": "code",
   "execution_count": 6,
   "metadata": {},
   "outputs": [],
   "source": [
    "reviewRestaurants=[]\n",
    "\n",
    "for r in review[:1000]:\n",
    "    if (r['business_id'] in allBusinessId):\n",
    "        reviewRestaurants.append(r)"
   ]
  },
  {
   "cell_type": "markdown",
   "metadata": {},
   "source": [
    "### Mi collego al db"
   ]
  },
  {
   "cell_type": "code",
   "execution_count": 7,
   "metadata": {},
   "outputs": [],
   "source": [
    "import pymongo\n",
    "\n",
    "# Connection\n",
    "client = pymongo.MongoClient('localhost', 27017)\n",
    "\n",
    "# Select the db by its name\n",
    "db = client['yelpPython']"
   ]
  },
  {
   "cell_type": "markdown",
   "metadata": {},
   "source": [
    "### Carico le collection "
   ]
  },
  {
   "cell_type": "code",
   "execution_count": 8,
   "metadata": {},
   "outputs": [],
   "source": [
    "#Cancello tutte le collezioni all'inizio per evitare sovrascrizioni\n",
    "\n",
    "lista_collection=list(db.list_collection_names())\n",
    "\n",
    "for col in lista_collection:\n",
    "    mycol = db[col]\n",
    "    mycol.drop()\n"
   ]
  },
  {
   "cell_type": "code",
   "execution_count": 9,
   "metadata": {},
   "outputs": [
    {
     "name": "stdout",
     "output_type": "stream",
     "text": [
      "Available database ->  ['Yelp', 'admin', 'config', 'local', 'students', 'twitter']\n",
      "Available collections ->  []\n"
     ]
    }
   ],
   "source": [
    "# print out available databases names\n",
    "print('Available database -> ', client.list_database_names())\n",
    "print('Available collections -> ', db.list_collection_names())"
   ]
  },
  {
   "cell_type": "code",
   "execution_count": 45,
   "metadata": {},
   "outputs": [],
   "source": [
    "# Create a collection\n",
    "#collection_business = db['yelpBusiness']\n",
    "#res = collection_business.insert_many(business)"
   ]
  },
  {
   "cell_type": "code",
   "execution_count": 10,
   "metadata": {},
   "outputs": [],
   "source": [
    "# Create a collection for the restaurants\n",
    "collection_business_restaurants = db['yelpBusinessRestaurants']\n",
    "res = collection_business_restaurants.insert_many(restaurants)"
   ]
  },
  {
   "cell_type": "code",
   "execution_count": 11,
   "metadata": {},
   "outputs": [],
   "source": [
    "# Create a collection for restaurants\n",
    "collection_review_restaurants = db['yelpReviewRestaurants']\n",
    "res = collection_review_restaurants.insert_many(reviewRestaurants)"
   ]
  },
  {
   "cell_type": "code",
   "execution_count": 14,
   "metadata": {},
   "outputs": [],
   "source": [
    "# Create a collection\n",
    "collection_user= db['yelpUser']\n",
    "res = collection_user.insert_many(user)"
   ]
  },
  {
   "cell_type": "code",
   "execution_count": 11,
   "metadata": {},
   "outputs": [],
   "source": [
    "# Create a collection\n",
    "collection_checkin = db['yelpCheckin']\n",
    "res = collection_checkin.insert_many(checkin)"
   ]
  },
  {
   "cell_type": "code",
   "execution_count": 12,
   "metadata": {},
   "outputs": [],
   "source": [
    "# Create a collection\n",
    "collection_tip= db['yelpTip']\n",
    "res = collection_tip.insert_many(tip)"
   ]
  },
  {
   "cell_type": "code",
   "execution_count": 198,
   "metadata": {},
   "outputs": [],
   "source": [
    "collection_review = db['yelpReview']\n",
    "res = collection_review.insert_many(review[:10000])"
   ]
  },
  {
   "cell_type": "code",
   "execution_count": 12,
   "metadata": {},
   "outputs": [
    {
     "name": "stdout",
     "output_type": "stream",
     "text": [
      "Available database ->  ['Yelp', 'admin', 'config', 'local', 'students', 'twitter', 'yelpPython']\n",
      "Available collections ->  ['yelpReviewRestaurants', 'yelpBusinessRestaurants']\n"
     ]
    }
   ],
   "source": [
    "# print out available databases names\n",
    "print('Available database -> ', client.list_database_names())\n",
    "print('Available collections -> ', db.list_collection_names())"
   ]
  },
  {
   "cell_type": "markdown",
   "metadata": {},
   "source": [
    "### Query Business"
   ]
  },
  {
   "cell_type": "code",
   "execution_count": 16,
   "metadata": {},
   "outputs": [
    {
     "data": {
      "text/plain": [
       "[{'_id': ObjectId('626ac309d6d9f55434ea0178'),\n",
       "  'name': 'St Honore Pastries',\n",
       "  'stars': 4.0,\n",
       "  'review_count': 80}]"
      ]
     },
     "execution_count": 16,
     "metadata": {},
     "output_type": "execute_result"
    }
   ],
   "source": [
    "#Numero di recensioni a partire dal nome del business\n",
    "filter={\n",
    "    'name': 'St Honore Pastries', \n",
    "}\n",
    "\n",
    "project={\n",
    "    'name': 1, \n",
    "    'review_count': 1,\n",
    "    'stars':1\n",
    "}\n",
    "\n",
    "result = collection_business_restaurants.find(\n",
    "    filter=filter,\n",
    "    projection=project\n",
    ")\n",
    "\n",
    "\n",
    "result_list = list(result)\n",
    "result_list"
   ]
  },
  {
   "cell_type": "code",
   "execution_count": 37,
   "metadata": {},
   "outputs": [
    {
     "data": {
      "text/plain": [
       "{'review_id': 'UBp0zWyH60Hmw6Fsasei7w',\n",
       " 'user_id': '4Uh27DgGzsp6PqrH913giQ',\n",
       " 'business_id': 'otQS34_MymijPTdNBoBdCw',\n",
       " 'stars': 4.0,\n",
       " 'useful': 0,\n",
       " 'funny': 2,\n",
       " 'cool': 0,\n",
       " 'text': \"The bun makes the Sonoran Dog. It's like a snuggie for the pup. A first, it seems ridiculous and almost like it's going to be too much, exactly like everyone's favorite blanket with sleeves. Too much softness, too much smush, too indulgent.  Wrong. It's warm, soft, chewy, fragrant, and it succeeds where other famed Sonoran Dogs fail. \\n\\nThe hot dog itself is flavorful, but I would prefer that it or the bacon have a little more bite or snap to better hold their own against the dominant mustard and onions. \\n\\nI'm with the masses on the carne asada caramelo. Excellent tortilla, salty, melty cheese, and great carne. \\n\\nSuper cheap and you can drive through.\",\n",
       " 'date': '2011-10-27 17:12:05',\n",
       " '_id': ObjectId('626a78d25fdc03c1ca1cab27')}"
      ]
     },
     "execution_count": 37,
     "metadata": {},
     "output_type": "execute_result"
    }
   ],
   "source": [
    "reviewRestaurants[2]"
   ]
  },
  {
   "cell_type": "code",
   "execution_count": 17,
   "metadata": {},
   "outputs": [
    {
     "name": "stdout",
     "output_type": "stream",
     "text": [
      "BK Tacos\n"
     ]
    }
   ],
   "source": [
    "for i in range(0,len(restaurants)):\n",
    "    if restaurants[i]['business_id']=='otQS34_MymijPTdNBoBdCw':\n",
    "        print(restaurants[i]['name'])"
   ]
  },
  {
   "cell_type": "code",
   "execution_count": 18,
   "metadata": {},
   "outputs": [
    {
     "data": {
      "text/plain": [
       "[{'_id': ObjectId('626ac333d6d9f55434ea3d34'),\n",
       "  'stars': 4.0,\n",
       "  'text': \"The bun makes the Sonoran Dog. It's like a snuggie for the pup. A first, it seems ridiculous and almost like it's going to be too much, exactly like everyone's favorite blanket with sleeves. Too much softness, too much smush, too indulgent.  Wrong. It's warm, soft, chewy, fragrant, and it succeeds where other famed Sonoran Dogs fail. \\n\\nThe hot dog itself is flavorful, but I would prefer that it or the bacon have a little more bite or snap to better hold their own against the dominant mustard and onions. \\n\\nI'm with the masses on the carne asada caramelo. Excellent tortilla, salty, melty cheese, and great carne. \\n\\nSuper cheap and you can drive through.\",\n",
       "  'yelpBusiness': {'name': 'BK Tacos'}},\n",
       " {'_id': ObjectId('626ac333d6d9f55434ea3d76'),\n",
       "  'stars': 4.0,\n",
       "  'text': \"I was told this place is a must for a Sonoran hot dog. I was visiting from out of town and had never had one. It was good, but the whole Sonoran hot dog isn't really my thing (too many components for me) so I can't say it was great. The guacamole on the other hand, was great! I also had the taco combo - the chicken and carne asada were very good but the cabeza was slimy. BK has a salsa bar that allows you to help yourself to your own toppings and I appreciated that. Service was good, food arrived quickly. It was pretty packed during lunch on a weekday.\",\n",
       "  'yelpBusiness': {'name': 'BK Tacos'}}]"
      ]
     },
     "execution_count": 18,
     "metadata": {},
     "output_type": "execute_result"
    }
   ],
   "source": [
    "#Dato il Nome di un Negozio vedere le recensioni\n",
    "pipe = [\n",
    "    {\n",
    "        '$lookup':{\n",
    "            'from': \"yelpBusinessRestaurants\",\n",
    "            'localField': \"business_id\",\n",
    "            'foreignField': \"business_id\",\n",
    "            'as': \"yelpBusiness\"\n",
    "            }\n",
    "\n",
    "    }, {\n",
    "        '$unwind': \"$yelpBusiness\"\n",
    "    },\n",
    "    {\n",
    "        '$match': {\n",
    "            \"yelpBusiness.name\":{'$eq':\"BK Tacos\"}\n",
    "            }\n",
    "    },\n",
    "    {\n",
    "        '$project': {\n",
    "            'yelpBusiness.name': 1,\n",
    "            'text': 1,\n",
    "            'stars':1\n",
    "        }\n",
    "    }\n",
    "\n",
    "]\n",
    "\n",
    "# filtering\n",
    "result = collection_review_restaurants.aggregate(pipe)\n",
    "risultato=list(result)\n",
    "risultato"
   ]
  },
  {
   "cell_type": "markdown",
   "metadata": {},
   "source": [
    "### Query Cliente"
   ]
  },
  {
   "cell_type": "code",
   "execution_count": 19,
   "metadata": {},
   "outputs": [
    {
     "data": {
      "text/plain": [
       "1855"
      ]
     },
     "execution_count": 19,
     "metadata": {},
     "output_type": "execute_result"
    }
   ],
   "source": [
    "# Trova i ristoranti aperti con più di 4 stelle ed ordinali in modo decrescente\n",
    "pipe=[\n",
    "    {\n",
    "        '$match':  {\n",
    "            'stars': {\n",
    "                '$gt': 4.0\n",
    "            },\n",
    "            'is_open':{'$eq':1}\n",
    "        }\n",
    "    },\n",
    "    {\n",
    "        '$sort' : { 'stars' : -1, 'city': 1 } \n",
    "    },\n",
    "    {\n",
    "        '$project': {\n",
    "            '_id': 0,\n",
    "            'name': 1,\n",
    "            'city':1,\n",
    "            'stars':1,\n",
    "            'is_open':1\n",
    "            \n",
    "        }\n",
    "    }\n",
    "]\n",
    "\n",
    "result = collection_business_restaurants.aggregate(pipe)\n",
    "\n",
    "result_list = list(result)\n",
    "len(result_list)"
   ]
  },
  {
   "cell_type": "code",
   "execution_count": 77,
   "metadata": {},
   "outputs": [
    {
     "data": {
      "text/plain": [
       "[{'name': '2 Fat Dogs', 'city': 'Abington', 'stars': 5.0, 'is_open': 1},\n",
       " {'name': \"Long John Silver's\", 'city': 'Arnold', 'stars': 5.0, 'is_open': 1},\n",
       " {'name': 'Q Tea Vietnamese Cafe',\n",
       "  'city': 'Arnold',\n",
       "  'stars': 5.0,\n",
       "  'is_open': 1},\n",
       " {'name': \"Ryan's Country Store\", 'city': 'Aston', 'stars': 5.0, 'is_open': 1},\n",
       " {'name': 'Desserts by Design', 'city': 'Audubon', 'stars': 5.0, 'is_open': 1},\n",
       " {'name': 'Core de Roma', 'city': 'Bala Cynwyd', 'stars': 5.0, 'is_open': 1},\n",
       " {'name': 'Rosalia’s Pizza', 'city': 'Berlin', 'stars': 5.0, 'is_open': 1},\n",
       " {'name': 'Graveyard B&G', 'city': 'Boise', 'stars': 5.0, 'is_open': 1},\n",
       " {'name': 'ā café', 'city': 'Boise', 'stars': 5.0, 'is_open': 1},\n",
       " {'name': 'Off the Grid Pizza', 'city': 'Boise', 'stars': 5.0, 'is_open': 1}]"
      ]
     },
     "execution_count": 77,
     "metadata": {},
     "output_type": "execute_result"
    }
   ],
   "source": [
    "result_list[:10]"
   ]
  },
  {
   "cell_type": "code",
   "execution_count": 79,
   "metadata": {},
   "outputs": [
    {
     "data": {
      "text/plain": [
       "{'business_id': '9OG5YkX1g2GReZM0AskizA',\n",
       " 'name': \"Romano's Macaroni Grill\",\n",
       " 'address': '5505 S Virginia St',\n",
       " 'city': 'Reno',\n",
       " 'state': 'NV',\n",
       " 'postal_code': '89502',\n",
       " 'latitude': 39.4761165,\n",
       " 'longitude': -119.7893392,\n",
       " 'stars': 2.5,\n",
       " 'review_count': 339,\n",
       " 'is_open': 1,\n",
       " 'attributes': {'RestaurantsGoodForGroups': 'True',\n",
       "  'RestaurantsTakeOut': 'True',\n",
       "  'RestaurantsAttire': \"'casual'\",\n",
       "  'NoiseLevel': \"u'average'\",\n",
       "  'OutdoorSeating': 'True',\n",
       "  'BikeParking': 'True',\n",
       "  'BusinessParking': \"{'garage': False, 'street': False, 'validated': False, 'lot': True, 'valet': False}\",\n",
       "  'RestaurantsPriceRange2': '2',\n",
       "  'Caters': 'True',\n",
       "  'GoodForKids': 'True',\n",
       "  'RestaurantsReservations': 'True',\n",
       "  'BusinessAcceptsCreditCards': 'True',\n",
       "  'Alcohol': \"'full_bar'\",\n",
       "  'GoodForMeal': \"{'dessert': None, 'latenight': False, 'lunch': True, 'dinner': True, 'brunch': None, 'breakfast': False}\",\n",
       "  'RestaurantsTableService': 'True',\n",
       "  'HappyHour': 'True',\n",
       "  'WiFi': \"u'free'\",\n",
       "  'DogsAllowed': 'False',\n",
       "  'Ambience': \"{u'divey': False, u'hipster': False, u'casual': True, u'touristy': False, u'trendy': False, u'intimate': False, u'romantic': None, u'classy': None, u'upscale': False}\",\n",
       "  'RestaurantsDelivery': 'True',\n",
       "  'HasTV': 'True'},\n",
       " 'categories': 'Restaurants, Italian',\n",
       " 'hours': {'Monday': '11:0-22:0',\n",
       "  'Tuesday': '11:0-22:0',\n",
       "  'Wednesday': '10:0-22:0',\n",
       "  'Thursday': '11:0-20:0',\n",
       "  'Friday': '11:0-21:0',\n",
       "  'Saturday': '12:0-21:0',\n",
       "  'Sunday': '11:0-21:0'},\n",
       " '_id': ObjectId('626a78c45fdc03c1ca1c6f6c')}"
      ]
     },
     "execution_count": 79,
     "metadata": {},
     "output_type": "execute_result"
    }
   ],
   "source": [
    "restaurants[1]"
   ]
  },
  {
   "cell_type": "code",
   "execution_count": 20,
   "metadata": {},
   "outputs": [
    {
     "data": {
      "text/plain": [
       "[{'name': 'El Guero  Mexican Food Truck',\n",
       "  'address': '1256 W Montgomery Ave',\n",
       "  'stars': 5.0,\n",
       "  'is_open': 1,\n",
       "  'attributes': {'RestaurantsTakeOut': 'True',\n",
       "   'OutdoorSeating': 'False',\n",
       "   'RestaurantsTableService': 'False',\n",
       "   'Caters': 'True',\n",
       "   'HasTV': 'False',\n",
       "   'RestaurantsDelivery': 'True',\n",
       "   'Alcohol': \"u'none'\",\n",
       "   'WiFi': \"u'no'\",\n",
       "   'WheelchairAccessible': 'True',\n",
       "   'BusinessAcceptsCreditCards': 'True',\n",
       "   'BikeParking': 'True'},\n",
       "  'hours': {'Monday': '10:0-18:0',\n",
       "   'Tuesday': '10:0-18:0',\n",
       "   'Wednesday': '10:0-18:0',\n",
       "   'Thursday': '10:0-18:0',\n",
       "   'Friday': '10:0-18:0'}},\n",
       " {'name': 'Jade Palace',\n",
       "  'address': '1714 S 5th St',\n",
       "  'stars': 5.0,\n",
       "  'is_open': 1,\n",
       "  'attributes': {'HasTV': 'True', 'RestaurantsDelivery': 'True'},\n",
       "  'hours': {'Monday': '11:0-21:30',\n",
       "   'Tuesday': '11:0-21:30',\n",
       "   'Wednesday': '11:0-21:30',\n",
       "   'Thursday': '11:0-21:30',\n",
       "   'Friday': '11:0-21:30',\n",
       "   'Saturday': '11:0-21:30',\n",
       "   'Sunday': '11:0-21:0'}}]"
      ]
     },
     "execution_count": 20,
     "metadata": {},
     "output_type": "execute_result"
    }
   ],
   "source": [
    "#trova i ristoranti aperti in una certa città ordinandoli per stelle\n",
    "filter={\n",
    "    'city': 'Philadelphia', \n",
    "    'is_open': 1\n",
    "}\n",
    "\n",
    "project={\n",
    "    '_id':0,\n",
    "    'name': 1, \n",
    "    'is_open':1,\n",
    "    'address':1,\n",
    "    'stars':1,\n",
    "    'attributes':1,\n",
    "    'hours':1\n",
    "}\n",
    "\n",
    "result = collection_business_restaurants.find(\n",
    "    filter=filter,\n",
    "    projection=project\n",
    ").sort('stars', -1)\n",
    "\n",
    "\n",
    "result_list = list(result)\n",
    "result_list[:2]"
   ]
  },
  {
   "cell_type": "markdown",
   "metadata": {},
   "source": [
    "### Query Yelp"
   ]
  },
  {
   "cell_type": "code",
   "execution_count": 142,
   "metadata": {},
   "outputs": [
    {
     "data": {
      "text/plain": [
       "[{'_id': 'Philadelphia', 'Totale': 1730},\n",
       " {'_id': 'Tampa', 'Totale': 848},\n",
       " {'_id': 'Indianapolis', 'Totale': 827},\n",
       " {'_id': 'Tucson', 'Totale': 742},\n",
       " {'_id': 'Edmonton', 'Totale': 693},\n",
       " {'_id': 'Nashville', 'Totale': 660},\n",
       " {'_id': 'New Orleans', 'Totale': 602},\n",
       " {'_id': 'Saint Louis', 'Totale': 528},\n",
       " {'_id': 'Reno', 'Totale': 366},\n",
       " {'_id': 'Boise', 'Totale': 230}]"
      ]
     },
     "execution_count": 142,
     "metadata": {},
     "output_type": "execute_result"
    }
   ],
   "source": [
    "#Le prime 10 città che hanno più ristoranti\n",
    "pipe=[\n",
    "    {\n",
    "        '$group':{\n",
    "            '_id': '$city', 'Totale':{ '$count': {}}\n",
    "        }\n",
    "    },\n",
    "    {\n",
    "        '$sort': {\n",
    "            'Totale':-1\n",
    "        }\n",
    "    },\n",
    "    {\n",
    "        '$limit' : 10\n",
    "    }\n",
    "]\n",
    "\n",
    "result=collection_business_restaurants.aggregate(pipe)\n",
    "res = list(result)\n",
    "res"
   ]
  },
  {
   "cell_type": "markdown",
   "metadata": {
    "jp-MarkdownHeadingCollapsed": true,
    "tags": []
   },
   "source": [
    "### Retrieve top-k result"
   ]
  },
  {
   "cell_type": "code",
   "execution_count": 183,
   "metadata": {},
   "outputs": [
    {
     "data": {
      "text/plain": [
       "[{'name': 'Oceana Grill', 'stars': 4.0, 'review_count': 7400},\n",
       " {'name': 'Ruby Slipper - New Orleans', 'stars': 4.5, 'review_count': 5193},\n",
       " {'name': \"Felix's Restaurant & Oyster Bar\",\n",
       "  'stars': 4.0,\n",
       "  'review_count': 3966},\n",
       " {'name': \"Drago's Seafood Restaurant\", 'stars': 3.5, 'review_count': 3160},\n",
       " {'name': 'Parc', 'stars': 4.0, 'review_count': 2761},\n",
       " {'name': 'Green Eggs Café', 'stars': 4.0, 'review_count': 2679},\n",
       " {'name': \"Peg's Glorified Ham N Eggs\", 'stars': 4.5, 'review_count': 2506},\n",
       " {'name': \"Deanie's Seafood\", 'stars': 3.5, 'review_count': 2473},\n",
       " {'name': \"Tommy DiNic's\", 'stars': 4.0, 'review_count': 2221},\n",
       " {'name': \"Martin's Bar-B-Que Joint\", 'stars': 4.0, 'review_count': 2221},\n",
       " {'name': 'Parkway Bakery & Tavern', 'stars': 4.5, 'review_count': 2160},\n",
       " {'name': 'Prep & Pastry', 'stars': 4.5, 'review_count': 2126},\n",
       " {'name': 'The Pancake Pantry', 'stars': 4.0, 'review_count': 2063},\n",
       " {'name': 'Bourbon House', 'stars': 3.5, 'review_count': 2026},\n",
       " {'name': 'Domenica', 'stars': 4.0, 'review_count': 1906},\n",
       " {'name': 'Oxford Exchange', 'stars': 4.5, 'review_count': 1868},\n",
       " {'name': 'The Court of Two Sisters', 'stars': 3.5, 'review_count': 1827},\n",
       " {'name': 'Clear Sky Cafe', 'stars': 4.5, 'review_count': 1824},\n",
       " {'name': 'La Super-Rica Taqueria', 'stars': 4.0, 'review_count': 1759},\n",
       " {'name': 'Salt + Smoke', 'stars': 4.5, 'review_count': 1742},\n",
       " {'name': 'Sugarfire Smoke House', 'stars': 4.5, 'review_count': 1627},\n",
       " {'name': 'Bru Burger Bar - Indianapolis', 'stars': 4.0, 'review_count': 1608},\n",
       " {'name': 'Buddakan', 'stars': 4.0, 'review_count': 1561},\n",
       " {'name': 'Husk', 'stars': 4.0, 'review_count': 1559},\n",
       " {'name': 'Two Chicks', 'stars': 4.5, 'review_count': 1489},\n",
       " {'name': 'The Row', 'stars': 4.0, 'review_count': 1450},\n",
       " {'name': 'Vedge', 'stars': 4.5, 'review_count': 1447},\n",
       " {'name': 'Oyster House', 'stars': 4.0, 'review_count': 1407},\n",
       " {'name': \"Snapper's Sea Grill\", 'stars': 4.5, 'review_count': 1388},\n",
       " {'name': 'The Ritz-Carlton Bacara, Santa Barbara',\n",
       "  'stars': 3.5,\n",
       "  'review_count': 1383},\n",
       " {'name': \"Whiskey Joe's Bar & Grill - Tampa\",\n",
       "  'stars': 3.0,\n",
       "  'review_count': 1368},\n",
       " {'name': 'Olde Nola Cookery', 'stars': 4.0, 'review_count': 1318},\n",
       " {'name': 'Verti Marte', 'stars': 4.0, 'review_count': 1309},\n",
       " {'name': 'Culinary Dropout', 'stars': 4.0, 'review_count': 1295},\n",
       " {'name': 'Butcher and Singer', 'stars': 4.5, 'review_count': 1290},\n",
       " {'name': \"Katie's Restaurant & Bar\", 'stars': 4.5, 'review_count': 1289},\n",
       " {'name': 'Rockfire Grill', 'stars': 4.5, 'review_count': 1246},\n",
       " {'name': 'New Orleans Creole Cookery', 'stars': 3.5, 'review_count': 1232},\n",
       " {'name': 'Bakersfield', 'stars': 4.5, 'review_count': 1215},\n",
       " {'name': \"Mulate's\", 'stars': 3.0, 'review_count': 1210},\n",
       " {'name': 'The Patterson House', 'stars': 4.5, 'review_count': 1192},\n",
       " {'name': \"Drago's Seafood Restaurant\", 'stars': 4.0, 'review_count': 1178},\n",
       " {'name': 'Zaytoon', 'stars': 4.0, 'review_count': 1168},\n",
       " {'name': 'Sylvain', 'stars': 4.0, 'review_count': 1151},\n",
       " {'name': \"Little Nonna's\", 'stars': 4.0, 'review_count': 1147},\n",
       " {'name': \"Gran Caffe L'Aquila\", 'stars': 4.5, 'review_count': 1138},\n",
       " {'name': 'Chubby Cattle', 'stars': 4.5, 'review_count': 1128},\n",
       " {'name': 'Bahama Breeze', 'stars': 3.5, 'review_count': 1099},\n",
       " {'name': 'Fat Salmon', 'stars': 4.5, 'review_count': 1089},\n",
       " {'name': 'Tampa Bay Brewing Company', 'stars': 4.0, 'review_count': 1086},\n",
       " {'name': 'Baja Cafe', 'stars': 4.5, 'review_count': 1074},\n",
       " {'name': 'Golden Flower Vietnamese', 'stars': 3.0, 'review_count': 1028},\n",
       " {'name': 'The Cake Bake Shop by Gwendolyn Rogers-Broad Ripple Village',\n",
       "  'stars': 4.0,\n",
       "  'review_count': 996},\n",
       " {'name': 'Bluebeard', 'stars': 4.5, 'review_count': 993},\n",
       " {'name': 'Kayne Prime', 'stars': 4.0, 'review_count': 987},\n",
       " {'name': 'Arigato Sushi', 'stars': 4.0, 'review_count': 980},\n",
       " {'name': 'El Rey', 'stars': 3.5, 'review_count': 968},\n",
       " {'name': 'Mai Lee', 'stars': 4.0, 'review_count': 966},\n",
       " {'name': 'Eureka!', 'stars': 4.0, 'review_count': 961},\n",
       " {'name': \"Dickie Brennan's Steakhouse\", 'stars': 4.0, 'review_count': 954},\n",
       " {'name': 'Johnny Sanchez', 'stars': 4.0, 'review_count': 944},\n",
       " {'name': 'Sang Kee Peking Duck House', 'stars': 4.0, 'review_count': 926},\n",
       " {'name': \"Atlantis Toucan Charlie's Buffet & Grille\",\n",
       "  'stars': 4.0,\n",
       "  'review_count': 917},\n",
       " {'name': 'Meril', 'stars': 4.0, 'review_count': 900},\n",
       " {'name': \"Rippy's Bar & Grill\", 'stars': 3.0, 'review_count': 900},\n",
       " {'name': 'Cantina Los Caballitos', 'stars': 3.5, 'review_count': 874},\n",
       " {'name': \"Adolfo's\", 'stars': 4.0, 'review_count': 863},\n",
       " {'name': 'Burger Up', 'stars': 4.0, 'review_count': 857},\n",
       " {'name': 'Prasino', 'stars': 4.0, 'review_count': 854},\n",
       " {'name': 'Khyber Pass Pub', 'stars': 4.0, 'review_count': 845},\n",
       " {'name': 'Gallier Restaurant & Oyster Bar',\n",
       "  'stars': 4.5,\n",
       "  'review_count': 819},\n",
       " {'name': 'Half & Half', 'stars': 4.0, 'review_count': 818},\n",
       " {'name': 'Corazon Cocina', 'stars': 4.5, 'review_count': 813},\n",
       " {'name': 'Mi Nidito Restaurant', 'stars': 4.0, 'review_count': 807},\n",
       " {'name': 'Palm Pavilion Beachside Grill & Bar',\n",
       "  'stars': 3.5,\n",
       "  'review_count': 805},\n",
       " {'name': 'Pod', 'stars': 3.5, 'review_count': 797},\n",
       " {'name': 'Zinburger', 'stars': 4.0, 'review_count': 795},\n",
       " {'name': \"Juan's Flying Burrito\", 'stars': 4.0, 'review_count': 794},\n",
       " {'name': \"Arnaud's Restaurant\", 'stars': 3.5, 'review_count': 792},\n",
       " {'name': 'Coquette', 'stars': 4.5, 'review_count': 784},\n",
       " {'name': 'Han Dynasty', 'stars': 4.0, 'review_count': 783},\n",
       " {'name': 'Ijji 4', 'stars': 4.0, 'review_count': 771},\n",
       " {'name': \"Mony's Mexican Food\", 'stars': 4.5, 'review_count': 768},\n",
       " {'name': 'Mopho', 'stars': 4.0, 'review_count': 767},\n",
       " {'name': 'Goody Goody Burgers', 'stars': 3.5, 'review_count': 766},\n",
       " {'name': 'Estia', 'stars': 4.0, 'review_count': 761},\n",
       " {'name': 'Capital Tacos', 'stars': 4.0, 'review_count': 754},\n",
       " {'name': 'Tequilas Restaurant', 'stars': 4.0, 'review_count': 753},\n",
       " {'name': \"Emeril's Delmonico\", 'stars': 4.0, 'review_count': 751},\n",
       " {'name': 'Rooster - South Grand', 'stars': 3.5, 'review_count': 748},\n",
       " {'name': 'Bayona', 'stars': 4.0, 'review_count': 746},\n",
       " {'name': \"Dooky Chase's Restaurant\", 'stars': 3.5, 'review_count': 742},\n",
       " {'name': 'Nam Phuong', 'stars': 4.0, 'review_count': 738},\n",
       " {'name': \"Rocco's Tacos and Tequila Bar - Tampa\",\n",
       "  'stars': 3.5,\n",
       "  'review_count': 736},\n",
       " {'name': 'Bar Bombón', 'stars': 4.0, 'review_count': 734},\n",
       " {'name': 'Jane', 'stars': 4.0, 'review_count': 733},\n",
       " {'name': 'Carlitos Cafe Y Cantina', 'stars': 3.5, 'review_count': 731},\n",
       " {'name': 'Boca Tacos Y Tequila', 'stars': 3.5, 'review_count': 730},\n",
       " {'name': 'Baja Cafe on Campbell', 'stars': 4.5, 'review_count': 726},\n",
       " {'name': \"Joey K's Restaurant & Bar\", 'stars': 4.0, 'review_count': 725}]"
      ]
     },
     "execution_count": 183,
     "metadata": {},
     "output_type": "execute_result"
    }
   ],
   "source": [
    "# Ristoranti aperti con il maggior numero di recensioni\n",
    "filter={\n",
    "   'is_open': {\n",
    "        '$ne': 0\n",
    "    }\n",
    "}\n",
    "\n",
    "# data projection\n",
    "project={\n",
    "    'name':1,\n",
    "    'review_count': 1,\n",
    "     'stars': 1,\n",
    "    '_id': 0\n",
    "}\n",
    "\n",
    "sort=list({\n",
    "    'review_count': -1,\n",
    "    'stars':-1\n",
    "}.items())\n",
    "\n",
    "limit = 100\n",
    "\n",
    "result = collection_business_restaurants.find(\n",
    "    filter=filter,\n",
    "    projection=project,\n",
    "    sort = sort,\n",
    "    limit = limit\n",
    ")\n",
    "\n",
    "result_list = list(result)\n",
    "result_list"
   ]
  },
  {
   "cell_type": "markdown",
   "metadata": {
    "jp-MarkdownHeadingCollapsed": true,
    "tags": []
   },
   "source": [
    "### Sentimental Analysis"
   ]
  },
  {
   "cell_type": "code",
   "execution_count": 210,
   "metadata": {},
   "outputs": [
    {
     "data": {
      "text/plain": [
       "(5764,\n",
       " {'stars': 3.0,\n",
       "  'text': \"If you decide to eat here, just be aware it is going to take about 2 hours from beginning to end. We have tried it multiple times, because I want to like it! I have been to it's other locations in NJ and never had a bad experience. \\n\\nThe food is good, but it takes a very long time to come out. The waitstaff is very young, but usually pleasant. We have just had too many experiences where we spent way too long waiting. We usually opt for another diner or restaurant on the weekends, in order to be done quicker.\"})"
      ]
     },
     "execution_count": 210,
     "metadata": {},
     "output_type": "execute_result"
    }
   ],
   "source": [
    "\n",
    "import re \n",
    "\n",
    "filter={\n",
    "    '$or' : [\n",
    "        { 'text': {'$regex': re.compile(r\"good\")}},\n",
    "        { 'text': {'$regex': re.compile(r\"amazing\")}},\n",
    "        { 'text': {'$regex': re.compile(r\"great\")}},\n",
    "        { 'text': {'$regex': re.compile(r\"cool\")}}\n",
    "    ]   \n",
    "}\n",
    "\n",
    "project={\n",
    "    'name': 1,\n",
    "    'stars': 1, \n",
    "    'text':1,\n",
    "    '_id':0\n",
    "}\n",
    "\n",
    "\n",
    "result = collection_review.find(\n",
    "  filter=filter,\n",
    "  projection=project\n",
    ")\n",
    "\n",
    "result_list = list(result)\n",
    "len(result_list),result_list[0]"
   ]
  },
  {
   "cell_type": "markdown",
   "metadata": {
    "tags": []
   },
   "source": [
    "## Indices"
   ]
  },
  {
   "cell_type": "code",
   "execution_count": 51,
   "metadata": {},
   "outputs": [
    {
     "data": {
      "text/plain": [
       "'city_1'"
      ]
     },
     "execution_count": 51,
     "metadata": {},
     "output_type": "execute_result"
    }
   ],
   "source": [
    "from pymongo import ASCENDING, DESCENDING\n",
    "db.collection_business_restaurants.create_index([ (\"city\", ASCENDING) ])\n"
   ]
  },
  {
   "cell_type": "code",
   "execution_count": 54,
   "metadata": {},
   "outputs": [
    {
     "name": "stdout",
     "output_type": "stream",
     "text": [
      "[SON([('v', 2), ('key', SON([('_id', 1)])), ('name', '_id_')]), SON([('v', 2), ('key', SON([('city', 1)])), ('name', 'city_1')])]\n"
     ]
    }
   ],
   "source": [
    "print(list(db.collection_business_restaurants.list_indexes()))"
   ]
  },
  {
   "cell_type": "code",
   "execution_count": 48,
   "metadata": {},
   "outputs": [],
   "source": [
    "db.collection_business_restaurants.drop_indexes()"
   ]
  },
  {
   "cell_type": "code",
   "execution_count": 53,
   "metadata": {},
   "outputs": [
    {
     "data": {
      "text/plain": [
       "<pymongo.cursor.Cursor at 0x1bbfad0d240>"
      ]
     },
     "execution_count": 53,
     "metadata": {},
     "output_type": "execute_result"
    }
   ],
   "source": [
    "db.collection_business_restaurants.find({ 'city': 'Santa Barbara' })"
   ]
  },
  {
   "cell_type": "code",
   "execution_count": 52,
   "metadata": {},
   "outputs": [
    {
     "data": {
      "text/plain": [
       "<pymongo.cursor.Cursor at 0x1bc043af370>"
      ]
     },
     "execution_count": 52,
     "metadata": {},
     "output_type": "execute_result"
    }
   ],
   "source": [
    "db.collection_business_restaurants.find({ 'city': 'Santa Barbara' })"
   ]
  },
  {
   "cell_type": "code",
   "execution_count": 45,
   "metadata": {},
   "outputs": [],
   "source": [
    "ris=db.collection_business_restaurants.find({ 'city': 'Santa Barbara' }).explain()\n"
   ]
  },
  {
   "cell_type": "code",
   "execution_count": 46,
   "metadata": {},
   "outputs": [
    {
     "name": "stdout",
     "output_type": "stream",
     "text": [
      "{'explainVersion': '1', 'queryPlanner': {'namespace': 'yelpPython.collection_business_restaurants', 'indexFilterSet': False, 'parsedQuery': {'city': {'$eq': 'Santa Barbara'}}, 'maxIndexedOrSolutionsReached': False, 'maxIndexedAndSolutionsReached': False, 'maxScansToExplodeReached': False, 'winningPlan': {'stage': 'FETCH', 'inputStage': {'stage': 'IXSCAN', 'keyPattern': {'city': 1}, 'indexName': 'city_1', 'isMultiKey': False, 'multiKeyPaths': {'city': []}, 'isUnique': False, 'isSparse': False, 'isPartial': False, 'indexVersion': 2, 'direction': 'forward', 'indexBounds': {'city': ['[\"Santa Barbara\", \"Santa Barbara\"]']}}}, 'rejectedPlans': []}, 'executionStats': {'executionSuccess': True, 'nReturned': 0, 'executionTimeMillis': 0, 'totalKeysExamined': 0, 'totalDocsExamined': 0, 'executionStages': {'stage': 'FETCH', 'nReturned': 0, 'executionTimeMillisEstimate': 0, 'works': 1, 'advanced': 0, 'needTime': 0, 'needYield': 0, 'saveState': 0, 'restoreState': 0, 'isEOF': 1, 'docsExamined': 0, 'alreadyHasObj': 0, 'inputStage': {'stage': 'IXSCAN', 'nReturned': 0, 'executionTimeMillisEstimate': 0, 'works': 1, 'advanced': 0, 'needTime': 0, 'needYield': 0, 'saveState': 0, 'restoreState': 0, 'isEOF': 1, 'keyPattern': {'city': 1}, 'indexName': 'city_1', 'isMultiKey': False, 'multiKeyPaths': {'city': []}, 'isUnique': False, 'isSparse': False, 'isPartial': False, 'indexVersion': 2, 'direction': 'forward', 'indexBounds': {'city': ['[\"Santa Barbara\", \"Santa Barbara\"]']}, 'keysExamined': 0, 'seeks': 1, 'dupsTested': 0, 'dupsDropped': 0}}, 'allPlansExecution': []}, 'command': {'find': 'collection_business_restaurants', 'filter': {'city': 'Santa Barbara'}, '$db': 'yelpPython'}, 'serverInfo': {'host': 'DESKTOP-L86ANSA', 'port': 27017, 'version': '5.0.7', 'gitVersion': 'b977129dc70eed766cbee7e412d901ee213acbda'}, 'serverParameters': {'internalQueryFacetBufferSizeBytes': 104857600, 'internalQueryFacetMaxOutputDocSizeBytes': 104857600, 'internalLookupStageIntermediateDocumentMaxSizeBytes': 104857600, 'internalDocumentSourceGroupMaxMemoryBytes': 104857600, 'internalQueryMaxBlockingSortMemoryUsageBytes': 104857600, 'internalQueryProhibitBlockingMergeOnMongoS': 0, 'internalQueryMaxAddToSetBytes': 104857600, 'internalDocumentSourceSetWindowFieldsMaxMemoryBytes': 104857600}, 'ok': 1.0}\n"
     ]
    }
   ],
   "source": [
    "print(ris)"
   ]
  },
  {
   "cell_type": "code",
   "execution_count": 41,
   "metadata": {},
   "outputs": [
    {
     "name": "stdout",
     "output_type": "stream",
     "text": [
      "{'explainVersion': '1', 'queryPlanner': {'namespace': 'yelpPython.collection_business_restaurants', 'indexFilterSet': False, 'parsedQuery': {'city': {'$eq': 'Santa Barbara'}}, 'maxIndexedOrSolutionsReached': False, 'maxIndexedAndSolutionsReached': False, 'maxScansToExplodeReached': False, 'winningPlan': {'stage': 'COLLSCAN', 'filter': {'city': {'$eq': 'Santa Barbara'}}, 'direction': 'forward'}, 'rejectedPlans': []}, 'executionStats': {'executionSuccess': True, 'nReturned': 0, 'executionTimeMillis': 0, 'totalKeysExamined': 0, 'totalDocsExamined': 0, 'executionStages': {'stage': 'COLLSCAN', 'filter': {'city': {'$eq': 'Santa Barbara'}}, 'nReturned': 0, 'executionTimeMillisEstimate': 0, 'works': 2, 'advanced': 0, 'needTime': 1, 'needYield': 0, 'saveState': 0, 'restoreState': 0, 'isEOF': 1, 'direction': 'forward', 'docsExamined': 0}, 'allPlansExecution': []}, 'command': {'find': 'collection_business_restaurants', 'filter': {'city': 'Santa Barbara'}, '$db': 'yelpPython'}, 'serverInfo': {'host': 'DESKTOP-L86ANSA', 'port': 27017, 'version': '5.0.7', 'gitVersion': 'b977129dc70eed766cbee7e412d901ee213acbda'}, 'serverParameters': {'internalQueryFacetBufferSizeBytes': 104857600, 'internalQueryFacetMaxOutputDocSizeBytes': 104857600, 'internalLookupStageIntermediateDocumentMaxSizeBytes': 104857600, 'internalDocumentSourceGroupMaxMemoryBytes': 104857600, 'internalQueryMaxBlockingSortMemoryUsageBytes': 104857600, 'internalQueryProhibitBlockingMergeOnMongoS': 0, 'internalQueryMaxAddToSetBytes': 104857600, 'internalDocumentSourceSetWindowFieldsMaxMemoryBytes': 104857600}, 'ok': 1.0}\n"
     ]
    }
   ],
   "source": [
    "print(ris)"
   ]
  },
  {
   "cell_type": "markdown",
   "metadata": {
    "jp-MarkdownHeadingCollapsed": true,
    "tags": []
   },
   "source": [
    "### Compound index"
   ]
  },
  {
   "cell_type": "code",
   "execution_count": null,
   "metadata": {},
   "outputs": [],
   "source": [
    "from pymongo import ASCENDING, DESCENDING\n",
    "\n",
    "# compound index\n",
    "db.collection_business_restaurants.create_index([(\"city\", ASCENDING)], \n",
    "                       name=\"city_index\",\n",
    "                       background=True,\n",
    "                       unique=False,\n",
    "                       sparse=False)\n",
    "\n",
    "# print out available indices\n",
    "print(list(db.collection_business_restaurants.list_indexes()))"
   ]
  },
  {
   "cell_type": "markdown",
   "metadata": {
    "jp-MarkdownHeadingCollapsed": true,
    "tags": []
   },
   "source": [
    "### Text index"
   ]
  },
  {
   "cell_type": "code",
   "execution_count": 33,
   "metadata": {},
   "outputs": [
    {
     "name": "stdout",
     "output_type": "stream",
     "text": [
      "[SON([('v', 2), ('key', SON([('_id', 1)])), ('name', '_id_')]), SON([('v', 2), ('key', SON([('created_at', 1), ('retweet_count', -1)])), ('name', 'twoLevel_index'), ('background', True), ('sparse', False)]), SON([('v', 2), ('key', SON([('_fts', 'text'), ('_ftsx', 1)])), ('name', 'text_index'), ('weights', SON([('source', 1)])), ('default_language', 'english'), ('language_override', 'language'), ('textIndexVersion', 3)])]\n"
     ]
    }
   ],
   "source": [
    "# text index\n",
    "db.tweets.create_index([('source', pymongo.TEXT)], default_language='english',name='text_index')\n",
    "print(list(db.tweets.list_indexes()))"
   ]
  },
  {
   "cell_type": "code",
   "execution_count": 34,
   "metadata": {},
   "outputs": [
    {
     "data": {
      "text/plain": [
       "(16,\n",
       " {'_id': ObjectId('6265887a51d11a414a387dae'),\n",
       "  'source': '<a href=\"http://twitter.com/download/iphone\" rel=\"nofollow\">Twitter for iPhone</a>'})"
      ]
     },
     "execution_count": 34,
     "metadata": {},
     "output_type": "execute_result"
    }
   ],
   "source": [
    "filter = {\n",
    "    \"$text\": {\"$search\": \"iphone\"}\n",
    "}\n",
    "\n",
    "# proiezione di dati\n",
    "project={\n",
    "    'source': 1\n",
    "}\n",
    "\n",
    "result = db.tweets.find(\n",
    "  filter=filter,\n",
    "  projection=project\n",
    ")\n",
    "\n",
    "result_list = list(result)\n",
    "len(result_list),result_list[0]"
   ]
  }
 ],
 "metadata": {
  "kernelspec": {
   "display_name": "Python 3 (ipykernel)",
   "language": "python",
   "name": "python3"
  },
  "language_info": {
   "codemirror_mode": {
    "name": "ipython",
    "version": 3
   },
   "file_extension": ".py",
   "mimetype": "text/x-python",
   "name": "python",
   "nbconvert_exporter": "python",
   "pygments_lexer": "ipython3",
   "version": "3.10.2"
  }
 },
 "nbformat": 4,
 "nbformat_minor": 4
}

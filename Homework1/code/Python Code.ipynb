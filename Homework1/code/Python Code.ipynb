{
 "cells": [
  {
   "cell_type": "markdown",
   "metadata": {
    "jp-MarkdownHeadingCollapsed": true,
    "tags": []
   },
   "source": [
    "## Connection to the mongodb driver. \n",
    "\n",
    "The connector can be used to access remote database (e.g. Mongo Atlas) as well.\n",
    "\n",
    "**N.B.** You should install the Python package (*pip install pymongo*) to use the API."
   ]
  },
  {
   "cell_type": "code",
   "execution_count": 1,
   "metadata": {},
   "outputs": [],
   "source": [
    "import pymongo\n",
    "\n",
    "# Connection\n",
    "client = pymongo.MongoClient('localhost', 27017)"
   ]
  },
  {
   "cell_type": "markdown",
   "metadata": {
    "jp-MarkdownHeadingCollapsed": true,
    "tags": []
   },
   "source": [
    "## CRUD Operations (NON CI INTERESSA)\n",
    "\n",
    "* Databases and collections are created only when data loaded into them.\n",
    "* Documents can have different structures since MongoDB is schemaless! "
   ]
  },
  {
   "cell_type": "code",
   "execution_count": 3,
   "metadata": {},
   "outputs": [
    {
     "name": "stdout",
     "output_type": "stream",
     "text": [
      "Available database ->  ['Yelp', 'admin', 'config', 'local']\n",
      "Available collections ->  []\n"
     ]
    }
   ],
   "source": [
    "# Select the db by its name\n",
    "db_test = client['yelpBusiness']\n",
    "\n",
    "# Created or Switched to collection names\n",
    "collection = db_test['computer_engineers'] # also db.computer_engineers\n",
    "\n",
    "# print out available databases names\n",
    "print('Available database -> ', client.list_database_names())\n",
    "print('Available collections -> ', db_test.list_collection_names())"
   ]
  },
  {
   "cell_type": "code",
   "execution_count": 4,
   "metadata": {},
   "outputs": [
    {
     "data": {
      "text/plain": [
       "ObjectId('626587a051d11a414a387d88')"
      ]
     },
     "execution_count": 4,
     "metadata": {},
     "output_type": "execute_result"
    }
   ],
   "source": [
    "from datetime import datetime\n",
    "\n",
    "document={\"Id\":\"M63000768\",\n",
    "          \"Birth\": datetime(1996,1,15),\n",
    "          \"Name\": \"Valerio La Gatta\",\n",
    "          \"Branch\": \"IT\",\n",
    "          \"Exams\": [\"Impianti di Elaboratione\",\"Information Systems\",\"Machine Learning\"],\n",
    "          \"GPA\": 27.4}\n",
    "          \n",
    "result = collection.insert_one(document)\n",
    "result.inserted_id"
   ]
  },
  {
   "cell_type": "code",
   "execution_count": 5,
   "metadata": {},
   "outputs": [
    {
     "name": "stdout",
     "output_type": "stream",
     "text": [
      "Available database ->  ['Yelp', 'admin', 'config', 'local', 'students']\n",
      "Available collections ->  ['computer_engineers']\n"
     ]
    }
   ],
   "source": [
    "# print out available databases names\n",
    "print('Available database -> ', client.list_database_names())\n",
    "print('Available collections -> ', db_test.list_collection_names())"
   ]
  },
  {
   "cell_type": "code",
   "execution_count": 6,
   "metadata": {},
   "outputs": [
    {
     "data": {
      "text/plain": [
       "[ObjectId('626587a551d11a414a387d89'), ObjectId('626587a551d11a414a387d8a')]"
      ]
     },
     "execution_count": 6,
     "metadata": {},
     "output_type": "execute_result"
    }
   ],
   "source": [
    "to_insert = [\n",
    "    {\"Id\":\"M63000123\",\n",
    "     \"Birth\": datetime(1990,2,4),\n",
    "     \"Name\": \"Giancarlo Sperlì\",\n",
    "     \"Exams\": [\"Sistemi Informativi\", \"Architettura dei Sistemi Di Elaborazione\", \"Trasmissione Numerica\"],\n",
    "     \"GPA\": 30},\n",
    "    {\"Id\":\"M63000890\",\n",
    "     \"Birth\": datetime(2000,2,4),\n",
    "     \"Name\": \"Younger Student\",\n",
    "     \"Branch\": \"IT\"}\n",
    "]\n",
    "\n",
    "result = collection.insert_many(to_insert)\n",
    "result.inserted_ids"
   ]
  },
  {
   "cell_type": "markdown",
   "metadata": {},
   "source": [
    "Nested documents are allowed and can be used to store more complex information or relationships between documents. "
   ]
  },
  {
   "cell_type": "code",
   "execution_count": 7,
   "metadata": {},
   "outputs": [
    {
     "data": {
      "text/plain": [
       "ObjectId('626587a951d11a414a387d8b')"
      ]
     },
     "execution_count": 7,
     "metadata": {},
     "output_type": "execute_result"
    }
   ],
   "source": [
    "document={\"Id\":\"M63000987\",\n",
    "          \"Birth\": datetime(1998,12,25),\n",
    "          \"Name\": \"Another Student\",\n",
    "          \"Branch\": \"IT\",\n",
    "          \"Exams\": {\"Impianti di Elaboratione\":25,\"Information Systems\":28,\"Machine Learning\":29},\n",
    "          \"GPA\": 27.4}\n",
    "          \n",
    "result = collection.insert_one(document)\n",
    "result.inserted_id"
   ]
  },
  {
   "cell_type": "markdown",
   "metadata": {},
   "source": [
    "In MongoDB, a write operation is **atomic on the level of a single document**, even if the operation modifies multiple embedded documents within a single document. When performing multi-document write operations, whether through a single write operation or multiple write operations, other operations may interleave."
   ]
  },
  {
   "cell_type": "code",
   "execution_count": 64,
   "metadata": {},
   "outputs": [
    {
     "data": {
      "text/plain": [
       "True"
      ]
     },
     "execution_count": 64,
     "metadata": {},
     "output_type": "execute_result"
    }
   ],
   "source": [
    "result = collection.update_one({\"Name\": \"Valerio La Gatta\"},{\"$push\": {\"Exams\": \"Big Data Engineering\"}})\n",
    "result.acknowledged"
   ]
  },
  {
   "cell_type": "code",
   "execution_count": 8,
   "metadata": {},
   "outputs": [
    {
     "data": {
      "text/plain": [
       "(3, 3)"
      ]
     },
     "execution_count": 8,
     "metadata": {},
     "output_type": "execute_result"
    }
   ],
   "source": [
    "result = collection.update_many({\"Branch\": \"IT\"},{\"$set\": {\"Notes\": \"Way to go!\"}})\n",
    "result.matched_count,result.modified_count"
   ]
  },
  {
   "cell_type": "markdown",
   "metadata": {},
   "source": [
    "Control the trade-off between performance and consistency using different *write concern* strategies. "
   ]
  },
  {
   "cell_type": "code",
   "execution_count": 9,
   "metadata": {},
   "outputs": [
    {
     "ename": "SyntaxError",
     "evalue": "invalid syntax (Temp/ipykernel_17212/1312447872.py, line 7)",
     "output_type": "error",
     "traceback": [
      "\u001b[1;36m  File \u001b[1;32m\"C:\\Users\\annal\\AppData\\Local\\Temp/ipykernel_17212/1312447872.py\"\u001b[1;36m, line \u001b[1;32m7\u001b[0m\n\u001b[1;33m    write_concern= WriteConcern(w= <FILL>,j= <FILL>)\u001b[0m\n\u001b[1;37m                                   ^\u001b[0m\n\u001b[1;31mSyntaxError\u001b[0m\u001b[1;31m:\u001b[0m invalid syntax\n"
     ]
    }
   ],
   "source": [
    "# DO NOT RUN THIS CODE\n",
    "from pymongo.write_concern import WriteConcern\n",
    "\n",
    "# w = \"majority\" | 0 (fire & forget) | 1 (acknoledged) | >1 (replica acknoledged)\n",
    "# j = False (In memory) | True (On disk jounal)\n",
    "db_test.users.with_options(\n",
    "    write_concern= WriteConcern(w= <FILL>,j= <FILL>)\n",
    ").insert_one(\n",
    "     <YOUR DOCUMENT>\n",
    ")"
   ]
  },
  {
   "cell_type": "markdown",
   "metadata": {},
   "source": [
    "From version 4.0, MongoDB supports multi-document distributed transactions."
   ]
  },
  {
   "cell_type": "code",
   "execution_count": 10,
   "metadata": {},
   "outputs": [
    {
     "ename": "SyntaxError",
     "evalue": "invalid syntax (Temp/ipykernel_17212/1921175851.py, line 10)",
     "output_type": "error",
     "traceback": [
      "\u001b[1;36m  File \u001b[1;32m\"C:\\Users\\annal\\AppData\\Local\\Temp/ipykernel_17212/1921175851.py\"\u001b[1;36m, line \u001b[1;32m10\u001b[0m\n\u001b[1;33m    collection_one = session.client.db_test.<FILL>\u001b[0m\n\u001b[1;37m                                            ^\u001b[0m\n\u001b[1;31mSyntaxError\u001b[0m\u001b[1;31m:\u001b[0m invalid syntax\n"
     ]
    }
   ],
   "source": [
    "# DO NOT RUN THIS CODE\n",
    "from pymongo.write_concern import WriteConcern\n",
    "from pymongo.read_concern import ReadConcern\n",
    "from pymongo import ReadPreference\n",
    "\n",
    "wc_majority = WriteConcern(w=\"majority\", wtimeout=1000)\n",
    "\n",
    "# Step 1: Define the callback that specifies the sequence of operations to perform inside the transactions.\n",
    "def callback(session):\n",
    "    collection_one = session.client.db_test.<FILL>\n",
    "    collection_two = session.client.db_test.<FILL>\n",
    "    # Important:: You must pass the session to the operations.\n",
    "    collection_one.insert_one({\"abc\": 1}, session=session)\n",
    "    collection_two.insert_one({\"xyz\": 999}, session=session)\n",
    "    \n",
    "# Step 2: Start a client session.\n",
    "with client.start_session() as session:\n",
    "    # Step 3: Use with_transaction to start a transaction, execute the callback, and commit (or abort on error).\n",
    "    session.with_transaction(\n",
    "        callback,\n",
    "        read_concern=ReadConcern(\"local\"),\n",
    "        write_concern=wc_majority,\n",
    "        read_preference=ReadPreference.PRIMARY,\n",
    "    )\n",
    "    "
   ]
  },
  {
   "cell_type": "markdown",
   "metadata": {
    "tags": []
   },
   "source": [
    "## Real Use Case"
   ]
  },
  {
   "cell_type": "markdown",
   "metadata": {
    "jp-MarkdownHeadingCollapsed": true,
    "tags": []
   },
   "source": [
    "### Load Yelp Dataset"
   ]
  },
  {
   "cell_type": "code",
   "execution_count": 7,
   "metadata": {},
   "outputs": [],
   "source": [
    "import json \n",
    "\n",
    "path = \"C://Users//annal//Documents//GitHub//BigDataHomework//Homework1//yelp dataset//\"\n",
    "business = []\n",
    "\n",
    "with open(path + 'yelp_academic_dataset_business.json', 'rb') as f:\n",
    "    for jsonObj in f:\n",
    "        business_dict = json.loads(jsonObj)\n",
    "        business.append(business_dict)\n"
   ]
  },
  {
   "cell_type": "code",
   "execution_count": 8,
   "metadata": {},
   "outputs": [],
   "source": [
    "checkin = []\n",
    "\n",
    "with open(path + 'yelp_academic_dataset_checkin.json', 'rb') as f:\n",
    "    for jsonObj in f:\n",
    "        checkin_dict = json.loads(jsonObj)\n",
    "        checkin.append(checkin_dict)\n"
   ]
  },
  {
   "cell_type": "code",
   "execution_count": 9,
   "metadata": {},
   "outputs": [],
   "source": [
    "review = []\n",
    "count=0\n",
    "\n",
    "with open(path + 'yelp_academic_dataset_review.json', 'rb') as f:\n",
    "    if count<10000:\n",
    "        for jsonObj in f:\n",
    "            review_dict = json.loads(jsonObj)\n",
    "            review.append(review_dict)\n",
    "            count+=1\n",
    "    else:\n",
    "        pass\n",
    "        "
   ]
  },
  {
   "cell_type": "code",
   "execution_count": 10,
   "metadata": {},
   "outputs": [],
   "source": [
    "tip = []\n",
    "\n",
    "with open(path + 'yelp_academic_dataset_tip.json', 'rb') as f:\n",
    "    for jsonObj in f:\n",
    "        tip_dict = json.loads(jsonObj)\n",
    "        tip.append(tip_dict)"
   ]
  },
  {
   "cell_type": "code",
   "execution_count": 18,
   "metadata": {},
   "outputs": [],
   "source": [
    "user = []\n",
    "\n",
    "count = 0\n",
    "\n",
    "with open(path + 'yelp_academic_dataset_user.json', 'rb') as f:\n",
    "    if count<10000:\n",
    "        for jsonObj in f:\n",
    "            user_dict = json.loads(jsonObj)\n",
    "            user.append(user_dict)\n",
    "            count+=1\n",
    "    else:\n",
    "        pass    "
   ]
  },
  {
   "cell_type": "code",
   "execution_count": 12,
   "metadata": {
    "scrolled": true,
    "tags": []
   },
   "outputs": [
    {
     "data": {
      "text/plain": [
       "{'business_id': 'Pns2l4eNsfO8kk83dixA6A',\n",
       " 'name': 'Abby Rappoport, LAC, CMQ',\n",
       " 'address': '1616 Chapala St, Ste 2',\n",
       " 'city': 'Santa Barbara',\n",
       " 'state': 'CA',\n",
       " 'postal_code': '93101',\n",
       " 'latitude': 34.4266787,\n",
       " 'longitude': -119.7111968,\n",
       " 'stars': 5.0,\n",
       " 'review_count': 7,\n",
       " 'is_open': 0,\n",
       " 'attributes': {'ByAppointmentOnly': 'True'},\n",
       " 'categories': 'Doctors, Traditional Chinese Medicine, Naturopathic/Holistic, Acupuncture, Health & Medical, Nutritionists',\n",
       " 'hours': None}"
      ]
     },
     "execution_count": 12,
     "metadata": {},
     "output_type": "execute_result"
    }
   ],
   "source": [
    "business[0]"
   ]
  },
  {
   "cell_type": "code",
   "execution_count": 16,
   "metadata": {},
   "outputs": [],
   "source": [
    "import pymongo\n",
    "\n",
    "# Connection\n",
    "client = pymongo.MongoClient('localhost', 27017)\n",
    "\n",
    "# Select the db by its name\n",
    "db = client['yelpPython']"
   ]
  },
  {
   "cell_type": "code",
   "execution_count": 17,
   "metadata": {},
   "outputs": [
    {
     "ename": "ServerSelectionTimeoutError",
     "evalue": "localhost:27017: [WinError 10061] Impossibile stabilire la connessione. Rifiuto persistente del computer di destinazione, Timeout: 30s, Topology Description: <TopologyDescription id: 6266562830cf22fd81f40a8b, topology_type: Unknown, servers: [<ServerDescription ('localhost', 27017) server_type: Unknown, rtt: None, error=AutoReconnect('localhost:27017: [WinError 10061] Impossibile stabilire la connessione. Rifiuto persistente del computer di destinazione')>]>",
     "output_type": "error",
     "traceback": [
      "\u001b[1;31m---------------------------------------------------------------------------\u001b[0m",
      "\u001b[1;31mServerSelectionTimeoutError\u001b[0m               Traceback (most recent call last)",
      "\u001b[1;32m~\\AppData\\Local\\Temp/ipykernel_14576/4231609060.py\u001b[0m in \u001b[0;36m<module>\u001b[1;34m\u001b[0m\n\u001b[0;32m      1\u001b[0m \u001b[1;31m#Cancello tutte le collezioni all'inizio per evitare sovrascrizioni\u001b[0m\u001b[1;33m\u001b[0m\u001b[1;33m\u001b[0m\u001b[0m\n\u001b[0;32m      2\u001b[0m \u001b[1;33m\u001b[0m\u001b[0m\n\u001b[1;32m----> 3\u001b[1;33m \u001b[0mlista_collection\u001b[0m\u001b[1;33m=\u001b[0m\u001b[0mlist\u001b[0m\u001b[1;33m(\u001b[0m\u001b[0mdb\u001b[0m\u001b[1;33m.\u001b[0m\u001b[0mlist_collection_names\u001b[0m\u001b[1;33m(\u001b[0m\u001b[1;33m)\u001b[0m\u001b[1;33m)\u001b[0m\u001b[1;33m\u001b[0m\u001b[1;33m\u001b[0m\u001b[0m\n\u001b[0m\u001b[0;32m      4\u001b[0m \u001b[1;33m\u001b[0m\u001b[0m\n\u001b[0;32m      5\u001b[0m \u001b[1;32mfor\u001b[0m \u001b[0mcol\u001b[0m \u001b[1;32min\u001b[0m \u001b[0mlista_collection\u001b[0m\u001b[1;33m:\u001b[0m\u001b[1;33m\u001b[0m\u001b[1;33m\u001b[0m\u001b[0m\n",
      "\u001b[1;32m~\\AppData\\Local\\Programs\\Python\\Python310\\lib\\site-packages\\pymongo\\database.py\u001b[0m in \u001b[0;36mlist_collection_names\u001b[1;34m(self, session, filter, comment, **kwargs)\u001b[0m\n\u001b[0;32m    873\u001b[0m                 \u001b[0mkwargs\u001b[0m\u001b[1;33m[\u001b[0m\u001b[1;34m\"nameOnly\"\u001b[0m\u001b[1;33m]\u001b[0m \u001b[1;33m=\u001b[0m \u001b[1;32mTrue\u001b[0m\u001b[1;33m\u001b[0m\u001b[1;33m\u001b[0m\u001b[0m\n\u001b[0;32m    874\u001b[0m \u001b[1;33m\u001b[0m\u001b[0m\n\u001b[1;32m--> 875\u001b[1;33m         \u001b[1;32mreturn\u001b[0m \u001b[1;33m[\u001b[0m\u001b[0mresult\u001b[0m\u001b[1;33m[\u001b[0m\u001b[1;34m\"name\"\u001b[0m\u001b[1;33m]\u001b[0m \u001b[1;32mfor\u001b[0m \u001b[0mresult\u001b[0m \u001b[1;32min\u001b[0m \u001b[0mself\u001b[0m\u001b[1;33m.\u001b[0m\u001b[0mlist_collections\u001b[0m\u001b[1;33m(\u001b[0m\u001b[0msession\u001b[0m\u001b[1;33m=\u001b[0m\u001b[0msession\u001b[0m\u001b[1;33m,\u001b[0m \u001b[1;33m**\u001b[0m\u001b[0mkwargs\u001b[0m\u001b[1;33m)\u001b[0m\u001b[1;33m]\u001b[0m\u001b[1;33m\u001b[0m\u001b[1;33m\u001b[0m\u001b[0m\n\u001b[0m\u001b[0;32m    876\u001b[0m \u001b[1;33m\u001b[0m\u001b[0m\n\u001b[0;32m    877\u001b[0m     def drop_collection(\n",
      "\u001b[1;32m~\\AppData\\Local\\Programs\\Python\\Python310\\lib\\site-packages\\pymongo\\database.py\u001b[0m in \u001b[0;36mlist_collections\u001b[1;34m(self, session, filter, comment, **kwargs)\u001b[0m\n\u001b[0;32m    825\u001b[0m             )\n\u001b[0;32m    826\u001b[0m \u001b[1;33m\u001b[0m\u001b[0m\n\u001b[1;32m--> 827\u001b[1;33m         \u001b[1;32mreturn\u001b[0m \u001b[0mself\u001b[0m\u001b[1;33m.\u001b[0m\u001b[0m__client\u001b[0m\u001b[1;33m.\u001b[0m\u001b[0m_retryable_read\u001b[0m\u001b[1;33m(\u001b[0m\u001b[0m_cmd\u001b[0m\u001b[1;33m,\u001b[0m \u001b[0mread_pref\u001b[0m\u001b[1;33m,\u001b[0m \u001b[0msession\u001b[0m\u001b[1;33m)\u001b[0m\u001b[1;33m\u001b[0m\u001b[1;33m\u001b[0m\u001b[0m\n\u001b[0m\u001b[0;32m    828\u001b[0m \u001b[1;33m\u001b[0m\u001b[0m\n\u001b[0;32m    829\u001b[0m     def list_collection_names(\n",
      "\u001b[1;32m~\\AppData\\Local\\Programs\\Python\\Python310\\lib\\site-packages\\pymongo\\mongo_client.py\u001b[0m in \u001b[0;36m_retryable_read\u001b[1;34m(self, func, read_pref, session, address, retryable)\u001b[0m\n\u001b[0;32m   1362\u001b[0m         \u001b[1;32mwhile\u001b[0m \u001b[1;32mTrue\u001b[0m\u001b[1;33m:\u001b[0m\u001b[1;33m\u001b[0m\u001b[1;33m\u001b[0m\u001b[0m\n\u001b[0;32m   1363\u001b[0m             \u001b[1;32mtry\u001b[0m\u001b[1;33m:\u001b[0m\u001b[1;33m\u001b[0m\u001b[1;33m\u001b[0m\u001b[0m\n\u001b[1;32m-> 1364\u001b[1;33m                 \u001b[0mserver\u001b[0m \u001b[1;33m=\u001b[0m \u001b[0mself\u001b[0m\u001b[1;33m.\u001b[0m\u001b[0m_select_server\u001b[0m\u001b[1;33m(\u001b[0m\u001b[0mread_pref\u001b[0m\u001b[1;33m,\u001b[0m \u001b[0msession\u001b[0m\u001b[1;33m,\u001b[0m \u001b[0maddress\u001b[0m\u001b[1;33m=\u001b[0m\u001b[0maddress\u001b[0m\u001b[1;33m)\u001b[0m\u001b[1;33m\u001b[0m\u001b[1;33m\u001b[0m\u001b[0m\n\u001b[0m\u001b[0;32m   1365\u001b[0m                 \u001b[1;32mwith\u001b[0m \u001b[0mself\u001b[0m\u001b[1;33m.\u001b[0m\u001b[0m_socket_from_server\u001b[0m\u001b[1;33m(\u001b[0m\u001b[0mread_pref\u001b[0m\u001b[1;33m,\u001b[0m \u001b[0mserver\u001b[0m\u001b[1;33m,\u001b[0m \u001b[0msession\u001b[0m\u001b[1;33m)\u001b[0m \u001b[1;32mas\u001b[0m \u001b[1;33m(\u001b[0m\u001b[0msock_info\u001b[0m\u001b[1;33m,\u001b[0m \u001b[0mread_pref\u001b[0m\u001b[1;33m)\u001b[0m\u001b[1;33m:\u001b[0m\u001b[1;33m\u001b[0m\u001b[1;33m\u001b[0m\u001b[0m\n\u001b[0;32m   1366\u001b[0m                     \u001b[1;32mif\u001b[0m \u001b[0mretrying\u001b[0m \u001b[1;32mand\u001b[0m \u001b[1;32mnot\u001b[0m \u001b[0mretryable\u001b[0m\u001b[1;33m:\u001b[0m\u001b[1;33m\u001b[0m\u001b[1;33m\u001b[0m\u001b[0m\n",
      "\u001b[1;32m~\\AppData\\Local\\Programs\\Python\\Python310\\lib\\site-packages\\pymongo\\mongo_client.py\u001b[0m in \u001b[0;36m_select_server\u001b[1;34m(self, server_selector, session, address)\u001b[0m\n\u001b[0;32m   1194\u001b[0m                     \u001b[1;32mraise\u001b[0m \u001b[0mAutoReconnect\u001b[0m\u001b[1;33m(\u001b[0m\u001b[1;34m\"server %s:%d no longer available\"\u001b[0m \u001b[1;33m%\u001b[0m \u001b[0maddress\u001b[0m\u001b[1;33m)\u001b[0m\u001b[1;33m\u001b[0m\u001b[1;33m\u001b[0m\u001b[0m\n\u001b[0;32m   1195\u001b[0m             \u001b[1;32melse\u001b[0m\u001b[1;33m:\u001b[0m\u001b[1;33m\u001b[0m\u001b[1;33m\u001b[0m\u001b[0m\n\u001b[1;32m-> 1196\u001b[1;33m                 \u001b[0mserver\u001b[0m \u001b[1;33m=\u001b[0m \u001b[0mtopology\u001b[0m\u001b[1;33m.\u001b[0m\u001b[0mselect_server\u001b[0m\u001b[1;33m(\u001b[0m\u001b[0mserver_selector\u001b[0m\u001b[1;33m)\u001b[0m\u001b[1;33m\u001b[0m\u001b[1;33m\u001b[0m\u001b[0m\n\u001b[0m\u001b[0;32m   1197\u001b[0m             \u001b[1;32mreturn\u001b[0m \u001b[0mserver\u001b[0m\u001b[1;33m\u001b[0m\u001b[1;33m\u001b[0m\u001b[0m\n\u001b[0;32m   1198\u001b[0m         \u001b[1;32mexcept\u001b[0m \u001b[0mPyMongoError\u001b[0m \u001b[1;32mas\u001b[0m \u001b[0mexc\u001b[0m\u001b[1;33m:\u001b[0m\u001b[1;33m\u001b[0m\u001b[1;33m\u001b[0m\u001b[0m\n",
      "\u001b[1;32m~\\AppData\\Local\\Programs\\Python\\Python310\\lib\\site-packages\\pymongo\\topology.py\u001b[0m in \u001b[0;36mselect_server\u001b[1;34m(self, selector, server_selection_timeout, address)\u001b[0m\n\u001b[0;32m    249\u001b[0m     \u001b[1;32mdef\u001b[0m \u001b[0mselect_server\u001b[0m\u001b[1;33m(\u001b[0m\u001b[0mself\u001b[0m\u001b[1;33m,\u001b[0m \u001b[0mselector\u001b[0m\u001b[1;33m,\u001b[0m \u001b[0mserver_selection_timeout\u001b[0m\u001b[1;33m=\u001b[0m\u001b[1;32mNone\u001b[0m\u001b[1;33m,\u001b[0m \u001b[0maddress\u001b[0m\u001b[1;33m=\u001b[0m\u001b[1;32mNone\u001b[0m\u001b[1;33m)\u001b[0m\u001b[1;33m:\u001b[0m\u001b[1;33m\u001b[0m\u001b[1;33m\u001b[0m\u001b[0m\n\u001b[0;32m    250\u001b[0m         \u001b[1;34m\"\"\"Like select_servers, but choose a random server if several match.\"\"\"\u001b[0m\u001b[1;33m\u001b[0m\u001b[1;33m\u001b[0m\u001b[0m\n\u001b[1;32m--> 251\u001b[1;33m         \u001b[0mservers\u001b[0m \u001b[1;33m=\u001b[0m \u001b[0mself\u001b[0m\u001b[1;33m.\u001b[0m\u001b[0mselect_servers\u001b[0m\u001b[1;33m(\u001b[0m\u001b[0mselector\u001b[0m\u001b[1;33m,\u001b[0m \u001b[0mserver_selection_timeout\u001b[0m\u001b[1;33m,\u001b[0m \u001b[0maddress\u001b[0m\u001b[1;33m)\u001b[0m\u001b[1;33m\u001b[0m\u001b[1;33m\u001b[0m\u001b[0m\n\u001b[0m\u001b[0;32m    252\u001b[0m         \u001b[1;32mif\u001b[0m \u001b[0mlen\u001b[0m\u001b[1;33m(\u001b[0m\u001b[0mservers\u001b[0m\u001b[1;33m)\u001b[0m \u001b[1;33m==\u001b[0m \u001b[1;36m1\u001b[0m\u001b[1;33m:\u001b[0m\u001b[1;33m\u001b[0m\u001b[1;33m\u001b[0m\u001b[0m\n\u001b[0;32m    253\u001b[0m             \u001b[1;32mreturn\u001b[0m \u001b[0mservers\u001b[0m\u001b[1;33m[\u001b[0m\u001b[1;36m0\u001b[0m\u001b[1;33m]\u001b[0m\u001b[1;33m\u001b[0m\u001b[1;33m\u001b[0m\u001b[0m\n",
      "\u001b[1;32m~\\AppData\\Local\\Programs\\Python\\Python310\\lib\\site-packages\\pymongo\\topology.py\u001b[0m in \u001b[0;36mselect_servers\u001b[1;34m(self, selector, server_selection_timeout, address)\u001b[0m\n\u001b[0;32m    210\u001b[0m \u001b[1;33m\u001b[0m\u001b[0m\n\u001b[0;32m    211\u001b[0m         \u001b[1;32mwith\u001b[0m \u001b[0mself\u001b[0m\u001b[1;33m.\u001b[0m\u001b[0m_lock\u001b[0m\u001b[1;33m:\u001b[0m\u001b[1;33m\u001b[0m\u001b[1;33m\u001b[0m\u001b[0m\n\u001b[1;32m--> 212\u001b[1;33m             \u001b[0mserver_descriptions\u001b[0m \u001b[1;33m=\u001b[0m \u001b[0mself\u001b[0m\u001b[1;33m.\u001b[0m\u001b[0m_select_servers_loop\u001b[0m\u001b[1;33m(\u001b[0m\u001b[0mselector\u001b[0m\u001b[1;33m,\u001b[0m \u001b[0mserver_timeout\u001b[0m\u001b[1;33m,\u001b[0m \u001b[0maddress\u001b[0m\u001b[1;33m)\u001b[0m\u001b[1;33m\u001b[0m\u001b[1;33m\u001b[0m\u001b[0m\n\u001b[0m\u001b[0;32m    213\u001b[0m \u001b[1;33m\u001b[0m\u001b[0m\n\u001b[0;32m    214\u001b[0m             \u001b[1;32mreturn\u001b[0m \u001b[1;33m[\u001b[0m\u001b[0mself\u001b[0m\u001b[1;33m.\u001b[0m\u001b[0mget_server_by_address\u001b[0m\u001b[1;33m(\u001b[0m\u001b[0msd\u001b[0m\u001b[1;33m.\u001b[0m\u001b[0maddress\u001b[0m\u001b[1;33m)\u001b[0m \u001b[1;32mfor\u001b[0m \u001b[0msd\u001b[0m \u001b[1;32min\u001b[0m \u001b[0mserver_descriptions\u001b[0m\u001b[1;33m]\u001b[0m\u001b[1;33m\u001b[0m\u001b[1;33m\u001b[0m\u001b[0m\n",
      "\u001b[1;32m~\\AppData\\Local\\Programs\\Python\\Python310\\lib\\site-packages\\pymongo\\topology.py\u001b[0m in \u001b[0;36m_select_servers_loop\u001b[1;34m(self, selector, timeout, address)\u001b[0m\n\u001b[0;32m    225\u001b[0m             \u001b[1;31m# No suitable servers.\u001b[0m\u001b[1;33m\u001b[0m\u001b[1;33m\u001b[0m\u001b[0m\n\u001b[0;32m    226\u001b[0m             \u001b[1;32mif\u001b[0m \u001b[0mtimeout\u001b[0m \u001b[1;33m==\u001b[0m \u001b[1;36m0\u001b[0m \u001b[1;32mor\u001b[0m \u001b[0mnow\u001b[0m \u001b[1;33m>\u001b[0m \u001b[0mend_time\u001b[0m\u001b[1;33m:\u001b[0m\u001b[1;33m\u001b[0m\u001b[1;33m\u001b[0m\u001b[0m\n\u001b[1;32m--> 227\u001b[1;33m                 raise ServerSelectionTimeoutError(\n\u001b[0m\u001b[0;32m    228\u001b[0m                     \u001b[1;34m\"%s, Timeout: %ss, Topology Description: %r\"\u001b[0m\u001b[1;33m\u001b[0m\u001b[1;33m\u001b[0m\u001b[0m\n\u001b[0;32m    229\u001b[0m                     \u001b[1;33m%\u001b[0m \u001b[1;33m(\u001b[0m\u001b[0mself\u001b[0m\u001b[1;33m.\u001b[0m\u001b[0m_error_message\u001b[0m\u001b[1;33m(\u001b[0m\u001b[0mselector\u001b[0m\u001b[1;33m)\u001b[0m\u001b[1;33m,\u001b[0m \u001b[0mtimeout\u001b[0m\u001b[1;33m,\u001b[0m \u001b[0mself\u001b[0m\u001b[1;33m.\u001b[0m\u001b[0mdescription\u001b[0m\u001b[1;33m)\u001b[0m\u001b[1;33m\u001b[0m\u001b[1;33m\u001b[0m\u001b[0m\n",
      "\u001b[1;31mServerSelectionTimeoutError\u001b[0m: localhost:27017: [WinError 10061] Impossibile stabilire la connessione. Rifiuto persistente del computer di destinazione, Timeout: 30s, Topology Description: <TopologyDescription id: 6266562830cf22fd81f40a8b, topology_type: Unknown, servers: [<ServerDescription ('localhost', 27017) server_type: Unknown, rtt: None, error=AutoReconnect('localhost:27017: [WinError 10061] Impossibile stabilire la connessione. Rifiuto persistente del computer di destinazione')>]>"
     ]
    }
   ],
   "source": [
    "#Cancello tutte le collezioni all'inizio per evitare sovrascrizioni\n",
    "\n",
    "lista_collection=list(db.list_collection_names())\n",
    "\n",
    "for col in lista_collection:\n",
    "    mycol = db[col]\n",
    "    mycol.drop()\n"
   ]
  },
  {
   "cell_type": "code",
   "execution_count": null,
   "metadata": {},
   "outputs": [
    {
     "name": "stdout",
     "output_type": "stream",
     "text": [
      "Available database ->  ['Yelp', 'admin', 'config', 'local', 'students', 'twitter']\n",
      "Available collections ->  []\n"
     ]
    }
   ],
   "source": [
    "# print out available databases names\n",
    "print('Available database -> ', client.list_database_names())\n",
    "print('Available collections -> ', db.list_collection_names())"
   ]
  },
  {
   "cell_type": "code",
   "execution_count": 32,
   "metadata": {},
   "outputs": [],
   "source": [
    "# Created or Switched to collection names: tweets_sample\n",
    "collection_business = db['yelpBusiness']\n",
    "res = collection_business.insert_many(business)"
   ]
  },
  {
   "cell_type": "code",
   "execution_count": 33,
   "metadata": {},
   "outputs": [
    {
     "ename": "AutoReconnect",
     "evalue": "localhost:27017: [WinError 10054] Connessione in corso interrotta forzatamente dall'host remoto",
     "output_type": "error",
     "traceback": [
      "\u001b[1;31m---------------------------------------------------------------------------\u001b[0m",
      "\u001b[1;31mConnectionResetError\u001b[0m                      Traceback (most recent call last)",
      "\u001b[1;32m~\\AppData\\Local\\Programs\\Python\\Python310\\lib\\site-packages\\pymongo\\pool.py\u001b[0m in \u001b[0;36msend_message\u001b[1;34m(self, message, max_doc_size)\u001b[0m\n\u001b[0;32m    783\u001b[0m         \u001b[1;32mtry\u001b[0m\u001b[1;33m:\u001b[0m\u001b[1;33m\u001b[0m\u001b[1;33m\u001b[0m\u001b[0m\n\u001b[1;32m--> 784\u001b[1;33m             \u001b[0mself\u001b[0m\u001b[1;33m.\u001b[0m\u001b[0msock\u001b[0m\u001b[1;33m.\u001b[0m\u001b[0msendall\u001b[0m\u001b[1;33m(\u001b[0m\u001b[0mmessage\u001b[0m\u001b[1;33m)\u001b[0m\u001b[1;33m\u001b[0m\u001b[1;33m\u001b[0m\u001b[0m\n\u001b[0m\u001b[0;32m    785\u001b[0m         \u001b[1;32mexcept\u001b[0m \u001b[0mBaseException\u001b[0m \u001b[1;32mas\u001b[0m \u001b[0merror\u001b[0m\u001b[1;33m:\u001b[0m\u001b[1;33m\u001b[0m\u001b[1;33m\u001b[0m\u001b[0m\n",
      "\u001b[1;31mConnectionResetError\u001b[0m: [WinError 10054] Connessione in corso interrotta forzatamente dall'host remoto",
      "\nThe above exception was the direct cause of the following exception:\n",
      "\u001b[1;31mAutoReconnect\u001b[0m                             Traceback (most recent call last)",
      "\u001b[1;32m~\\AppData\\Local\\Temp/ipykernel_7352/4000675901.py\u001b[0m in \u001b[0;36m<module>\u001b[1;34m\u001b[0m\n\u001b[0;32m      1\u001b[0m \u001b[0mcollection_checkin\u001b[0m \u001b[1;33m=\u001b[0m \u001b[0mdb\u001b[0m\u001b[1;33m[\u001b[0m\u001b[1;34m'yelpCheckin'\u001b[0m\u001b[1;33m]\u001b[0m\u001b[1;33m\u001b[0m\u001b[1;33m\u001b[0m\u001b[0m\n\u001b[1;32m----> 2\u001b[1;33m \u001b[0mres\u001b[0m \u001b[1;33m=\u001b[0m \u001b[0mcollection_checkin\u001b[0m\u001b[1;33m.\u001b[0m\u001b[0minsert_many\u001b[0m\u001b[1;33m(\u001b[0m\u001b[0mcheckin\u001b[0m\u001b[1;33m)\u001b[0m\u001b[1;33m\u001b[0m\u001b[1;33m\u001b[0m\u001b[0m\n\u001b[0m",
      "\u001b[1;32m~\\AppData\\Local\\Programs\\Python\\Python310\\lib\\site-packages\\pymongo\\collection.py\u001b[0m in \u001b[0;36minsert_many\u001b[1;34m(self, documents, ordered, bypass_document_validation, session, comment)\u001b[0m\n\u001b[0;32m    689\u001b[0m         \u001b[0mblk\u001b[0m \u001b[1;33m=\u001b[0m \u001b[0m_Bulk\u001b[0m\u001b[1;33m(\u001b[0m\u001b[0mself\u001b[0m\u001b[1;33m,\u001b[0m \u001b[0mordered\u001b[0m\u001b[1;33m,\u001b[0m \u001b[0mbypass_document_validation\u001b[0m\u001b[1;33m,\u001b[0m \u001b[0mcomment\u001b[0m\u001b[1;33m=\u001b[0m\u001b[0mcomment\u001b[0m\u001b[1;33m)\u001b[0m\u001b[1;33m\u001b[0m\u001b[1;33m\u001b[0m\u001b[0m\n\u001b[0;32m    690\u001b[0m         \u001b[0mblk\u001b[0m\u001b[1;33m.\u001b[0m\u001b[0mops\u001b[0m \u001b[1;33m=\u001b[0m \u001b[1;33m[\u001b[0m\u001b[0mdoc\u001b[0m \u001b[1;32mfor\u001b[0m \u001b[0mdoc\u001b[0m \u001b[1;32min\u001b[0m \u001b[0mgen\u001b[0m\u001b[1;33m(\u001b[0m\u001b[1;33m)\u001b[0m\u001b[1;33m]\u001b[0m\u001b[1;33m\u001b[0m\u001b[1;33m\u001b[0m\u001b[0m\n\u001b[1;32m--> 691\u001b[1;33m         \u001b[0mblk\u001b[0m\u001b[1;33m.\u001b[0m\u001b[0mexecute\u001b[0m\u001b[1;33m(\u001b[0m\u001b[0mwrite_concern\u001b[0m\u001b[1;33m,\u001b[0m \u001b[0msession\u001b[0m\u001b[1;33m=\u001b[0m\u001b[0msession\u001b[0m\u001b[1;33m)\u001b[0m\u001b[1;33m\u001b[0m\u001b[1;33m\u001b[0m\u001b[0m\n\u001b[0m\u001b[0;32m    692\u001b[0m         \u001b[1;32mreturn\u001b[0m \u001b[0mInsertManyResult\u001b[0m\u001b[1;33m(\u001b[0m\u001b[0minserted_ids\u001b[0m\u001b[1;33m,\u001b[0m \u001b[0mwrite_concern\u001b[0m\u001b[1;33m.\u001b[0m\u001b[0macknowledged\u001b[0m\u001b[1;33m)\u001b[0m\u001b[1;33m\u001b[0m\u001b[1;33m\u001b[0m\u001b[0m\n\u001b[0;32m    693\u001b[0m \u001b[1;33m\u001b[0m\u001b[0m\n",
      "\u001b[1;32m~\\AppData\\Local\\Programs\\Python\\Python310\\lib\\site-packages\\pymongo\\bulk.py\u001b[0m in \u001b[0;36mexecute\u001b[1;34m(self, write_concern, session)\u001b[0m\n\u001b[0;32m    510\u001b[0m                 \u001b[0mself\u001b[0m\u001b[1;33m.\u001b[0m\u001b[0mexecute_no_results\u001b[0m\u001b[1;33m(\u001b[0m\u001b[0msock_info\u001b[0m\u001b[1;33m,\u001b[0m \u001b[0mgenerator\u001b[0m\u001b[1;33m,\u001b[0m \u001b[0mwrite_concern\u001b[0m\u001b[1;33m)\u001b[0m\u001b[1;33m\u001b[0m\u001b[1;33m\u001b[0m\u001b[0m\n\u001b[0;32m    511\u001b[0m         \u001b[1;32melse\u001b[0m\u001b[1;33m:\u001b[0m\u001b[1;33m\u001b[0m\u001b[1;33m\u001b[0m\u001b[0m\n\u001b[1;32m--> 512\u001b[1;33m             \u001b[1;32mreturn\u001b[0m \u001b[0mself\u001b[0m\u001b[1;33m.\u001b[0m\u001b[0mexecute_command\u001b[0m\u001b[1;33m(\u001b[0m\u001b[0mgenerator\u001b[0m\u001b[1;33m,\u001b[0m \u001b[0mwrite_concern\u001b[0m\u001b[1;33m,\u001b[0m \u001b[0msession\u001b[0m\u001b[1;33m)\u001b[0m\u001b[1;33m\u001b[0m\u001b[1;33m\u001b[0m\u001b[0m\n\u001b[0m",
      "\u001b[1;32m~\\AppData\\Local\\Programs\\Python\\Python310\\lib\\site-packages\\pymongo\\bulk.py\u001b[0m in \u001b[0;36mexecute_command\u001b[1;34m(self, generator, write_concern, session)\u001b[0m\n\u001b[0;32m    388\u001b[0m         \u001b[0mclient\u001b[0m \u001b[1;33m=\u001b[0m \u001b[0mself\u001b[0m\u001b[1;33m.\u001b[0m\u001b[0mcollection\u001b[0m\u001b[1;33m.\u001b[0m\u001b[0mdatabase\u001b[0m\u001b[1;33m.\u001b[0m\u001b[0mclient\u001b[0m\u001b[1;33m\u001b[0m\u001b[1;33m\u001b[0m\u001b[0m\n\u001b[0;32m    389\u001b[0m         \u001b[1;32mwith\u001b[0m \u001b[0mclient\u001b[0m\u001b[1;33m.\u001b[0m\u001b[0m_tmp_session\u001b[0m\u001b[1;33m(\u001b[0m\u001b[0msession\u001b[0m\u001b[1;33m)\u001b[0m \u001b[1;32mas\u001b[0m \u001b[0ms\u001b[0m\u001b[1;33m:\u001b[0m\u001b[1;33m\u001b[0m\u001b[1;33m\u001b[0m\u001b[0m\n\u001b[1;32m--> 390\u001b[1;33m             \u001b[0mclient\u001b[0m\u001b[1;33m.\u001b[0m\u001b[0m_retry_with_session\u001b[0m\u001b[1;33m(\u001b[0m\u001b[0mself\u001b[0m\u001b[1;33m.\u001b[0m\u001b[0mis_retryable\u001b[0m\u001b[1;33m,\u001b[0m \u001b[0mretryable_bulk\u001b[0m\u001b[1;33m,\u001b[0m \u001b[0ms\u001b[0m\u001b[1;33m,\u001b[0m \u001b[0mself\u001b[0m\u001b[1;33m)\u001b[0m\u001b[1;33m\u001b[0m\u001b[1;33m\u001b[0m\u001b[0m\n\u001b[0m\u001b[0;32m    391\u001b[0m \u001b[1;33m\u001b[0m\u001b[0m\n\u001b[0;32m    392\u001b[0m         \u001b[1;32mif\u001b[0m \u001b[0mfull_result\u001b[0m\u001b[1;33m[\u001b[0m\u001b[1;34m\"writeErrors\"\u001b[0m\u001b[1;33m]\u001b[0m \u001b[1;32mor\u001b[0m \u001b[0mfull_result\u001b[0m\u001b[1;33m[\u001b[0m\u001b[1;34m\"writeConcernErrors\"\u001b[0m\u001b[1;33m]\u001b[0m\u001b[1;33m:\u001b[0m\u001b[1;33m\u001b[0m\u001b[1;33m\u001b[0m\u001b[0m\n",
      "\u001b[1;32m~\\AppData\\Local\\Programs\\Python\\Python310\\lib\\site-packages\\pymongo\\mongo_client.py\u001b[0m in \u001b[0;36m_retry_with_session\u001b[1;34m(self, retryable, func, session, bulk)\u001b[0m\n\u001b[0;32m   1284\u001b[0m             \u001b[0mretryable\u001b[0m \u001b[1;32mand\u001b[0m \u001b[0mself\u001b[0m\u001b[1;33m.\u001b[0m\u001b[0moptions\u001b[0m\u001b[1;33m.\u001b[0m\u001b[0mretry_writes\u001b[0m \u001b[1;32mand\u001b[0m \u001b[0msession\u001b[0m \u001b[1;32mand\u001b[0m \u001b[1;32mnot\u001b[0m \u001b[0msession\u001b[0m\u001b[1;33m.\u001b[0m\u001b[0min_transaction\u001b[0m\u001b[1;33m\u001b[0m\u001b[1;33m\u001b[0m\u001b[0m\n\u001b[0;32m   1285\u001b[0m         )\n\u001b[1;32m-> 1286\u001b[1;33m         \u001b[1;32mreturn\u001b[0m \u001b[0mself\u001b[0m\u001b[1;33m.\u001b[0m\u001b[0m_retry_internal\u001b[0m\u001b[1;33m(\u001b[0m\u001b[0mretryable\u001b[0m\u001b[1;33m,\u001b[0m \u001b[0mfunc\u001b[0m\u001b[1;33m,\u001b[0m \u001b[0msession\u001b[0m\u001b[1;33m,\u001b[0m \u001b[0mbulk\u001b[0m\u001b[1;33m)\u001b[0m\u001b[1;33m\u001b[0m\u001b[1;33m\u001b[0m\u001b[0m\n\u001b[0m\u001b[0;32m   1287\u001b[0m \u001b[1;33m\u001b[0m\u001b[0m\n\u001b[0;32m   1288\u001b[0m     \u001b[1;32mdef\u001b[0m \u001b[0m_retry_internal\u001b[0m\u001b[1;33m(\u001b[0m\u001b[0mself\u001b[0m\u001b[1;33m,\u001b[0m \u001b[0mretryable\u001b[0m\u001b[1;33m,\u001b[0m \u001b[0mfunc\u001b[0m\u001b[1;33m,\u001b[0m \u001b[0msession\u001b[0m\u001b[1;33m,\u001b[0m \u001b[0mbulk\u001b[0m\u001b[1;33m)\u001b[0m\u001b[1;33m:\u001b[0m\u001b[1;33m\u001b[0m\u001b[1;33m\u001b[0m\u001b[0m\n",
      "\u001b[1;32m~\\AppData\\Local\\Programs\\Python\\Python310\\lib\\site-packages\\pymongo\\mongo_client.py\u001b[0m in \u001b[0;36m_retry_internal\u001b[1;34m(self, retryable, func, session, bulk)\u001b[0m\n\u001b[0;32m   1318\u001b[0m                             \u001b[1;32mraise\u001b[0m \u001b[0mlast_error\u001b[0m\u001b[1;33m\u001b[0m\u001b[1;33m\u001b[0m\u001b[0m\n\u001b[0;32m   1319\u001b[0m                         \u001b[0mretryable\u001b[0m \u001b[1;33m=\u001b[0m \u001b[1;32mFalse\u001b[0m\u001b[1;33m\u001b[0m\u001b[1;33m\u001b[0m\u001b[0m\n\u001b[1;32m-> 1320\u001b[1;33m                     \u001b[1;32mreturn\u001b[0m \u001b[0mfunc\u001b[0m\u001b[1;33m(\u001b[0m\u001b[0msession\u001b[0m\u001b[1;33m,\u001b[0m \u001b[0msock_info\u001b[0m\u001b[1;33m,\u001b[0m \u001b[0mretryable\u001b[0m\u001b[1;33m)\u001b[0m\u001b[1;33m\u001b[0m\u001b[1;33m\u001b[0m\u001b[0m\n\u001b[0m\u001b[0;32m   1321\u001b[0m             \u001b[1;32mexcept\u001b[0m \u001b[0mServerSelectionTimeoutError\u001b[0m\u001b[1;33m:\u001b[0m\u001b[1;33m\u001b[0m\u001b[1;33m\u001b[0m\u001b[0m\n\u001b[0;32m   1322\u001b[0m                 \u001b[1;32mif\u001b[0m \u001b[0mis_retrying\u001b[0m\u001b[1;33m(\u001b[0m\u001b[1;33m)\u001b[0m\u001b[1;33m:\u001b[0m\u001b[1;33m\u001b[0m\u001b[1;33m\u001b[0m\u001b[0m\n",
      "\u001b[1;32m~\\AppData\\Local\\Programs\\Python\\Python310\\lib\\site-packages\\pymongo\\bulk.py\u001b[0m in \u001b[0;36mretryable_bulk\u001b[1;34m(session, sock_info, retryable)\u001b[0m\n\u001b[0;32m    382\u001b[0m \u001b[1;33m\u001b[0m\u001b[0m\n\u001b[0;32m    383\u001b[0m         \u001b[1;32mdef\u001b[0m \u001b[0mretryable_bulk\u001b[0m\u001b[1;33m(\u001b[0m\u001b[0msession\u001b[0m\u001b[1;33m,\u001b[0m \u001b[0msock_info\u001b[0m\u001b[1;33m,\u001b[0m \u001b[0mretryable\u001b[0m\u001b[1;33m)\u001b[0m\u001b[1;33m:\u001b[0m\u001b[1;33m\u001b[0m\u001b[1;33m\u001b[0m\u001b[0m\n\u001b[1;32m--> 384\u001b[1;33m             self._execute_command(\n\u001b[0m\u001b[0;32m    385\u001b[0m                 \u001b[0mgenerator\u001b[0m\u001b[1;33m,\u001b[0m \u001b[0mwrite_concern\u001b[0m\u001b[1;33m,\u001b[0m \u001b[0msession\u001b[0m\u001b[1;33m,\u001b[0m \u001b[0msock_info\u001b[0m\u001b[1;33m,\u001b[0m \u001b[0mop_id\u001b[0m\u001b[1;33m,\u001b[0m \u001b[0mretryable\u001b[0m\u001b[1;33m,\u001b[0m \u001b[0mfull_result\u001b[0m\u001b[1;33m\u001b[0m\u001b[1;33m\u001b[0m\u001b[0m\n\u001b[0;32m    386\u001b[0m             )\n",
      "\u001b[1;32m~\\AppData\\Local\\Programs\\Python\\Python310\\lib\\site-packages\\pymongo\\bulk.py\u001b[0m in \u001b[0;36m_execute_command\u001b[1;34m(self, generator, write_concern, session, sock_info, op_id, retryable, full_result, final_write_concern)\u001b[0m\n\u001b[0;32m    335\u001b[0m                 \u001b[1;31m# Run as many ops as possible in one command.\u001b[0m\u001b[1;33m\u001b[0m\u001b[1;33m\u001b[0m\u001b[0m\n\u001b[0;32m    336\u001b[0m                 \u001b[1;32mif\u001b[0m \u001b[0mwrite_concern\u001b[0m\u001b[1;33m.\u001b[0m\u001b[0macknowledged\u001b[0m\u001b[1;33m:\u001b[0m\u001b[1;33m\u001b[0m\u001b[1;33m\u001b[0m\u001b[0m\n\u001b[1;32m--> 337\u001b[1;33m                     \u001b[0mresult\u001b[0m\u001b[1;33m,\u001b[0m \u001b[0mto_send\u001b[0m \u001b[1;33m=\u001b[0m \u001b[0mbwc\u001b[0m\u001b[1;33m.\u001b[0m\u001b[0mexecute\u001b[0m\u001b[1;33m(\u001b[0m\u001b[0mcmd\u001b[0m\u001b[1;33m,\u001b[0m \u001b[0mops\u001b[0m\u001b[1;33m,\u001b[0m \u001b[0mclient\u001b[0m\u001b[1;33m)\u001b[0m\u001b[1;33m\u001b[0m\u001b[1;33m\u001b[0m\u001b[0m\n\u001b[0m\u001b[0;32m    338\u001b[0m \u001b[1;33m\u001b[0m\u001b[0m\n\u001b[0;32m    339\u001b[0m                     \u001b[1;31m# Retryable writeConcernErrors halt the execution of this run.\u001b[0m\u001b[1;33m\u001b[0m\u001b[1;33m\u001b[0m\u001b[0m\n",
      "\u001b[1;32m~\\AppData\\Local\\Programs\\Python\\Python310\\lib\\site-packages\\pymongo\\message.py\u001b[0m in \u001b[0;36mexecute\u001b[1;34m(self, cmd, docs, client)\u001b[0m\n\u001b[0;32m    821\u001b[0m     \u001b[1;32mdef\u001b[0m \u001b[0mexecute\u001b[0m\u001b[1;33m(\u001b[0m\u001b[0mself\u001b[0m\u001b[1;33m,\u001b[0m \u001b[0mcmd\u001b[0m\u001b[1;33m,\u001b[0m \u001b[0mdocs\u001b[0m\u001b[1;33m,\u001b[0m \u001b[0mclient\u001b[0m\u001b[1;33m)\u001b[0m\u001b[1;33m:\u001b[0m\u001b[1;33m\u001b[0m\u001b[1;33m\u001b[0m\u001b[0m\n\u001b[0;32m    822\u001b[0m         \u001b[0mrequest_id\u001b[0m\u001b[1;33m,\u001b[0m \u001b[0mmsg\u001b[0m\u001b[1;33m,\u001b[0m \u001b[0mto_send\u001b[0m \u001b[1;33m=\u001b[0m \u001b[0mself\u001b[0m\u001b[1;33m.\u001b[0m\u001b[0m_batch_command\u001b[0m\u001b[1;33m(\u001b[0m\u001b[0mcmd\u001b[0m\u001b[1;33m,\u001b[0m \u001b[0mdocs\u001b[0m\u001b[1;33m)\u001b[0m\u001b[1;33m\u001b[0m\u001b[1;33m\u001b[0m\u001b[0m\n\u001b[1;32m--> 823\u001b[1;33m         \u001b[0mresult\u001b[0m \u001b[1;33m=\u001b[0m \u001b[0mself\u001b[0m\u001b[1;33m.\u001b[0m\u001b[0mwrite_command\u001b[0m\u001b[1;33m(\u001b[0m\u001b[0mcmd\u001b[0m\u001b[1;33m,\u001b[0m \u001b[0mrequest_id\u001b[0m\u001b[1;33m,\u001b[0m \u001b[0mmsg\u001b[0m\u001b[1;33m,\u001b[0m \u001b[0mto_send\u001b[0m\u001b[1;33m)\u001b[0m\u001b[1;33m\u001b[0m\u001b[1;33m\u001b[0m\u001b[0m\n\u001b[0m\u001b[0;32m    824\u001b[0m         \u001b[0mclient\u001b[0m\u001b[1;33m.\u001b[0m\u001b[0m_process_response\u001b[0m\u001b[1;33m(\u001b[0m\u001b[0mresult\u001b[0m\u001b[1;33m,\u001b[0m \u001b[0mself\u001b[0m\u001b[1;33m.\u001b[0m\u001b[0msession\u001b[0m\u001b[1;33m)\u001b[0m\u001b[1;33m\u001b[0m\u001b[1;33m\u001b[0m\u001b[0m\n\u001b[0;32m    825\u001b[0m         \u001b[1;32mreturn\u001b[0m \u001b[0mresult\u001b[0m\u001b[1;33m,\u001b[0m \u001b[0mto_send\u001b[0m\u001b[1;33m\u001b[0m\u001b[1;33m\u001b[0m\u001b[0m\n",
      "\u001b[1;32m~\\AppData\\Local\\Programs\\Python\\Python310\\lib\\site-packages\\pymongo\\message.py\u001b[0m in \u001b[0;36mwrite_command\u001b[1;34m(self, cmd, request_id, msg, docs)\u001b[0m\n\u001b[0;32m    899\u001b[0m             \u001b[0mstart\u001b[0m \u001b[1;33m=\u001b[0m \u001b[0mdatetime\u001b[0m\u001b[1;33m.\u001b[0m\u001b[0mdatetime\u001b[0m\u001b[1;33m.\u001b[0m\u001b[0mnow\u001b[0m\u001b[1;33m(\u001b[0m\u001b[1;33m)\u001b[0m\u001b[1;33m\u001b[0m\u001b[1;33m\u001b[0m\u001b[0m\n\u001b[0;32m    900\u001b[0m         \u001b[1;32mtry\u001b[0m\u001b[1;33m:\u001b[0m\u001b[1;33m\u001b[0m\u001b[1;33m\u001b[0m\u001b[0m\n\u001b[1;32m--> 901\u001b[1;33m             \u001b[0mreply\u001b[0m \u001b[1;33m=\u001b[0m \u001b[0mself\u001b[0m\u001b[1;33m.\u001b[0m\u001b[0msock_info\u001b[0m\u001b[1;33m.\u001b[0m\u001b[0mwrite_command\u001b[0m\u001b[1;33m(\u001b[0m\u001b[0mrequest_id\u001b[0m\u001b[1;33m,\u001b[0m \u001b[0mmsg\u001b[0m\u001b[1;33m,\u001b[0m \u001b[0mself\u001b[0m\u001b[1;33m.\u001b[0m\u001b[0mcodec\u001b[0m\u001b[1;33m)\u001b[0m\u001b[1;33m\u001b[0m\u001b[1;33m\u001b[0m\u001b[0m\n\u001b[0m\u001b[0;32m    902\u001b[0m             \u001b[1;32mif\u001b[0m \u001b[0mself\u001b[0m\u001b[1;33m.\u001b[0m\u001b[0mpublish\u001b[0m\u001b[1;33m:\u001b[0m\u001b[1;33m\u001b[0m\u001b[1;33m\u001b[0m\u001b[0m\n\u001b[0;32m    903\u001b[0m                 \u001b[0mduration\u001b[0m \u001b[1;33m=\u001b[0m \u001b[1;33m(\u001b[0m\u001b[0mdatetime\u001b[0m\u001b[1;33m.\u001b[0m\u001b[0mdatetime\u001b[0m\u001b[1;33m.\u001b[0m\u001b[0mnow\u001b[0m\u001b[1;33m(\u001b[0m\u001b[1;33m)\u001b[0m \u001b[1;33m-\u001b[0m \u001b[0mstart\u001b[0m\u001b[1;33m)\u001b[0m \u001b[1;33m+\u001b[0m \u001b[0mduration\u001b[0m\u001b[1;33m\u001b[0m\u001b[1;33m\u001b[0m\u001b[0m\n",
      "\u001b[1;32m~\\AppData\\Local\\Programs\\Python\\Python310\\lib\\site-packages\\pymongo\\pool.py\u001b[0m in \u001b[0;36mwrite_command\u001b[1;34m(self, request_id, msg, codec_options)\u001b[0m\n\u001b[0;32m    825\u001b[0m           \u001b[1;33m-\u001b[0m\u001b[0;31m \u001b[0m\u001b[0;31m`\u001b[0m\u001b[0mmsg\u001b[0m\u001b[0;31m`\u001b[0m\u001b[1;33m:\u001b[0m \u001b[0mbytes\u001b[0m\u001b[1;33m,\u001b[0m \u001b[0mthe\u001b[0m \u001b[0mcommand\u001b[0m \u001b[0mmessage\u001b[0m\u001b[1;33m.\u001b[0m\u001b[1;33m\u001b[0m\u001b[1;33m\u001b[0m\u001b[0m\n\u001b[0;32m    826\u001b[0m         \"\"\"\n\u001b[1;32m--> 827\u001b[1;33m         \u001b[0mself\u001b[0m\u001b[1;33m.\u001b[0m\u001b[0msend_message\u001b[0m\u001b[1;33m(\u001b[0m\u001b[0mmsg\u001b[0m\u001b[1;33m,\u001b[0m \u001b[1;36m0\u001b[0m\u001b[1;33m)\u001b[0m\u001b[1;33m\u001b[0m\u001b[1;33m\u001b[0m\u001b[0m\n\u001b[0m\u001b[0;32m    828\u001b[0m         \u001b[0mreply\u001b[0m \u001b[1;33m=\u001b[0m \u001b[0mself\u001b[0m\u001b[1;33m.\u001b[0m\u001b[0mreceive_message\u001b[0m\u001b[1;33m(\u001b[0m\u001b[0mrequest_id\u001b[0m\u001b[1;33m)\u001b[0m\u001b[1;33m\u001b[0m\u001b[1;33m\u001b[0m\u001b[0m\n\u001b[0;32m    829\u001b[0m         \u001b[0mresult\u001b[0m \u001b[1;33m=\u001b[0m \u001b[0mreply\u001b[0m\u001b[1;33m.\u001b[0m\u001b[0mcommand_response\u001b[0m\u001b[1;33m(\u001b[0m\u001b[0mcodec_options\u001b[0m\u001b[1;33m)\u001b[0m\u001b[1;33m\u001b[0m\u001b[1;33m\u001b[0m\u001b[0m\n",
      "\u001b[1;32m~\\AppData\\Local\\Programs\\Python\\Python310\\lib\\site-packages\\pymongo\\pool.py\u001b[0m in \u001b[0;36msend_message\u001b[1;34m(self, message, max_doc_size)\u001b[0m\n\u001b[0;32m    784\u001b[0m             \u001b[0mself\u001b[0m\u001b[1;33m.\u001b[0m\u001b[0msock\u001b[0m\u001b[1;33m.\u001b[0m\u001b[0msendall\u001b[0m\u001b[1;33m(\u001b[0m\u001b[0mmessage\u001b[0m\u001b[1;33m)\u001b[0m\u001b[1;33m\u001b[0m\u001b[1;33m\u001b[0m\u001b[0m\n\u001b[0;32m    785\u001b[0m         \u001b[1;32mexcept\u001b[0m \u001b[0mBaseException\u001b[0m \u001b[1;32mas\u001b[0m \u001b[0merror\u001b[0m\u001b[1;33m:\u001b[0m\u001b[1;33m\u001b[0m\u001b[1;33m\u001b[0m\u001b[0m\n\u001b[1;32m--> 786\u001b[1;33m             \u001b[0mself\u001b[0m\u001b[1;33m.\u001b[0m\u001b[0m_raise_connection_failure\u001b[0m\u001b[1;33m(\u001b[0m\u001b[0merror\u001b[0m\u001b[1;33m)\u001b[0m\u001b[1;33m\u001b[0m\u001b[1;33m\u001b[0m\u001b[0m\n\u001b[0m\u001b[0;32m    787\u001b[0m \u001b[1;33m\u001b[0m\u001b[0m\n\u001b[0;32m    788\u001b[0m     \u001b[1;32mdef\u001b[0m \u001b[0mreceive_message\u001b[0m\u001b[1;33m(\u001b[0m\u001b[0mself\u001b[0m\u001b[1;33m,\u001b[0m \u001b[0mrequest_id\u001b[0m\u001b[1;33m)\u001b[0m\u001b[1;33m:\u001b[0m\u001b[1;33m\u001b[0m\u001b[1;33m\u001b[0m\u001b[0m\n",
      "\u001b[1;32m~\\AppData\\Local\\Programs\\Python\\Python310\\lib\\site-packages\\pymongo\\pool.py\u001b[0m in \u001b[0;36m_raise_connection_failure\u001b[1;34m(self, error)\u001b[0m\n\u001b[0;32m    926\u001b[0m         \u001b[1;31m# SSLError from PyOpenSSL inherits directly from Exception.\u001b[0m\u001b[1;33m\u001b[0m\u001b[1;33m\u001b[0m\u001b[0m\n\u001b[0;32m    927\u001b[0m         \u001b[1;32mif\u001b[0m \u001b[0misinstance\u001b[0m\u001b[1;33m(\u001b[0m\u001b[0merror\u001b[0m\u001b[1;33m,\u001b[0m \u001b[1;33m(\u001b[0m\u001b[0mIOError\u001b[0m\u001b[1;33m,\u001b[0m \u001b[0mOSError\u001b[0m\u001b[1;33m,\u001b[0m \u001b[0m_SSLError\u001b[0m\u001b[1;33m)\u001b[0m\u001b[1;33m)\u001b[0m\u001b[1;33m:\u001b[0m\u001b[1;33m\u001b[0m\u001b[1;33m\u001b[0m\u001b[0m\n\u001b[1;32m--> 928\u001b[1;33m             \u001b[0m_raise_connection_failure\u001b[0m\u001b[1;33m(\u001b[0m\u001b[0mself\u001b[0m\u001b[1;33m.\u001b[0m\u001b[0maddress\u001b[0m\u001b[1;33m,\u001b[0m \u001b[0merror\u001b[0m\u001b[1;33m)\u001b[0m\u001b[1;33m\u001b[0m\u001b[1;33m\u001b[0m\u001b[0m\n\u001b[0m\u001b[0;32m    929\u001b[0m         \u001b[1;32melse\u001b[0m\u001b[1;33m:\u001b[0m\u001b[1;33m\u001b[0m\u001b[1;33m\u001b[0m\u001b[0m\n\u001b[0;32m    930\u001b[0m             \u001b[1;32mraise\u001b[0m\u001b[1;33m\u001b[0m\u001b[1;33m\u001b[0m\u001b[0m\n",
      "\u001b[1;32m~\\AppData\\Local\\Programs\\Python\\Python310\\lib\\site-packages\\pymongo\\pool.py\u001b[0m in \u001b[0;36m_raise_connection_failure\u001b[1;34m(address, error, msg_prefix)\u001b[0m\n\u001b[0;32m    271\u001b[0m         \u001b[1;32mraise\u001b[0m \u001b[0mNetworkTimeout\u001b[0m\u001b[1;33m(\u001b[0m\u001b[0mmsg\u001b[0m\u001b[1;33m)\u001b[0m \u001b[1;32mfrom\u001b[0m \u001b[0merror\u001b[0m\u001b[1;33m\u001b[0m\u001b[1;33m\u001b[0m\u001b[0m\n\u001b[0;32m    272\u001b[0m     \u001b[1;32melse\u001b[0m\u001b[1;33m:\u001b[0m\u001b[1;33m\u001b[0m\u001b[1;33m\u001b[0m\u001b[0m\n\u001b[1;32m--> 273\u001b[1;33m         \u001b[1;32mraise\u001b[0m \u001b[0mAutoReconnect\u001b[0m\u001b[1;33m(\u001b[0m\u001b[0mmsg\u001b[0m\u001b[1;33m)\u001b[0m \u001b[1;32mfrom\u001b[0m \u001b[0merror\u001b[0m\u001b[1;33m\u001b[0m\u001b[1;33m\u001b[0m\u001b[0m\n\u001b[0m\u001b[0;32m    274\u001b[0m \u001b[1;33m\u001b[0m\u001b[0m\n\u001b[0;32m    275\u001b[0m \u001b[1;33m\u001b[0m\u001b[0m\n",
      "\u001b[1;31mAutoReconnect\u001b[0m: localhost:27017: [WinError 10054] Connessione in corso interrotta forzatamente dall'host remoto"
     ]
    }
   ],
   "source": [
    "collection_checkin = db['yelpCheckin']\n",
    "res = collection_checkin.insert_many(checkin)"
   ]
  },
  {
   "cell_type": "code",
   "execution_count": null,
   "metadata": {},
   "outputs": [],
   "source": [
    "collection_tip= db['yelpTip']\n",
    "res = collection_tip.insert_many(tip)\n"
   ]
  },
  {
   "cell_type": "code",
   "execution_count": null,
   "metadata": {},
   "outputs": [],
   "source": [
    "collection_user= db['yelpUser']\n",
    "res = collection_user.insert_many(user)"
   ]
  },
  {
   "cell_type": "code",
   "execution_count": null,
   "metadata": {},
   "outputs": [],
   "source": []
  },
  {
   "cell_type": "code",
   "execution_count": null,
   "metadata": {},
   "outputs": [],
   "source": [
    "review1=review[:len(review)]\n",
    "review2=[len(review):]\n",
    "collection_review = db['yelpReview']\n",
    "res = collection_review.insert_many(review)"
   ]
  },
  {
   "cell_type": "code",
   "execution_count": 34,
   "metadata": {},
   "outputs": [],
   "source": [
    "collection_review = db['yelpReview']\n",
    "res = collection_review.insert_many(review)"
   ]
  },
  {
   "cell_type": "code",
   "execution_count": null,
   "metadata": {},
   "outputs": [],
   "source": [
    "# print out available databases names\n",
    "print('Available database -> ', client.list_database_names())\n",
    "print('Available collections -> ', db.list_collection_names())"
   ]
  },
  {
   "cell_type": "markdown",
   "metadata": {},
   "source": [
    "### Query Application"
   ]
  },
  {
   "cell_type": "code",
   "execution_count": null,
   "metadata": {},
   "outputs": [],
   "source": [
    "#Data latitudine e longitudine di un utente (posizione) voglio trovare il business "
   ]
  },
  {
   "cell_type": "code",
   "execution_count": null,
   "metadata": {},
   "outputs": [],
   "source": []
  },
  {
   "cell_type": "markdown",
   "metadata": {
    "jp-MarkdownHeadingCollapsed": true,
    "tags": []
   },
   "source": [
    "### Data Selection"
   ]
  },
  {
   "cell_type": "code",
   "execution_count": 61,
   "metadata": {},
   "outputs": [],
   "source": [
    "collection=collection_business\n",
    "\n",
    "cursor = collection.find()"
   ]
  },
  {
   "cell_type": "code",
   "execution_count": 62,
   "metadata": {},
   "outputs": [
    {
     "data": {
      "text/plain": [
       "1201191"
      ]
     },
     "execution_count": 62,
     "metadata": {},
     "output_type": "execute_result"
    }
   ],
   "source": [
    "res = list(cursor)\n",
    "len(res)"
   ]
  },
  {
   "cell_type": "code",
   "execution_count": null,
   "metadata": {},
   "outputs": [],
   "source": [
    "#next(cursor)"
   ]
  },
  {
   "cell_type": "markdown",
   "metadata": {
    "jp-MarkdownHeadingCollapsed": true,
    "tags": []
   },
   "source": [
    "### Comparison filters"
   ]
  },
  {
   "cell_type": "code",
   "execution_count": null,
   "metadata": {},
   "outputs": [],
   "source": [
    "collection=collection_business"
   ]
  },
  {
   "cell_type": "code",
   "execution_count": null,
   "metadata": {},
   "outputs": [
    {
     "data": {
      "text/plain": [
       "1898"
      ]
     },
     "execution_count": 64,
     "metadata": {},
     "output_type": "execute_result"
    }
   ],
   "source": [
    "# filtro per uguaglianza e per confronto\n",
    "filter={\n",
    "    'city': 'Santa Barbara', \n",
    "    'stars': {\n",
    "        '$gt': 4\n",
    "    }\n",
    "}\n",
    "\n",
    "result = collection.find(\n",
    "    filter=filter\n",
    ")\n",
    "\n",
    "\n",
    "result_list = list(result)\n",
    "len(result_list)"
   ]
  },
  {
   "cell_type": "code",
   "execution_count": 65,
   "metadata": {},
   "outputs": [
    {
     "data": {
      "text/plain": [
       "{'_id': ObjectId('626648fe0130b738ac8c6019'),\n",
       " 'business_id': 'Pns2l4eNsfO8kk83dixA6A',\n",
       " 'name': 'Abby Rappoport, LAC, CMQ',\n",
       " 'address': '1616 Chapala St, Ste 2',\n",
       " 'city': 'Santa Barbara',\n",
       " 'state': 'CA',\n",
       " 'postal_code': '93101',\n",
       " 'latitude': 34.4266787,\n",
       " 'longitude': -119.7111968,\n",
       " 'stars': 5.0,\n",
       " 'review_count': 7,\n",
       " 'is_open': 0,\n",
       " 'attributes': {'ByAppointmentOnly': 'True'},\n",
       " 'categories': 'Doctors, Traditional Chinese Medicine, Naturopathic/Holistic, Acupuncture, Health & Medical, Nutritionists',\n",
       " 'hours': None}"
      ]
     },
     "execution_count": 65,
     "metadata": {},
     "output_type": "execute_result"
    }
   ],
   "source": [
    "result_list[0]"
   ]
  },
  {
   "cell_type": "markdown",
   "metadata": {},
   "source": [
    "When you are interested in just counting the number of documents in output, it is better to use the *count_documents* method."
   ]
  },
  {
   "cell_type": "code",
   "execution_count": 66,
   "metadata": {},
   "outputs": [
    {
     "name": "stdout",
     "output_type": "stream",
     "text": [
      "Number of business ->  1898\n"
     ]
    }
   ],
   "source": [
    "# usare la count_documents ti restituisce il risultato invece del cursore\n",
    "print(\"Number of business -> \", collection.count_documents(filter))"
   ]
  },
  {
   "cell_type": "markdown",
   "metadata": {
    "jp-MarkdownHeadingCollapsed": true,
    "tags": []
   },
   "source": [
    "### Data projection"
   ]
  },
  {
   "cell_type": "code",
   "execution_count": 67,
   "metadata": {},
   "outputs": [
    {
     "data": {
      "text/plain": [
       "{'_id': ObjectId('626648fe0130b738ac8c6019'), 'review_count': 7}"
      ]
     },
     "execution_count": 67,
     "metadata": {},
     "output_type": "execute_result"
    }
   ],
   "source": [
    "# filtering\n",
    "filter={\n",
    "    'city': 'Santa Barbara', \n",
    "    'stars': {\n",
    "        '$gt': 4\n",
    "    }\n",
    "}\n",
    "\n",
    "# data projection (seleziono solo determinati campi)\n",
    "project={\n",
    "    'review_count': 1,\n",
    "    'id': 1,\n",
    "#    'user': 1\n",
    "}\n",
    "\n",
    "result = collection.find(\n",
    "    filter=filter,\n",
    "    projection=project,\n",
    ")\n",
    "\n",
    "result_list = list(result)\n",
    "result_list[0]"
   ]
  },
  {
   "cell_type": "code",
   "execution_count": 68,
   "metadata": {},
   "outputs": [
    {
     "data": {
      "text/plain": [
       "[{'_id': ObjectId('626648fe0130b738ac8c6019'), 'review_count': 7},\n",
       " {'_id': ObjectId('626648fe0130b738ac8c6074'), 'review_count': 32},\n",
       " {'_id': ObjectId('626648fe0130b738ac8c6091'), 'review_count': 17},\n",
       " {'_id': ObjectId('626648fe0130b738ac8c60c3'), 'review_count': 68},\n",
       " {'_id': ObjectId('626648fe0130b738ac8c60f4'), 'review_count': 48},\n",
       " {'_id': ObjectId('626648fe0130b738ac8c60fc'), 'review_count': 13},\n",
       " {'_id': ObjectId('626648fe0130b738ac8c623c'), 'review_count': 54},\n",
       " {'_id': ObjectId('626648fe0130b738ac8c6271'), 'review_count': 34},\n",
       " {'_id': ObjectId('626648fe0130b738ac8c6280'), 'review_count': 30},\n",
       " {'_id': ObjectId('626648fe0130b738ac8c6368'), 'review_count': 26},\n",
       " {'_id': ObjectId('626648fe0130b738ac8c6381'), 'review_count': 5},\n",
       " {'_id': ObjectId('626648fe0130b738ac8c6387'), 'review_count': 19},\n",
       " {'_id': ObjectId('626648fe0130b738ac8c63aa'), 'review_count': 13},\n",
       " {'_id': ObjectId('626648fe0130b738ac8c6407'), 'review_count': 7},\n",
       " {'_id': ObjectId('626648fe0130b738ac8c6455'), 'review_count': 5},\n",
       " {'_id': ObjectId('626648fe0130b738ac8c6536'), 'review_count': 21},\n",
       " {'_id': ObjectId('626648fe0130b738ac8c6541'), 'review_count': 116},\n",
       " {'_id': ObjectId('626648fe0130b738ac8c65c4'), 'review_count': 12},\n",
       " {'_id': ObjectId('626648fe0130b738ac8c65d5'), 'review_count': 29},\n",
       " {'_id': ObjectId('626648fe0130b738ac8c66db'), 'review_count': 7},\n",
       " {'_id': ObjectId('626648fe0130b738ac8c6716'), 'review_count': 7},\n",
       " {'_id': ObjectId('626648fe0130b738ac8c672f'), 'review_count': 15},\n",
       " {'_id': ObjectId('626648fe0130b738ac8c67e2'), 'review_count': 14},\n",
       " {'_id': ObjectId('626648fe0130b738ac8c67e6'), 'review_count': 7},\n",
       " {'_id': ObjectId('626648fe0130b738ac8c685a'), 'review_count': 22},\n",
       " {'_id': ObjectId('626648fe0130b738ac8c6890'), 'review_count': 17},\n",
       " {'_id': ObjectId('626648fe0130b738ac8c68c8'), 'review_count': 28},\n",
       " {'_id': ObjectId('626648fe0130b738ac8c6a30'), 'review_count': 7},\n",
       " {'_id': ObjectId('626648fe0130b738ac8c6b2c'), 'review_count': 8},\n",
       " {'_id': ObjectId('626648fe0130b738ac8c6b69'), 'review_count': 111},\n",
       " {'_id': ObjectId('626648fe0130b738ac8c6b6c'), 'review_count': 15},\n",
       " {'_id': ObjectId('626648fe0130b738ac8c6b8f'), 'review_count': 6},\n",
       " {'_id': ObjectId('626648fe0130b738ac8c6bc0'), 'review_count': 9},\n",
       " {'_id': ObjectId('626648fe0130b738ac8c6bee'), 'review_count': 101},\n",
       " {'_id': ObjectId('626648fe0130b738ac8c6c3f'), 'review_count': 5},\n",
       " {'_id': ObjectId('626648fe0130b738ac8c6cbe'), 'review_count': 33},\n",
       " {'_id': ObjectId('626648fe0130b738ac8c6cc6'), 'review_count': 105},\n",
       " {'_id': ObjectId('626648fe0130b738ac8c6cd4'), 'review_count': 7},\n",
       " {'_id': ObjectId('626648fe0130b738ac8c6d26'), 'review_count': 25},\n",
       " {'_id': ObjectId('626648fe0130b738ac8c6d8f'), 'review_count': 5},\n",
       " {'_id': ObjectId('626648fe0130b738ac8c6df8'), 'review_count': 44},\n",
       " {'_id': ObjectId('626648fe0130b738ac8c6e04'), 'review_count': 17},\n",
       " {'_id': ObjectId('626648fe0130b738ac8c6e2f'), 'review_count': 10},\n",
       " {'_id': ObjectId('626648fe0130b738ac8c6e56'), 'review_count': 6},\n",
       " {'_id': ObjectId('626648fe0130b738ac8c6e72'), 'review_count': 40},\n",
       " {'_id': ObjectId('626648fe0130b738ac8c6e8f'), 'review_count': 11},\n",
       " {'_id': ObjectId('626648fe0130b738ac8c6ee5'), 'review_count': 13},\n",
       " {'_id': ObjectId('626648fe0130b738ac8c6f50'), 'review_count': 6},\n",
       " {'_id': ObjectId('626648fe0130b738ac8c6f8f'), 'review_count': 5},\n",
       " {'_id': ObjectId('626648fe0130b738ac8c6fd8'), 'review_count': 12},\n",
       " {'_id': ObjectId('626648fe0130b738ac8c6fe8'), 'review_count': 5},\n",
       " {'_id': ObjectId('626648fe0130b738ac8c712c'), 'review_count': 7},\n",
       " {'_id': ObjectId('626648fe0130b738ac8c717b'), 'review_count': 5},\n",
       " {'_id': ObjectId('626648fe0130b738ac8c717c'), 'review_count': 5},\n",
       " {'_id': ObjectId('626648fe0130b738ac8c7263'), 'review_count': 5},\n",
       " {'_id': ObjectId('626648fe0130b738ac8c7282'), 'review_count': 6},\n",
       " {'_id': ObjectId('626648fe0130b738ac8c72e0'), 'review_count': 8},\n",
       " {'_id': ObjectId('626648fe0130b738ac8c72f2'), 'review_count': 6},\n",
       " {'_id': ObjectId('626648fe0130b738ac8c72ff'), 'review_count': 9},\n",
       " {'_id': ObjectId('626648fe0130b738ac8c7313'), 'review_count': 36},\n",
       " {'_id': ObjectId('626648fe0130b738ac8c7341'), 'review_count': 10},\n",
       " {'_id': ObjectId('626648fe0130b738ac8c736b'), 'review_count': 27},\n",
       " {'_id': ObjectId('626648fe0130b738ac8c73c0'), 'review_count': 8},\n",
       " {'_id': ObjectId('626648fe0130b738ac8c73c6'), 'review_count': 8},\n",
       " {'_id': ObjectId('626648fe0130b738ac8c7404'), 'review_count': 18},\n",
       " {'_id': ObjectId('626648fe0130b738ac8c740c'), 'review_count': 41},\n",
       " {'_id': ObjectId('626648fe0130b738ac8c7427'), 'review_count': 39},\n",
       " {'_id': ObjectId('626648fe0130b738ac8c74a1'), 'review_count': 28},\n",
       " {'_id': ObjectId('626648fe0130b738ac8c74eb'), 'review_count': 9},\n",
       " {'_id': ObjectId('626648fe0130b738ac8c74f3'), 'review_count': 41},\n",
       " {'_id': ObjectId('626648fe0130b738ac8c7528'), 'review_count': 8},\n",
       " {'_id': ObjectId('626648fe0130b738ac8c7529'), 'review_count': 6},\n",
       " {'_id': ObjectId('626648fe0130b738ac8c7562'), 'review_count': 10},\n",
       " {'_id': ObjectId('626648fe0130b738ac8c75cc'), 'review_count': 9},\n",
       " {'_id': ObjectId('626648fe0130b738ac8c7626'), 'review_count': 20},\n",
       " {'_id': ObjectId('626648fe0130b738ac8c7644'), 'review_count': 5},\n",
       " {'_id': ObjectId('626648fe0130b738ac8c764f'), 'review_count': 251},\n",
       " {'_id': ObjectId('626648fe0130b738ac8c7705'), 'review_count': 141},\n",
       " {'_id': ObjectId('626648fe0130b738ac8c77b1'), 'review_count': 229},\n",
       " {'_id': ObjectId('626648fe0130b738ac8c77b7'), 'review_count': 18},\n",
       " {'_id': ObjectId('626648fe0130b738ac8c77bb'), 'review_count': 192},\n",
       " {'_id': ObjectId('626648fe0130b738ac8c781d'), 'review_count': 6},\n",
       " {'_id': ObjectId('626648fe0130b738ac8c78b5'), 'review_count': 313},\n",
       " {'_id': ObjectId('626648fe0130b738ac8c792d'), 'review_count': 9},\n",
       " {'_id': ObjectId('626648fe0130b738ac8c7943'), 'review_count': 5},\n",
       " {'_id': ObjectId('626648fe0130b738ac8c7946'), 'review_count': 7},\n",
       " {'_id': ObjectId('626648fe0130b738ac8c795d'), 'review_count': 6},\n",
       " {'_id': ObjectId('626648fe0130b738ac8c79e6'), 'review_count': 28},\n",
       " {'_id': ObjectId('626648fe0130b738ac8c7a03'), 'review_count': 14},\n",
       " {'_id': ObjectId('626648fe0130b738ac8c7a83'), 'review_count': 141},\n",
       " {'_id': ObjectId('626648fe0130b738ac8c7ac6'), 'review_count': 156},\n",
       " {'_id': ObjectId('626648fe0130b738ac8c7acf'), 'review_count': 21},\n",
       " {'_id': ObjectId('626648fe0130b738ac8c7b53'), 'review_count': 10},\n",
       " {'_id': ObjectId('626648fe0130b738ac8c7bc9'), 'review_count': 21},\n",
       " {'_id': ObjectId('626648fe0130b738ac8c7bce'), 'review_count': 19},\n",
       " {'_id': ObjectId('626648fe0130b738ac8c7c14'), 'review_count': 51},\n",
       " {'_id': ObjectId('626648fe0130b738ac8c7c57'), 'review_count': 8},\n",
       " {'_id': ObjectId('626648fe0130b738ac8c7d0a'), 'review_count': 22},\n",
       " {'_id': ObjectId('626648fe0130b738ac8c7d2c'), 'review_count': 8},\n",
       " {'_id': ObjectId('626648fe0130b738ac8c7d73'), 'review_count': 8},\n",
       " {'_id': ObjectId('626648fe0130b738ac8c7d81'), 'review_count': 6},\n",
       " {'_id': ObjectId('626648fe0130b738ac8c7e1f'), 'review_count': 6},\n",
       " {'_id': ObjectId('626648fe0130b738ac8c7ec9'), 'review_count': 9},\n",
       " {'_id': ObjectId('626648fe0130b738ac8c7f02'), 'review_count': 1018},\n",
       " {'_id': ObjectId('626648fe0130b738ac8c7f0d'), 'review_count': 77},\n",
       " {'_id': ObjectId('626648fe0130b738ac8c7f1f'), 'review_count': 409},\n",
       " {'_id': ObjectId('626648fe0130b738ac8c7fb4'), 'review_count': 8},\n",
       " {'_id': ObjectId('626648fe0130b738ac8c7fb7'), 'review_count': 11},\n",
       " {'_id': ObjectId('626648fe0130b738ac8c8057'), 'review_count': 29},\n",
       " {'_id': ObjectId('626648fe0130b738ac8c8062'), 'review_count': 78},\n",
       " {'_id': ObjectId('626648fe0130b738ac8c808c'), 'review_count': 113},\n",
       " {'_id': ObjectId('626648fe0130b738ac8c8133'), 'review_count': 5},\n",
       " {'_id': ObjectId('626648fe0130b738ac8c8145'), 'review_count': 50},\n",
       " {'_id': ObjectId('626648fe0130b738ac8c8182'), 'review_count': 13},\n",
       " {'_id': ObjectId('626648fe0130b738ac8c81ad'), 'review_count': 41},\n",
       " {'_id': ObjectId('626648fe0130b738ac8c81ff'), 'review_count': 72},\n",
       " {'_id': ObjectId('626648fe0130b738ac8c8244'), 'review_count': 7},\n",
       " {'_id': ObjectId('626648fe0130b738ac8c825f'), 'review_count': 9},\n",
       " {'_id': ObjectId('626648fe0130b738ac8c8369'), 'review_count': 6},\n",
       " {'_id': ObjectId('626648fe0130b738ac8c8389'), 'review_count': 368},\n",
       " {'_id': ObjectId('626648fe0130b738ac8c83fa'), 'review_count': 7},\n",
       " {'_id': ObjectId('626648fe0130b738ac8c840f'), 'review_count': 7},\n",
       " {'_id': ObjectId('626648fe0130b738ac8c8435'), 'review_count': 13},\n",
       " {'_id': ObjectId('626648fe0130b738ac8c8436'), 'review_count': 10},\n",
       " {'_id': ObjectId('626648fe0130b738ac8c8495'), 'review_count': 12},\n",
       " {'_id': ObjectId('626648fe0130b738ac8c84e9'), 'review_count': 7},\n",
       " {'_id': ObjectId('626648fe0130b738ac8c8526'), 'review_count': 16},\n",
       " {'_id': ObjectId('626648fe0130b738ac8c85a6'), 'review_count': 8},\n",
       " {'_id': ObjectId('626648fe0130b738ac8c861e'), 'review_count': 12},\n",
       " {'_id': ObjectId('626648fe0130b738ac8c8687'), 'review_count': 21},\n",
       " {'_id': ObjectId('626648fe0130b738ac8c8688'), 'review_count': 12},\n",
       " {'_id': ObjectId('626648fe0130b738ac8c869f'), 'review_count': 7},\n",
       " {'_id': ObjectId('626648fe0130b738ac8c86ef'), 'review_count': 6},\n",
       " {'_id': ObjectId('626648fe0130b738ac8c86f7'), 'review_count': 7},\n",
       " {'_id': ObjectId('626648fe0130b738ac8c8728'), 'review_count': 7},\n",
       " {'_id': ObjectId('626648fe0130b738ac8c8737'), 'review_count': 165},\n",
       " {'_id': ObjectId('626648fe0130b738ac8c87b1'), 'review_count': 36},\n",
       " {'_id': ObjectId('626648fe0130b738ac8c8806'), 'review_count': 18},\n",
       " {'_id': ObjectId('626648fe0130b738ac8c8815'), 'review_count': 17},\n",
       " {'_id': ObjectId('626648fe0130b738ac8c8824'), 'review_count': 175},\n",
       " {'_id': ObjectId('626648fe0130b738ac8c8827'), 'review_count': 6},\n",
       " {'_id': ObjectId('626648fe0130b738ac8c8867'), 'review_count': 30},\n",
       " {'_id': ObjectId('626648fe0130b738ac8c89f3'), 'review_count': 6},\n",
       " {'_id': ObjectId('626648fe0130b738ac8c8a5b'), 'review_count': 6},\n",
       " {'_id': ObjectId('626648fe0130b738ac8c8a8c'), 'review_count': 6},\n",
       " {'_id': ObjectId('626648fe0130b738ac8c8aa4'), 'review_count': 6},\n",
       " {'_id': ObjectId('626648fe0130b738ac8c8ae6'), 'review_count': 108},\n",
       " {'_id': ObjectId('626648fe0130b738ac8c8af1'), 'review_count': 6},\n",
       " {'_id': ObjectId('626648fe0130b738ac8c8b3d'), 'review_count': 11},\n",
       " {'_id': ObjectId('626648fe0130b738ac8c8b58'), 'review_count': 76},\n",
       " {'_id': ObjectId('626648fe0130b738ac8c8bd2'), 'review_count': 8},\n",
       " {'_id': ObjectId('626648fe0130b738ac8c8c64'), 'review_count': 63},\n",
       " {'_id': ObjectId('626648fe0130b738ac8c8c93'), 'review_count': 233},\n",
       " {'_id': ObjectId('626648fe0130b738ac8c8cf1'), 'review_count': 11},\n",
       " {'_id': ObjectId('626648fe0130b738ac8c8cfd'), 'review_count': 17},\n",
       " {'_id': ObjectId('626648fe0130b738ac8c8d35'), 'review_count': 9},\n",
       " {'_id': ObjectId('626648fe0130b738ac8c8d6a'), 'review_count': 6},\n",
       " {'_id': ObjectId('626648fe0130b738ac8c8dab'), 'review_count': 184},\n",
       " {'_id': ObjectId('626648fe0130b738ac8c8dde'), 'review_count': 9},\n",
       " {'_id': ObjectId('626648fe0130b738ac8c8ee6'), 'review_count': 195},\n",
       " {'_id': ObjectId('626648fe0130b738ac8c8f03'), 'review_count': 40},\n",
       " {'_id': ObjectId('626648fe0130b738ac8c8f3e'), 'review_count': 30},\n",
       " {'_id': ObjectId('626648fe0130b738ac8c8fa6'), 'review_count': 22},\n",
       " {'_id': ObjectId('626648fe0130b738ac8c8fd5'), 'review_count': 7},\n",
       " {'_id': ObjectId('626648fe0130b738ac8c904d'), 'review_count': 11},\n",
       " {'_id': ObjectId('626648fe0130b738ac8c91d4'), 'review_count': 74},\n",
       " {'_id': ObjectId('626648fe0130b738ac8c91e7'), 'review_count': 11},\n",
       " {'_id': ObjectId('626648fe0130b738ac8c928a'), 'review_count': 183},\n",
       " {'_id': ObjectId('626648fe0130b738ac8c92b7'), 'review_count': 10},\n",
       " {'_id': ObjectId('626648fe0130b738ac8c92e6'), 'review_count': 7},\n",
       " {'_id': ObjectId('626648fe0130b738ac8c92fc'), 'review_count': 8},\n",
       " {'_id': ObjectId('626648fe0130b738ac8c9396'), 'review_count': 128},\n",
       " {'_id': ObjectId('626648fe0130b738ac8c93aa'), 'review_count': 17},\n",
       " {'_id': ObjectId('626648fe0130b738ac8c9423'), 'review_count': 12},\n",
       " {'_id': ObjectId('626648fe0130b738ac8c949f'), 'review_count': 41},\n",
       " {'_id': ObjectId('626648fe0130b738ac8c94c9'), 'review_count': 10},\n",
       " {'_id': ObjectId('626648fe0130b738ac8c94f0'), 'review_count': 11},\n",
       " {'_id': ObjectId('626648fe0130b738ac8c950a'), 'review_count': 30},\n",
       " {'_id': ObjectId('626648fe0130b738ac8c9518'), 'review_count': 5},\n",
       " {'_id': ObjectId('626648fe0130b738ac8c952b'), 'review_count': 9},\n",
       " {'_id': ObjectId('626648fe0130b738ac8c9553'), 'review_count': 7},\n",
       " {'_id': ObjectId('626648fe0130b738ac8c9649'), 'review_count': 13},\n",
       " {'_id': ObjectId('626648fe0130b738ac8c967a'), 'review_count': 32},\n",
       " {'_id': ObjectId('626648fe0130b738ac8c96a1'), 'review_count': 5},\n",
       " {'_id': ObjectId('626648fe0130b738ac8c9775'), 'review_count': 8},\n",
       " {'_id': ObjectId('626648fe0130b738ac8c9837'), 'review_count': 5},\n",
       " {'_id': ObjectId('626648fe0130b738ac8c9843'), 'review_count': 13},\n",
       " {'_id': ObjectId('626648fe0130b738ac8c98eb'), 'review_count': 7},\n",
       " {'_id': ObjectId('626648fe0130b738ac8c9a23'), 'review_count': 20},\n",
       " {'_id': ObjectId('626648fe0130b738ac8c9a3a'), 'review_count': 6},\n",
       " {'_id': ObjectId('626648fe0130b738ac8c9a63'), 'review_count': 71},\n",
       " {'_id': ObjectId('626648fe0130b738ac8c9a68'), 'review_count': 23},\n",
       " {'_id': ObjectId('626648fe0130b738ac8c9a80'), 'review_count': 10},\n",
       " {'_id': ObjectId('626648fe0130b738ac8c9ad9'), 'review_count': 6},\n",
       " {'_id': ObjectId('626648fe0130b738ac8c9c3d'), 'review_count': 32},\n",
       " {'_id': ObjectId('626648fe0130b738ac8c9cb2'), 'review_count': 110},\n",
       " {'_id': ObjectId('626648fe0130b738ac8c9d27'), 'review_count': 5},\n",
       " {'_id': ObjectId('626648fe0130b738ac8c9dce'), 'review_count': 26},\n",
       " {'_id': ObjectId('626648fe0130b738ac8c9e03'), 'review_count': 14},\n",
       " {'_id': ObjectId('626648fe0130b738ac8c9e21'), 'review_count': 36},\n",
       " {'_id': ObjectId('626648fe0130b738ac8c9ecd'), 'review_count': 49},\n",
       " {'_id': ObjectId('626648fe0130b738ac8ca016'), 'review_count': 77},\n",
       " {'_id': ObjectId('626648fe0130b738ac8ca02b'), 'review_count': 7},\n",
       " {'_id': ObjectId('626648fe0130b738ac8ca034'), 'review_count': 8},\n",
       " {'_id': ObjectId('626648fe0130b738ac8ca0ba'), 'review_count': 9},\n",
       " {'_id': ObjectId('626648fe0130b738ac8ca13a'), 'review_count': 20},\n",
       " {'_id': ObjectId('626648fe0130b738ac8ca16b'), 'review_count': 24},\n",
       " {'_id': ObjectId('626648fe0130b738ac8ca1dd'), 'review_count': 33},\n",
       " {'_id': ObjectId('626648fe0130b738ac8ca21f'), 'review_count': 69},\n",
       " {'_id': ObjectId('626648fe0130b738ac8ca220'), 'review_count': 5},\n",
       " {'_id': ObjectId('626648fe0130b738ac8ca224'), 'review_count': 5},\n",
       " {'_id': ObjectId('626648fe0130b738ac8ca267'), 'review_count': 109},\n",
       " {'_id': ObjectId('626648fe0130b738ac8ca276'), 'review_count': 10},\n",
       " {'_id': ObjectId('626648fe0130b738ac8ca311'), 'review_count': 10},\n",
       " {'_id': ObjectId('626648fe0130b738ac8ca347'), 'review_count': 25},\n",
       " {'_id': ObjectId('626648fe0130b738ac8ca4a6'), 'review_count': 11},\n",
       " {'_id': ObjectId('626648fe0130b738ac8ca4ac'), 'review_count': 8},\n",
       " {'_id': ObjectId('626648fe0130b738ac8ca50d'), 'review_count': 9},\n",
       " {'_id': ObjectId('626648fe0130b738ac8ca564'), 'review_count': 101},\n",
       " {'_id': ObjectId('626648fe0130b738ac8ca5b0'), 'review_count': 27},\n",
       " {'_id': ObjectId('626648fe0130b738ac8ca612'), 'review_count': 21},\n",
       " {'_id': ObjectId('626648fe0130b738ac8ca6ca'), 'review_count': 8},\n",
       " {'_id': ObjectId('626648fe0130b738ac8ca6de'), 'review_count': 9},\n",
       " {'_id': ObjectId('626648fe0130b738ac8ca769'), 'review_count': 11},\n",
       " {'_id': ObjectId('626648fe0130b738ac8ca80e'), 'review_count': 87},\n",
       " {'_id': ObjectId('626648fe0130b738ac8ca83e'), 'review_count': 6},\n",
       " {'_id': ObjectId('626648fe0130b738ac8ca8c5'), 'review_count': 21},\n",
       " {'_id': ObjectId('626648fe0130b738ac8ca986'), 'review_count': 6},\n",
       " {'_id': ObjectId('626648fe0130b738ac8caa13'), 'review_count': 12},\n",
       " {'_id': ObjectId('626648fe0130b738ac8caa46'), 'review_count': 96},\n",
       " {'_id': ObjectId('626648fe0130b738ac8caa99'), 'review_count': 24},\n",
       " {'_id': ObjectId('626648fe0130b738ac8cab1f'), 'review_count': 10},\n",
       " {'_id': ObjectId('626648fe0130b738ac8cab45'), 'review_count': 19},\n",
       " {'_id': ObjectId('626648fe0130b738ac8cabbd'), 'review_count': 270},\n",
       " {'_id': ObjectId('626648fe0130b738ac8cabe6'), 'review_count': 44},\n",
       " {'_id': ObjectId('626648fe0130b738ac8cac2f'), 'review_count': 7},\n",
       " {'_id': ObjectId('626648fe0130b738ac8cac5c'), 'review_count': 25},\n",
       " {'_id': ObjectId('626648fe0130b738ac8cac8f'), 'review_count': 10},\n",
       " {'_id': ObjectId('626648fe0130b738ac8cac99'), 'review_count': 6},\n",
       " {'_id': ObjectId('626648fe0130b738ac8cacaf'), 'review_count': 20},\n",
       " {'_id': ObjectId('626648fe0130b738ac8cacf0'), 'review_count': 14},\n",
       " {'_id': ObjectId('626648fe0130b738ac8cacfd'), 'review_count': 10},\n",
       " {'_id': ObjectId('626648fe0130b738ac8cad20'), 'review_count': 5},\n",
       " {'_id': ObjectId('626648fe0130b738ac8cad80'), 'review_count': 23},\n",
       " {'_id': ObjectId('626648fe0130b738ac8cae25'), 'review_count': 17},\n",
       " {'_id': ObjectId('626648fe0130b738ac8cae6f'), 'review_count': 10},\n",
       " {'_id': ObjectId('626648fe0130b738ac8cae99'), 'review_count': 5},\n",
       " {'_id': ObjectId('626648fe0130b738ac8caea9'), 'review_count': 84},\n",
       " {'_id': ObjectId('626648fe0130b738ac8caee9'), 'review_count': 33},\n",
       " {'_id': ObjectId('626648fe0130b738ac8caf1b'), 'review_count': 9},\n",
       " {'_id': ObjectId('626648fe0130b738ac8caf35'), 'review_count': 240},\n",
       " {'_id': ObjectId('626648fe0130b738ac8caf3f'), 'review_count': 16},\n",
       " {'_id': ObjectId('626648fe0130b738ac8caf41'), 'review_count': 55},\n",
       " {'_id': ObjectId('626648fe0130b738ac8caf51'), 'review_count': 29},\n",
       " {'_id': ObjectId('626648fe0130b738ac8cafc3'), 'review_count': 10},\n",
       " {'_id': ObjectId('626648fe0130b738ac8cafeb'), 'review_count': 39},\n",
       " {'_id': ObjectId('626648fe0130b738ac8cb067'), 'review_count': 140},\n",
       " {'_id': ObjectId('626648fe0130b738ac8cb0c9'), 'review_count': 140},\n",
       " {'_id': ObjectId('626648fe0130b738ac8cb0ea'), 'review_count': 9},\n",
       " {'_id': ObjectId('626648fe0130b738ac8cb103'), 'review_count': 80},\n",
       " {'_id': ObjectId('626648fe0130b738ac8cb180'), 'review_count': 5},\n",
       " {'_id': ObjectId('626648fe0130b738ac8cb1a7'), 'review_count': 48},\n",
       " {'_id': ObjectId('626648fe0130b738ac8cb1c1'), 'review_count': 36},\n",
       " {'_id': ObjectId('626648fe0130b738ac8cb20d'), 'review_count': 66},\n",
       " {'_id': ObjectId('626648fe0130b738ac8cb26b'), 'review_count': 11},\n",
       " {'_id': ObjectId('626648fe0130b738ac8cb292'), 'review_count': 45},\n",
       " {'_id': ObjectId('626648fe0130b738ac8cb2db'), 'review_count': 13},\n",
       " {'_id': ObjectId('626648fe0130b738ac8cb34d'), 'review_count': 20},\n",
       " {'_id': ObjectId('626648fe0130b738ac8cb388'), 'review_count': 10},\n",
       " {'_id': ObjectId('626648fe0130b738ac8cb3be'), 'review_count': 28},\n",
       " {'_id': ObjectId('626648fe0130b738ac8cb3c8'), 'review_count': 13},\n",
       " {'_id': ObjectId('626648fe0130b738ac8cb3ce'), 'review_count': 9},\n",
       " {'_id': ObjectId('626648fe0130b738ac8cb416'), 'review_count': 103},\n",
       " {'_id': ObjectId('626648fe0130b738ac8cb42f'), 'review_count': 8},\n",
       " {'_id': ObjectId('626648fe0130b738ac8cb483'), 'review_count': 12},\n",
       " {'_id': ObjectId('626648fe0130b738ac8cb485'), 'review_count': 7},\n",
       " {'_id': ObjectId('626648fe0130b738ac8cb541'), 'review_count': 24},\n",
       " {'_id': ObjectId('626648fe0130b738ac8cb566'), 'review_count': 7},\n",
       " {'_id': ObjectId('626648fe0130b738ac8cb57a'), 'review_count': 398},\n",
       " {'_id': ObjectId('626648fe0130b738ac8cb596'), 'review_count': 15},\n",
       " {'_id': ObjectId('626648fe0130b738ac8cb6a0'), 'review_count': 12},\n",
       " {'_id': ObjectId('626648fe0130b738ac8cb6e6'), 'review_count': 6},\n",
       " {'_id': ObjectId('626648fe0130b738ac8cb7e9'), 'review_count': 96},\n",
       " {'_id': ObjectId('626648fe0130b738ac8cb7f0'), 'review_count': 5},\n",
       " {'_id': ObjectId('626648fe0130b738ac8cb7f1'), 'review_count': 128},\n",
       " {'_id': ObjectId('626648fe0130b738ac8cb808'), 'review_count': 11},\n",
       " {'_id': ObjectId('626648fe0130b738ac8cb819'), 'review_count': 5},\n",
       " {'_id': ObjectId('626648fe0130b738ac8cb886'), 'review_count': 12},\n",
       " {'_id': ObjectId('626648fe0130b738ac8cb8a3'), 'review_count': 5},\n",
       " {'_id': ObjectId('626648fe0130b738ac8cb8d8'), 'review_count': 13},\n",
       " {'_id': ObjectId('626648fe0130b738ac8cb938'), 'review_count': 40},\n",
       " {'_id': ObjectId('626648fe0130b738ac8cb962'), 'review_count': 6},\n",
       " {'_id': ObjectId('626648fe0130b738ac8cb98b'), 'review_count': 8},\n",
       " {'_id': ObjectId('626648fe0130b738ac8cb9c3'), 'review_count': 5},\n",
       " {'_id': ObjectId('626648fe0130b738ac8cb9c9'), 'review_count': 11},\n",
       " {'_id': ObjectId('626648fe0130b738ac8cb9d4'), 'review_count': 19},\n",
       " {'_id': ObjectId('626648fe0130b738ac8cba4b'), 'review_count': 17},\n",
       " {'_id': ObjectId('626648fe0130b738ac8cbab3'), 'review_count': 124},\n",
       " {'_id': ObjectId('626648fe0130b738ac8cbab8'), 'review_count': 6},\n",
       " {'_id': ObjectId('626648fe0130b738ac8cbad0'), 'review_count': 405},\n",
       " {'_id': ObjectId('626648fe0130b738ac8cbb2b'), 'review_count': 6},\n",
       " {'_id': ObjectId('626648fe0130b738ac8cbbef'), 'review_count': 14},\n",
       " {'_id': ObjectId('626648fe0130b738ac8cbc48'), 'review_count': 11},\n",
       " {'_id': ObjectId('626648fe0130b738ac8cbc52'), 'review_count': 16},\n",
       " {'_id': ObjectId('626648fe0130b738ac8cbca9'), 'review_count': 61},\n",
       " {'_id': ObjectId('626648fe0130b738ac8cbcc1'), 'review_count': 11},\n",
       " {'_id': ObjectId('626648fe0130b738ac8cbd22'), 'review_count': 52},\n",
       " {'_id': ObjectId('626648fe0130b738ac8cbd38'), 'review_count': 5},\n",
       " {'_id': ObjectId('626648fe0130b738ac8cbd9d'), 'review_count': 194},\n",
       " {'_id': ObjectId('626648fe0130b738ac8cbdca'), 'review_count': 16},\n",
       " {'_id': ObjectId('626648fe0130b738ac8cbe03'), 'review_count': 8},\n",
       " {'_id': ObjectId('626648fe0130b738ac8cbe26'), 'review_count': 8},\n",
       " {'_id': ObjectId('626648fe0130b738ac8cbe2d'), 'review_count': 16},\n",
       " {'_id': ObjectId('626648fe0130b738ac8cbecf'), 'review_count': 5},\n",
       " {'_id': ObjectId('626648fe0130b738ac8cbedc'), 'review_count': 98},\n",
       " {'_id': ObjectId('626648fe0130b738ac8cbeed'), 'review_count': 156},\n",
       " {'_id': ObjectId('626648fe0130b738ac8cbf2f'), 'review_count': 1048},\n",
       " {'_id': ObjectId('626648fe0130b738ac8cbf80'), 'review_count': 29},\n",
       " {'_id': ObjectId('626648fe0130b738ac8cc0d9'), 'review_count': 8},\n",
       " {'_id': ObjectId('626648fe0130b738ac8cc0e2'), 'review_count': 25},\n",
       " {'_id': ObjectId('626648fe0130b738ac8cc0eb'), 'review_count': 45},\n",
       " {'_id': ObjectId('626648fe0130b738ac8cc13c'), 'review_count': 261},\n",
       " {'_id': ObjectId('626648fe0130b738ac8cc1a2'), 'review_count': 24},\n",
       " {'_id': ObjectId('626648fe0130b738ac8cc1b7'), 'review_count': 26},\n",
       " {'_id': ObjectId('626648fe0130b738ac8cc201'), 'review_count': 14},\n",
       " {'_id': ObjectId('626648fe0130b738ac8cc26e'), 'review_count': 35},\n",
       " {'_id': ObjectId('626648fe0130b738ac8cc2d4'), 'review_count': 8},\n",
       " {'_id': ObjectId('626648fe0130b738ac8cc308'), 'review_count': 12},\n",
       " {'_id': ObjectId('626648fe0130b738ac8cc363'), 'review_count': 16},\n",
       " {'_id': ObjectId('626648fe0130b738ac8cc414'), 'review_count': 48},\n",
       " {'_id': ObjectId('626648fe0130b738ac8cc427'), 'review_count': 34},\n",
       " {'_id': ObjectId('626648fe0130b738ac8cc460'), 'review_count': 5},\n",
       " {'_id': ObjectId('626648fe0130b738ac8cc46a'), 'review_count': 12},\n",
       " {'_id': ObjectId('626648fe0130b738ac8cc497'), 'review_count': 8},\n",
       " {'_id': ObjectId('626648fe0130b738ac8cc4b3'), 'review_count': 156},\n",
       " {'_id': ObjectId('626648fe0130b738ac8cc4c4'), 'review_count': 35},\n",
       " {'_id': ObjectId('626648fe0130b738ac8cc58c'), 'review_count': 60},\n",
       " {'_id': ObjectId('626648fe0130b738ac8cc590'), 'review_count': 10},\n",
       " {'_id': ObjectId('626648fe0130b738ac8cc5b6'), 'review_count': 27},\n",
       " {'_id': ObjectId('626648fe0130b738ac8cc5e9'), 'review_count': 6},\n",
       " {'_id': ObjectId('626648fe0130b738ac8cc64f'), 'review_count': 9},\n",
       " {'_id': ObjectId('626648fe0130b738ac8cc67d'), 'review_count': 6},\n",
       " {'_id': ObjectId('626648fe0130b738ac8cc717'), 'review_count': 9},\n",
       " {'_id': ObjectId('626648fe0130b738ac8cc762'), 'review_count': 32},\n",
       " {'_id': ObjectId('626648fe0130b738ac8cc7ac'), 'review_count': 6},\n",
       " {'_id': ObjectId('626648fe0130b738ac8cca04'), 'review_count': 13},\n",
       " {'_id': ObjectId('626648fe0130b738ac8cca34'), 'review_count': 7},\n",
       " {'_id': ObjectId('626648fe0130b738ac8ccacf'), 'review_count': 59},\n",
       " {'_id': ObjectId('626648fe0130b738ac8ccb4a'), 'review_count': 34},\n",
       " {'_id': ObjectId('626648fe0130b738ac8ccb93'), 'review_count': 5},\n",
       " {'_id': ObjectId('626648fe0130b738ac8ccbf8'), 'review_count': 16},\n",
       " {'_id': ObjectId('626648fe0130b738ac8ccc76'), 'review_count': 18},\n",
       " {'_id': ObjectId('626648fe0130b738ac8cccd1'), 'review_count': 5},\n",
       " {'_id': ObjectId('626648fe0130b738ac8ccd7f'), 'review_count': 19},\n",
       " {'_id': ObjectId('626648fe0130b738ac8ccdd5'), 'review_count': 5},\n",
       " {'_id': ObjectId('626648fe0130b738ac8ccde5'), 'review_count': 272},\n",
       " {'_id': ObjectId('626648fe0130b738ac8ccdea'), 'review_count': 48},\n",
       " {'_id': ObjectId('626648fe0130b738ac8cce39'), 'review_count': 5},\n",
       " {'_id': ObjectId('626648fe0130b738ac8cce9c'), 'review_count': 9},\n",
       " {'_id': ObjectId('626648fe0130b738ac8ccee0'), 'review_count': 6},\n",
       " {'_id': ObjectId('626648fe0130b738ac8ccf23'), 'review_count': 26},\n",
       " {'_id': ObjectId('626648fe0130b738ac8ccf2e'), 'review_count': 11},\n",
       " {'_id': ObjectId('626648fe0130b738ac8ccf79'), 'review_count': 22},\n",
       " {'_id': ObjectId('626648fe0130b738ac8cd015'), 'review_count': 5},\n",
       " {'_id': ObjectId('626648fe0130b738ac8cd0c8'), 'review_count': 14},\n",
       " {'_id': ObjectId('626648fe0130b738ac8cd0cb'), 'review_count': 8},\n",
       " {'_id': ObjectId('626648fe0130b738ac8cd0d7'), 'review_count': 7},\n",
       " {'_id': ObjectId('626648fe0130b738ac8cd22b'), 'review_count': 14},\n",
       " {'_id': ObjectId('626648fe0130b738ac8cd28c'), 'review_count': 9},\n",
       " {'_id': ObjectId('626648fe0130b738ac8cd34e'), 'review_count': 19},\n",
       " {'_id': ObjectId('626648fe0130b738ac8cd397'), 'review_count': 17},\n",
       " {'_id': ObjectId('626648fe0130b738ac8cd399'), 'review_count': 7},\n",
       " {'_id': ObjectId('626648fe0130b738ac8cd3ae'), 'review_count': 36},\n",
       " {'_id': ObjectId('626648fe0130b738ac8cd3d1'), 'review_count': 14},\n",
       " {'_id': ObjectId('626648fe0130b738ac8cd402'), 'review_count': 28},\n",
       " {'_id': ObjectId('626648fe0130b738ac8cd4d3'), 'review_count': 12},\n",
       " {'_id': ObjectId('626648fe0130b738ac8cd587'), 'review_count': 41},\n",
       " {'_id': ObjectId('626648fe0130b738ac8cd63b'), 'review_count': 5},\n",
       " {'_id': ObjectId('626648fe0130b738ac8cd644'), 'review_count': 10},\n",
       " {'_id': ObjectId('626648fe0130b738ac8cd68d'), 'review_count': 25},\n",
       " {'_id': ObjectId('626648fe0130b738ac8cd6a5'), 'review_count': 15},\n",
       " {'_id': ObjectId('626648fe0130b738ac8cd6ac'), 'review_count': 69},\n",
       " {'_id': ObjectId('626648fe0130b738ac8cd6b2'), 'review_count': 10},\n",
       " {'_id': ObjectId('626648fe0130b738ac8cd6ef'), 'review_count': 16},\n",
       " {'_id': ObjectId('626648fe0130b738ac8cd774'), 'review_count': 18},\n",
       " {'_id': ObjectId('626648fe0130b738ac8cd78c'), 'review_count': 11},\n",
       " {'_id': ObjectId('626648fe0130b738ac8cd7d7'), 'review_count': 325},\n",
       " {'_id': ObjectId('626648fe0130b738ac8cd7ee'), 'review_count': 57},\n",
       " {'_id': ObjectId('626648fe0130b738ac8cd831'), 'review_count': 22},\n",
       " {'_id': ObjectId('626648fe0130b738ac8cd8b9'), 'review_count': 272},\n",
       " {'_id': ObjectId('626648fe0130b738ac8cd8cf'), 'review_count': 5},\n",
       " {'_id': ObjectId('626648fe0130b738ac8cd8fe'), 'review_count': 19},\n",
       " {'_id': ObjectId('626648fe0130b738ac8cd911'), 'review_count': 86},\n",
       " {'_id': ObjectId('626648fe0130b738ac8cd9a9'), 'review_count': 10},\n",
       " {'_id': ObjectId('626648fe0130b738ac8cd9c4'), 'review_count': 45},\n",
       " {'_id': ObjectId('626648fe0130b738ac8cd9d9'), 'review_count': 9},\n",
       " {'_id': ObjectId('626648fe0130b738ac8cda23'), 'review_count': 6},\n",
       " {'_id': ObjectId('626648fe0130b738ac8cda5f'), 'review_count': 21},\n",
       " {'_id': ObjectId('626648fe0130b738ac8cda97'), 'review_count': 5},\n",
       " {'_id': ObjectId('626648fe0130b738ac8cda9d'), 'review_count': 5},\n",
       " {'_id': ObjectId('626648fe0130b738ac8cdbc2'), 'review_count': 50},\n",
       " {'_id': ObjectId('626648fe0130b738ac8cdc08'), 'review_count': 43},\n",
       " {'_id': ObjectId('626648fe0130b738ac8cdc0e'), 'review_count': 171},\n",
       " {'_id': ObjectId('626648fe0130b738ac8cdc59'), 'review_count': 13},\n",
       " {'_id': ObjectId('626648fe0130b738ac8cdcd7'), 'review_count': 8},\n",
       " {'_id': ObjectId('626648fe0130b738ac8cdda6'), 'review_count': 10},\n",
       " {'_id': ObjectId('626648fe0130b738ac8cddc7'), 'review_count': 63},\n",
       " {'_id': ObjectId('626648fe0130b738ac8cde45'), 'review_count': 159},\n",
       " {'_id': ObjectId('626648fe0130b738ac8cde60'), 'review_count': 5},\n",
       " {'_id': ObjectId('626648fe0130b738ac8cde6c'), 'review_count': 68},\n",
       " {'_id': ObjectId('626648fe0130b738ac8cde88'), 'review_count': 56},\n",
       " {'_id': ObjectId('626648fe0130b738ac8cdeea'), 'review_count': 18},\n",
       " {'_id': ObjectId('626648fe0130b738ac8cdf13'), 'review_count': 251},\n",
       " {'_id': ObjectId('626648fe0130b738ac8cdf76'), 'review_count': 27},\n",
       " {'_id': ObjectId('626648fe0130b738ac8cdf9f'), 'review_count': 17},\n",
       " {'_id': ObjectId('626648fe0130b738ac8cdfc9'), 'review_count': 71},\n",
       " {'_id': ObjectId('626648fe0130b738ac8ce013'), 'review_count': 12},\n",
       " {'_id': ObjectId('626648fe0130b738ac8ce022'), 'review_count': 13},\n",
       " {'_id': ObjectId('626648fe0130b738ac8ce059'), 'review_count': 14},\n",
       " {'_id': ObjectId('626648fe0130b738ac8ce08a'), 'review_count': 56},\n",
       " {'_id': ObjectId('626648fe0130b738ac8ce0d9'), 'review_count': 21},\n",
       " {'_id': ObjectId('626648fe0130b738ac8ce143'), 'review_count': 5},\n",
       " {'_id': ObjectId('626648fe0130b738ac8ce2a3'), 'review_count': 10},\n",
       " {'_id': ObjectId('626648fe0130b738ac8ce394'), 'review_count': 13},\n",
       " {'_id': ObjectId('626648fe0130b738ac8ce3f7'), 'review_count': 7},\n",
       " {'_id': ObjectId('626648fe0130b738ac8ce419'), 'review_count': 5},\n",
       " {'_id': ObjectId('626648fe0130b738ac8ce47d'), 'review_count': 88},\n",
       " {'_id': ObjectId('626648fe0130b738ac8ce48a'), 'review_count': 7},\n",
       " {'_id': ObjectId('626648fe0130b738ac8ce4bf'), 'review_count': 91},\n",
       " {'_id': ObjectId('626648fe0130b738ac8ce4eb'), 'review_count': 5},\n",
       " {'_id': ObjectId('626648fe0130b738ac8ce54a'), 'review_count': 28},\n",
       " {'_id': ObjectId('626648fe0130b738ac8ce573'), 'review_count': 12},\n",
       " {'_id': ObjectId('626648fe0130b738ac8ce61d'), 'review_count': 45},\n",
       " {'_id': ObjectId('626648fe0130b738ac8ce621'), 'review_count': 75},\n",
       " {'_id': ObjectId('626648fe0130b738ac8ce642'), 'review_count': 92},\n",
       " {'_id': ObjectId('626648fe0130b738ac8ce67a'), 'review_count': 7},\n",
       " {'_id': ObjectId('626648fe0130b738ac8ce681'), 'review_count': 9},\n",
       " {'_id': ObjectId('626648fe0130b738ac8ce6aa'), 'review_count': 9},\n",
       " {'_id': ObjectId('626648fe0130b738ac8ce6d3'), 'review_count': 6},\n",
       " {'_id': ObjectId('626648fe0130b738ac8ce6d9'), 'review_count': 18},\n",
       " {'_id': ObjectId('626648fe0130b738ac8ce6ee'), 'review_count': 16},\n",
       " {'_id': ObjectId('626648fe0130b738ac8ce716'), 'review_count': 12},\n",
       " {'_id': ObjectId('626648fe0130b738ac8ce776'), 'review_count': 5},\n",
       " {'_id': ObjectId('626648fe0130b738ac8ce7de'), 'review_count': 15},\n",
       " {'_id': ObjectId('626648fe0130b738ac8ce80e'), 'review_count': 12},\n",
       " {'_id': ObjectId('626648fe0130b738ac8ce820'), 'review_count': 16},\n",
       " {'_id': ObjectId('626648fe0130b738ac8ce956'), 'review_count': 8},\n",
       " {'_id': ObjectId('626648fe0130b738ac8ce9af'), 'review_count': 50},\n",
       " {'_id': ObjectId('626648fe0130b738ac8ce9d4'), 'review_count': 12},\n",
       " {'_id': ObjectId('626648fe0130b738ac8ce9d6'), 'review_count': 13},\n",
       " {'_id': ObjectId('626648fe0130b738ac8ce9ff'), 'review_count': 139},\n",
       " {'_id': ObjectId('626648fe0130b738ac8cea00'), 'review_count': 106},\n",
       " {'_id': ObjectId('626648fe0130b738ac8cea44'), 'review_count': 12},\n",
       " {'_id': ObjectId('626648fe0130b738ac8cea59'), 'review_count': 84},\n",
       " {'_id': ObjectId('626648fe0130b738ac8ceb73'), 'review_count': 20},\n",
       " {'_id': ObjectId('626648fe0130b738ac8ceba8'), 'review_count': 27},\n",
       " {'_id': ObjectId('626648fe0130b738ac8cebe1'), 'review_count': 26},\n",
       " {'_id': ObjectId('626648fe0130b738ac8cec11'), 'review_count': 11},\n",
       " {'_id': ObjectId('626648fe0130b738ac8cec37'), 'review_count': 7},\n",
       " {'_id': ObjectId('626648fe0130b738ac8cec88'), 'review_count': 8},\n",
       " {'_id': ObjectId('626648fe0130b738ac8ced39'), 'review_count': 14},\n",
       " {'_id': ObjectId('626648fe0130b738ac8ced75'), 'review_count': 8},\n",
       " {'_id': ObjectId('626648fe0130b738ac8cedfe'), 'review_count': 15},\n",
       " {'_id': ObjectId('626648fe0130b738ac8cee2e'), 'review_count': 12},\n",
       " {'_id': ObjectId('626648fe0130b738ac8cee7e'), 'review_count': 17},\n",
       " {'_id': ObjectId('626648fe0130b738ac8ceead'), 'review_count': 5},\n",
       " {'_id': ObjectId('626648fe0130b738ac8cef5e'), 'review_count': 22},\n",
       " {'_id': ObjectId('626648fe0130b738ac8cef8e'), 'review_count': 31},\n",
       " {'_id': ObjectId('626648fe0130b738ac8cef8f'), 'review_count': 17},\n",
       " {'_id': ObjectId('626648fe0130b738ac8cef9f'), 'review_count': 26},\n",
       " {'_id': ObjectId('626648fe0130b738ac8cefd7'), 'review_count': 7},\n",
       " {'_id': ObjectId('626648fe0130b738ac8cefd9'), 'review_count': 36},\n",
       " {'_id': ObjectId('626648fe0130b738ac8cf048'), 'review_count': 6},\n",
       " {'_id': ObjectId('626648fe0130b738ac8cf04f'), 'review_count': 23},\n",
       " {'_id': ObjectId('626648fe0130b738ac8cf09a'), 'review_count': 492},\n",
       " {'_id': ObjectId('626648fe0130b738ac8cf11f'), 'review_count': 11},\n",
       " {'_id': ObjectId('626648fe0130b738ac8cf248'), 'review_count': 26},\n",
       " {'_id': ObjectId('626648fe0130b738ac8cf3fc'), 'review_count': 157},\n",
       " {'_id': ObjectId('626648fe0130b738ac8cf44c'), 'review_count': 15},\n",
       " {'_id': ObjectId('626648fe0130b738ac8cf454'), 'review_count': 11},\n",
       " {'_id': ObjectId('626648fe0130b738ac8cf4b1'), 'review_count': 20},\n",
       " {'_id': ObjectId('626648fe0130b738ac8cf557'), 'review_count': 26},\n",
       " {'_id': ObjectId('626648fe0130b738ac8cf580'), 'review_count': 28},\n",
       " {'_id': ObjectId('626648fe0130b738ac8cf5b2'), 'review_count': 17},\n",
       " {'_id': ObjectId('626648fe0130b738ac8cf5d2'), 'review_count': 40},\n",
       " {'_id': ObjectId('626648ff0130b738ac8cf6df'), 'review_count': 11},\n",
       " {'_id': ObjectId('626648ff0130b738ac8cf747'), 'review_count': 5},\n",
       " {'_id': ObjectId('626648ff0130b738ac8cf76a'), 'review_count': 31},\n",
       " {'_id': ObjectId('626648ff0130b738ac8cf77d'), 'review_count': 9},\n",
       " {'_id': ObjectId('626648ff0130b738ac8cf789'), 'review_count': 8},\n",
       " {'_id': ObjectId('626648ff0130b738ac8cf818'), 'review_count': 24},\n",
       " {'_id': ObjectId('626648ff0130b738ac8cf834'), 'review_count': 20},\n",
       " {'_id': ObjectId('626648ff0130b738ac8cf85a'), 'review_count': 50},\n",
       " {'_id': ObjectId('626648ff0130b738ac8cf8c4'), 'review_count': 8},\n",
       " {'_id': ObjectId('626648ff0130b738ac8cf8d0'), 'review_count': 6},\n",
       " {'_id': ObjectId('626648ff0130b738ac8cf953'), 'review_count': 10},\n",
       " {'_id': ObjectId('626648ff0130b738ac8cf9eb'), 'review_count': 20},\n",
       " {'_id': ObjectId('626648ff0130b738ac8cfa3e'), 'review_count': 12},\n",
       " {'_id': ObjectId('626648ff0130b738ac8cfa70'), 'review_count': 6},\n",
       " {'_id': ObjectId('626648ff0130b738ac8cfa86'), 'review_count': 6},\n",
       " {'_id': ObjectId('626648ff0130b738ac8cfb17'), 'review_count': 54},\n",
       " {'_id': ObjectId('626648ff0130b738ac8cfb41'), 'review_count': 8},\n",
       " {'_id': ObjectId('626648ff0130b738ac8cfbf5'), 'review_count': 8},\n",
       " {'_id': ObjectId('626648ff0130b738ac8cfc71'), 'review_count': 61},\n",
       " {'_id': ObjectId('626648ff0130b738ac8cfc82'), 'review_count': 6},\n",
       " {'_id': ObjectId('626648ff0130b738ac8cfca5'), 'review_count': 16},\n",
       " {'_id': ObjectId('626648ff0130b738ac8cfcaa'), 'review_count': 5},\n",
       " {'_id': ObjectId('626648ff0130b738ac8cfcc8'), 'review_count': 19},\n",
       " {'_id': ObjectId('626648ff0130b738ac8cfce9'), 'review_count': 16},\n",
       " {'_id': ObjectId('626648ff0130b738ac8cfdc7'), 'review_count': 69},\n",
       " {'_id': ObjectId('626648ff0130b738ac8cfeed'), 'review_count': 5},\n",
       " {'_id': ObjectId('626648ff0130b738ac8cfefe'), 'review_count': 15},\n",
       " {'_id': ObjectId('626648ff0130b738ac8cff3d'), 'review_count': 18},\n",
       " {'_id': ObjectId('626648ff0130b738ac8cff60'), 'review_count': 51},\n",
       " {'_id': ObjectId('626648ff0130b738ac8cff80'), 'review_count': 93},\n",
       " {'_id': ObjectId('626648ff0130b738ac8cffbe'), 'review_count': 16},\n",
       " {'_id': ObjectId('626648ff0130b738ac8cffca'), 'review_count': 232},\n",
       " {'_id': ObjectId('626648ff0130b738ac8cffcc'), 'review_count': 6},\n",
       " {'_id': ObjectId('626648ff0130b738ac8d0045'), 'review_count': 46},\n",
       " {'_id': ObjectId('626648ff0130b738ac8d00c4'), 'review_count': 6},\n",
       " {'_id': ObjectId('626648ff0130b738ac8d013d'), 'review_count': 14},\n",
       " {'_id': ObjectId('626648ff0130b738ac8d0142'), 'review_count': 7},\n",
       " {'_id': ObjectId('626648ff0130b738ac8d016a'), 'review_count': 8},\n",
       " {'_id': ObjectId('626648ff0130b738ac8d017b'), 'review_count': 52},\n",
       " {'_id': ObjectId('626648ff0130b738ac8d01b1'), 'review_count': 15},\n",
       " {'_id': ObjectId('626648ff0130b738ac8d0220'), 'review_count': 6},\n",
       " {'_id': ObjectId('626648ff0130b738ac8d023d'), 'review_count': 7},\n",
       " {'_id': ObjectId('626648ff0130b738ac8d026a'), 'review_count': 87},\n",
       " {'_id': ObjectId('626648ff0130b738ac8d026c'), 'review_count': 5},\n",
       " {'_id': ObjectId('626648ff0130b738ac8d029c'), 'review_count': 79},\n",
       " {'_id': ObjectId('626648ff0130b738ac8d02db'), 'review_count': 15},\n",
       " {'_id': ObjectId('626648ff0130b738ac8d02dd'), 'review_count': 159},\n",
       " {'_id': ObjectId('626648ff0130b738ac8d030f'), 'review_count': 5},\n",
       " {'_id': ObjectId('626648ff0130b738ac8d0351'), 'review_count': 6},\n",
       " {'_id': ObjectId('626648ff0130b738ac8d03eb'), 'review_count': 28},\n",
       " {'_id': ObjectId('626648ff0130b738ac8d0455'), 'review_count': 11},\n",
       " {'_id': ObjectId('626648ff0130b738ac8d045d'), 'review_count': 21},\n",
       " {'_id': ObjectId('626648ff0130b738ac8d049c'), 'review_count': 35},\n",
       " {'_id': ObjectId('626648ff0130b738ac8d04be'), 'review_count': 56},\n",
       " {'_id': ObjectId('626648ff0130b738ac8d04e4'), 'review_count': 5},\n",
       " {'_id': ObjectId('626648ff0130b738ac8d0552'), 'review_count': 7},\n",
       " {'_id': ObjectId('626648ff0130b738ac8d056a'), 'review_count': 9},\n",
       " {'_id': ObjectId('626648ff0130b738ac8d05b2'), 'review_count': 23},\n",
       " {'_id': ObjectId('626648ff0130b738ac8d05ca'), 'review_count': 13},\n",
       " {'_id': ObjectId('626648ff0130b738ac8d0608'), 'review_count': 7},\n",
       " {'_id': ObjectId('626648ff0130b738ac8d064d'), 'review_count': 18},\n",
       " {'_id': ObjectId('626648ff0130b738ac8d0670'), 'review_count': 8},\n",
       " {'_id': ObjectId('626648ff0130b738ac8d069d'), 'review_count': 10},\n",
       " {'_id': ObjectId('626648ff0130b738ac8d06bc'), 'review_count': 6},\n",
       " {'_id': ObjectId('626648ff0130b738ac8d070d'), 'review_count': 145},\n",
       " {'_id': ObjectId('626648ff0130b738ac8d073f'), 'review_count': 8},\n",
       " {'_id': ObjectId('626648ff0130b738ac8d076f'), 'review_count': 9},\n",
       " {'_id': ObjectId('626648ff0130b738ac8d093b'), 'review_count': 123},\n",
       " {'_id': ObjectId('626648ff0130b738ac8d0980'), 'review_count': 990},\n",
       " {'_id': ObjectId('626648ff0130b738ac8d0a03'), 'review_count': 11},\n",
       " {'_id': ObjectId('626648ff0130b738ac8d0a13'), 'review_count': 1219},\n",
       " {'_id': ObjectId('626648ff0130b738ac8d0a34'), 'review_count': 15},\n",
       " {'_id': ObjectId('626648ff0130b738ac8d0ae5'), 'review_count': 6},\n",
       " {'_id': ObjectId('626648ff0130b738ac8d0b56'), 'review_count': 20},\n",
       " {'_id': ObjectId('626648ff0130b738ac8d0b96'), 'review_count': 14},\n",
       " {'_id': ObjectId('626648ff0130b738ac8d0bb0'), 'review_count': 5},\n",
       " {'_id': ObjectId('626648ff0130b738ac8d0d0a'), 'review_count': 16},\n",
       " {'_id': ObjectId('626648ff0130b738ac8d0df6'), 'review_count': 34},\n",
       " {'_id': ObjectId('626648ff0130b738ac8d0e1c'), 'review_count': 10},\n",
       " {'_id': ObjectId('626648ff0130b738ac8d0e5b'), 'review_count': 7},\n",
       " {'_id': ObjectId('626648ff0130b738ac8d0e63'), 'review_count': 314},\n",
       " {'_id': ObjectId('626648ff0130b738ac8d0e64'), 'review_count': 6},\n",
       " {'_id': ObjectId('626648ff0130b738ac8d0f14'), 'review_count': 32},\n",
       " {'_id': ObjectId('626648ff0130b738ac8d0f36'), 'review_count': 7},\n",
       " {'_id': ObjectId('626648ff0130b738ac8d1020'), 'review_count': 17},\n",
       " {'_id': ObjectId('626648ff0130b738ac8d1031'), 'review_count': 9},\n",
       " {'_id': ObjectId('626648ff0130b738ac8d104d'), 'review_count': 63},\n",
       " {'_id': ObjectId('626648ff0130b738ac8d1050'), 'review_count': 778},\n",
       " {'_id': ObjectId('626648ff0130b738ac8d1055'), 'review_count': 28},\n",
       " {'_id': ObjectId('626648ff0130b738ac8d10d0'), 'review_count': 29},\n",
       " {'_id': ObjectId('626648ff0130b738ac8d111b'), 'review_count': 14},\n",
       " {'_id': ObjectId('626648ff0130b738ac8d1127'), 'review_count': 52},\n",
       " {'_id': ObjectId('626648ff0130b738ac8d1169'), 'review_count': 10},\n",
       " {'_id': ObjectId('626648ff0130b738ac8d1181'), 'review_count': 79},\n",
       " {'_id': ObjectId('626648ff0130b738ac8d11a7'), 'review_count': 12},\n",
       " {'_id': ObjectId('626648ff0130b738ac8d11ac'), 'review_count': 5},\n",
       " {'_id': ObjectId('626648ff0130b738ac8d123d'), 'review_count': 115},\n",
       " {'_id': ObjectId('626648ff0130b738ac8d1273'), 'review_count': 18},\n",
       " {'_id': ObjectId('626648ff0130b738ac8d12ad'), 'review_count': 15},\n",
       " {'_id': ObjectId('626648ff0130b738ac8d12c2'), 'review_count': 6},\n",
       " {'_id': ObjectId('626648ff0130b738ac8d12c9'), 'review_count': 7},\n",
       " {'_id': ObjectId('626648ff0130b738ac8d1364'), 'review_count': 43},\n",
       " {'_id': ObjectId('626648ff0130b738ac8d13bb'), 'review_count': 14},\n",
       " {'_id': ObjectId('626648ff0130b738ac8d14b5'), 'review_count': 6},\n",
       " {'_id': ObjectId('626648ff0130b738ac8d156f'), 'review_count': 17},\n",
       " {'_id': ObjectId('626648ff0130b738ac8d15a4'), 'review_count': 7},\n",
       " {'_id': ObjectId('626648ff0130b738ac8d15a5'), 'review_count': 12},\n",
       " {'_id': ObjectId('626648ff0130b738ac8d1627'), 'review_count': 5},\n",
       " {'_id': ObjectId('626648ff0130b738ac8d1733'), 'review_count': 41},\n",
       " {'_id': ObjectId('626648ff0130b738ac8d188b'), 'review_count': 6},\n",
       " {'_id': ObjectId('626648ff0130b738ac8d18e9'), 'review_count': 14},\n",
       " {'_id': ObjectId('626648ff0130b738ac8d1901'), 'review_count': 9},\n",
       " {'_id': ObjectId('626648ff0130b738ac8d1950'), 'review_count': 9},\n",
       " {'_id': ObjectId('626648ff0130b738ac8d1995'), 'review_count': 67},\n",
       " {'_id': ObjectId('626648ff0130b738ac8d19b7'), 'review_count': 16},\n",
       " {'_id': ObjectId('626648ff0130b738ac8d1a81'), 'review_count': 11},\n",
       " {'_id': ObjectId('626648ff0130b738ac8d1b5c'), 'review_count': 11},\n",
       " {'_id': ObjectId('626648ff0130b738ac8d1b61'), 'review_count': 292},\n",
       " {'_id': ObjectId('626648ff0130b738ac8d1c01'), 'review_count': 5},\n",
       " {'_id': ObjectId('626648ff0130b738ac8d1c0e'), 'review_count': 7},\n",
       " {'_id': ObjectId('626648ff0130b738ac8d1c17'), 'review_count': 95},\n",
       " {'_id': ObjectId('626648ff0130b738ac8d1c3d'), 'review_count': 9},\n",
       " {'_id': ObjectId('626648ff0130b738ac8d1c63'), 'review_count': 87},\n",
       " {'_id': ObjectId('626648ff0130b738ac8d1c6c'), 'review_count': 5},\n",
       " {'_id': ObjectId('626648ff0130b738ac8d1d5c'), 'review_count': 22},\n",
       " {'_id': ObjectId('626648ff0130b738ac8d1dc9'), 'review_count': 8},\n",
       " {'_id': ObjectId('626648ff0130b738ac8d1e47'), 'review_count': 22},\n",
       " {'_id': ObjectId('626648ff0130b738ac8d1e5c'), 'review_count': 29},\n",
       " {'_id': ObjectId('626648ff0130b738ac8d1e98'), 'review_count': 22},\n",
       " {'_id': ObjectId('626648ff0130b738ac8d1f0d'), 'review_count': 7},\n",
       " {'_id': ObjectId('626648ff0130b738ac8d1f8b'), 'review_count': 28},\n",
       " {'_id': ObjectId('626648ff0130b738ac8d1f99'), 'review_count': 38},\n",
       " {'_id': ObjectId('626648ff0130b738ac8d1fcb'), 'review_count': 35},\n",
       " {'_id': ObjectId('626648ff0130b738ac8d1fec'), 'review_count': 17},\n",
       " {'_id': ObjectId('626648ff0130b738ac8d2009'), 'review_count': 28},\n",
       " {'_id': ObjectId('626648ff0130b738ac8d2029'), 'review_count': 11},\n",
       " {'_id': ObjectId('626648ff0130b738ac8d2033'), 'review_count': 41},\n",
       " {'_id': ObjectId('626648ff0130b738ac8d203b'), 'review_count': 8},\n",
       " {'_id': ObjectId('626648ff0130b738ac8d20c2'), 'review_count': 16},\n",
       " {'_id': ObjectId('626648ff0130b738ac8d2122'), 'review_count': 10},\n",
       " {'_id': ObjectId('626648ff0130b738ac8d21d1'), 'review_count': 5},\n",
       " {'_id': ObjectId('626648ff0130b738ac8d2291'), 'review_count': 5},\n",
       " {'_id': ObjectId('626648ff0130b738ac8d2301'), 'review_count': 32},\n",
       " {'_id': ObjectId('626648ff0130b738ac8d2307'), 'review_count': 58},\n",
       " {'_id': ObjectId('626648ff0130b738ac8d2309'), 'review_count': 24},\n",
       " {'_id': ObjectId('626648ff0130b738ac8d230a'), 'review_count': 7},\n",
       " {'_id': ObjectId('626648ff0130b738ac8d23ae'), 'review_count': 9},\n",
       " {'_id': ObjectId('626648ff0130b738ac8d2426'), 'review_count': 9},\n",
       " {'_id': ObjectId('626648ff0130b738ac8d243e'), 'review_count': 22},\n",
       " {'_id': ObjectId('626648ff0130b738ac8d2466'), 'review_count': 120},\n",
       " {'_id': ObjectId('626648ff0130b738ac8d247f'), 'review_count': 7},\n",
       " {'_id': ObjectId('626648ff0130b738ac8d2492'), 'review_count': 10},\n",
       " {'_id': ObjectId('626648ff0130b738ac8d24c5'), 'review_count': 10},\n",
       " {'_id': ObjectId('626648ff0130b738ac8d24eb'), 'review_count': 12},\n",
       " {'_id': ObjectId('626648ff0130b738ac8d253f'), 'review_count': 28},\n",
       " {'_id': ObjectId('626648ff0130b738ac8d256f'), 'review_count': 6},\n",
       " {'_id': ObjectId('626648ff0130b738ac8d2572'), 'review_count': 215},\n",
       " {'_id': ObjectId('626648ff0130b738ac8d2595'), 'review_count': 41},\n",
       " {'_id': ObjectId('626648ff0130b738ac8d25db'), 'review_count': 6},\n",
       " {'_id': ObjectId('626648ff0130b738ac8d2631'), 'review_count': 20},\n",
       " {'_id': ObjectId('626648ff0130b738ac8d2655'), 'review_count': 21},\n",
       " {'_id': ObjectId('626648ff0130b738ac8d2659'), 'review_count': 16},\n",
       " {'_id': ObjectId('626648ff0130b738ac8d2682'), 'review_count': 5},\n",
       " {'_id': ObjectId('626648ff0130b738ac8d2688'), 'review_count': 18},\n",
       " {'_id': ObjectId('626648ff0130b738ac8d270a'), 'review_count': 8},\n",
       " {'_id': ObjectId('626648ff0130b738ac8d275c'), 'review_count': 21},\n",
       " {'_id': ObjectId('626648ff0130b738ac8d27b2'), 'review_count': 62},\n",
       " {'_id': ObjectId('626648ff0130b738ac8d2820'), 'review_count': 83},\n",
       " {'_id': ObjectId('626648ff0130b738ac8d2876'), 'review_count': 21},\n",
       " {'_id': ObjectId('626648ff0130b738ac8d28c9'), 'review_count': 85},\n",
       " {'_id': ObjectId('626648ff0130b738ac8d28f6'), 'review_count': 7},\n",
       " {'_id': ObjectId('626648ff0130b738ac8d2909'), 'review_count': 5},\n",
       " {'_id': ObjectId('626648ff0130b738ac8d2971'), 'review_count': 60},\n",
       " {'_id': ObjectId('626648ff0130b738ac8d297e'), 'review_count': 49},\n",
       " {'_id': ObjectId('626648ff0130b738ac8d298a'), 'review_count': 29},\n",
       " {'_id': ObjectId('626648ff0130b738ac8d29df'), 'review_count': 93},\n",
       " {'_id': ObjectId('626648ff0130b738ac8d2a38'), 'review_count': 6},\n",
       " {'_id': ObjectId('626648ff0130b738ac8d2a88'), 'review_count': 137},\n",
       " {'_id': ObjectId('626648ff0130b738ac8d2ada'), 'review_count': 24},\n",
       " {'_id': ObjectId('626648ff0130b738ac8d2b09'), 'review_count': 19},\n",
       " {'_id': ObjectId('626648ff0130b738ac8d2b3b'), 'review_count': 42},\n",
       " {'_id': ObjectId('626648ff0130b738ac8d2b5d'), 'review_count': 82},\n",
       " {'_id': ObjectId('626648ff0130b738ac8d2b5e'), 'review_count': 35},\n",
       " {'_id': ObjectId('626648ff0130b738ac8d2c41'), 'review_count': 72},\n",
       " {'_id': ObjectId('626648ff0130b738ac8d2c44'), 'review_count': 6},\n",
       " {'_id': ObjectId('626648ff0130b738ac8d2cb6'), 'review_count': 20},\n",
       " {'_id': ObjectId('626648ff0130b738ac8d2d2d'), 'review_count': 5},\n",
       " {'_id': ObjectId('626648ff0130b738ac8d2d32'), 'review_count': 13},\n",
       " {'_id': ObjectId('626648ff0130b738ac8d2d78'), 'review_count': 5},\n",
       " {'_id': ObjectId('626648ff0130b738ac8d2e2c'), 'review_count': 21},\n",
       " {'_id': ObjectId('626648ff0130b738ac8d2eb6'), 'review_count': 7},\n",
       " {'_id': ObjectId('626648ff0130b738ac8d2f2f'), 'review_count': 21},\n",
       " {'_id': ObjectId('626648ff0130b738ac8d2f9e'), 'review_count': 149},\n",
       " {'_id': ObjectId('626648ff0130b738ac8d2fed'), 'review_count': 64},\n",
       " {'_id': ObjectId('626648ff0130b738ac8d3031'), 'review_count': 12},\n",
       " {'_id': ObjectId('626648ff0130b738ac8d3087'), 'review_count': 6},\n",
       " {'_id': ObjectId('626648ff0130b738ac8d30a6'), 'review_count': 12},\n",
       " {'_id': ObjectId('626648ff0130b738ac8d30c1'), 'review_count': 73},\n",
       " {'_id': ObjectId('626648ff0130b738ac8d30c5'), 'review_count': 206},\n",
       " {'_id': ObjectId('626648ff0130b738ac8d30f7'), 'review_count': 40},\n",
       " {'_id': ObjectId('626648ff0130b738ac8d3115'), 'review_count': 263},\n",
       " {'_id': ObjectId('626648ff0130b738ac8d3147'), 'review_count': 26},\n",
       " {'_id': ObjectId('626648ff0130b738ac8d3254'), 'review_count': 72},\n",
       " {'_id': ObjectId('626648ff0130b738ac8d3278'), 'review_count': 9},\n",
       " {'_id': ObjectId('626648ff0130b738ac8d32b4'), 'review_count': 5},\n",
       " {'_id': ObjectId('626648ff0130b738ac8d32cb'), 'review_count': 48},\n",
       " {'_id': ObjectId('626648ff0130b738ac8d32fe'), 'review_count': 11},\n",
       " {'_id': ObjectId('626648ff0130b738ac8d3330'), 'review_count': 6},\n",
       " {'_id': ObjectId('626648ff0130b738ac8d3404'), 'review_count': 6},\n",
       " {'_id': ObjectId('626648ff0130b738ac8d3425'), 'review_count': 46},\n",
       " {'_id': ObjectId('626648ff0130b738ac8d3459'), 'review_count': 9},\n",
       " {'_id': ObjectId('626648ff0130b738ac8d34ed'), 'review_count': 41},\n",
       " {'_id': ObjectId('626648ff0130b738ac8d3522'), 'review_count': 64},\n",
       " {'_id': ObjectId('626648ff0130b738ac8d361d'), 'review_count': 11},\n",
       " {'_id': ObjectId('626648ff0130b738ac8d3643'), 'review_count': 16},\n",
       " {'_id': ObjectId('626648ff0130b738ac8d366e'), 'review_count': 8},\n",
       " {'_id': ObjectId('626648ff0130b738ac8d368c'), 'review_count': 85},\n",
       " {'_id': ObjectId('626648ff0130b738ac8d37ea'), 'review_count': 5},\n",
       " {'_id': ObjectId('626648ff0130b738ac8d3804'), 'review_count': 36},\n",
       " {'_id': ObjectId('626648ff0130b738ac8d388e'), 'review_count': 34},\n",
       " {'_id': ObjectId('626648ff0130b738ac8d389d'), 'review_count': 27},\n",
       " {'_id': ObjectId('626648ff0130b738ac8d38a5'), 'review_count': 6},\n",
       " {'_id': ObjectId('626648ff0130b738ac8d38cc'), 'review_count': 33},\n",
       " {'_id': ObjectId('626648ff0130b738ac8d38fd'), 'review_count': 7},\n",
       " {'_id': ObjectId('626648ff0130b738ac8d3942'), 'review_count': 246},\n",
       " {'_id': ObjectId('626648ff0130b738ac8d3958'), 'review_count': 19},\n",
       " {'_id': ObjectId('626648ff0130b738ac8d39f8'), 'review_count': 67},\n",
       " {'_id': ObjectId('626648ff0130b738ac8d3a49'), 'review_count': 19},\n",
       " {'_id': ObjectId('626648ff0130b738ac8d3b07'), 'review_count': 48},\n",
       " {'_id': ObjectId('626648ff0130b738ac8d3b1c'), 'review_count': 8},\n",
       " {'_id': ObjectId('626648ff0130b738ac8d3b80'), 'review_count': 7},\n",
       " {'_id': ObjectId('626648ff0130b738ac8d3c18'), 'review_count': 6},\n",
       " {'_id': ObjectId('626648ff0130b738ac8d3d45'), 'review_count': 5},\n",
       " {'_id': ObjectId('626648ff0130b738ac8d3d50'), 'review_count': 6},\n",
       " {'_id': ObjectId('626648ff0130b738ac8d3d55'), 'review_count': 6},\n",
       " {'_id': ObjectId('626648ff0130b738ac8d3d68'), 'review_count': 136},\n",
       " {'_id': ObjectId('626648ff0130b738ac8d3e52'), 'review_count': 8},\n",
       " {'_id': ObjectId('626648ff0130b738ac8d3f59'), 'review_count': 8},\n",
       " {'_id': ObjectId('626648ff0130b738ac8d3fb2'), 'review_count': 27},\n",
       " {'_id': ObjectId('626648ff0130b738ac8d3fdc'), 'review_count': 5},\n",
       " {'_id': ObjectId('626648ff0130b738ac8d404b'), 'review_count': 10},\n",
       " {'_id': ObjectId('626648ff0130b738ac8d4068'), 'review_count': 7},\n",
       " {'_id': ObjectId('626648ff0130b738ac8d40b7'), 'review_count': 36},\n",
       " {'_id': ObjectId('626648ff0130b738ac8d40d3'), 'review_count': 5},\n",
       " {'_id': ObjectId('626648ff0130b738ac8d411c'), 'review_count': 33},\n",
       " {'_id': ObjectId('626648ff0130b738ac8d4120'), 'review_count': 8},\n",
       " {'_id': ObjectId('626648ff0130b738ac8d4131'), 'review_count': 13},\n",
       " {'_id': ObjectId('626648ff0130b738ac8d4193'), 'review_count': 7},\n",
       " {'_id': ObjectId('626648ff0130b738ac8d4354'), 'review_count': 11},\n",
       " {'_id': ObjectId('626648ff0130b738ac8d43a4'), 'review_count': 83},\n",
       " {'_id': ObjectId('626648ff0130b738ac8d43bc'), 'review_count': 6},\n",
       " {'_id': ObjectId('626648ff0130b738ac8d43ea'), 'review_count': 6},\n",
       " {'_id': ObjectId('626648ff0130b738ac8d4471'), 'review_count': 12},\n",
       " {'_id': ObjectId('626648ff0130b738ac8d44e0'), 'review_count': 123},\n",
       " {'_id': ObjectId('626648ff0130b738ac8d45a9'), 'review_count': 48},\n",
       " {'_id': ObjectId('626648ff0130b738ac8d45e7'), 'review_count': 50},\n",
       " {'_id': ObjectId('626648ff0130b738ac8d4604'), 'review_count': 9},\n",
       " {'_id': ObjectId('626648ff0130b738ac8d4623'), 'review_count': 204},\n",
       " {'_id': ObjectId('626648ff0130b738ac8d4660'), 'review_count': 15},\n",
       " {'_id': ObjectId('626648ff0130b738ac8d46e9'), 'review_count': 10},\n",
       " {'_id': ObjectId('626648ff0130b738ac8d4728'), 'review_count': 51},\n",
       " {'_id': ObjectId('626648ff0130b738ac8d4749'), 'review_count': 25},\n",
       " {'_id': ObjectId('626648ff0130b738ac8d4777'), 'review_count': 7},\n",
       " {'_id': ObjectId('626648ff0130b738ac8d478c'), 'review_count': 28},\n",
       " {'_id': ObjectId('626648ff0130b738ac8d47a3'), 'review_count': 9},\n",
       " {'_id': ObjectId('626648ff0130b738ac8d47b6'), 'review_count': 15},\n",
       " {'_id': ObjectId('626648ff0130b738ac8d481b'), 'review_count': 11},\n",
       " {'_id': ObjectId('626648ff0130b738ac8d48b1'), 'review_count': 5},\n",
       " {'_id': ObjectId('626648ff0130b738ac8d491b'), 'review_count': 17},\n",
       " {'_id': ObjectId('626648ff0130b738ac8d4a22'), 'review_count': 8},\n",
       " {'_id': ObjectId('626648ff0130b738ac8d4a38'), 'review_count': 16},\n",
       " {'_id': ObjectId('626648ff0130b738ac8d4a7f'), 'review_count': 58},\n",
       " {'_id': ObjectId('626648ff0130b738ac8d4b11'), 'review_count': 11},\n",
       " {'_id': ObjectId('626648ff0130b738ac8d4bb7'), 'review_count': 47},\n",
       " {'_id': ObjectId('626648ff0130b738ac8d4bfd'), 'review_count': 14},\n",
       " {'_id': ObjectId('626648ff0130b738ac8d4c12'), 'review_count': 5},\n",
       " {'_id': ObjectId('626648ff0130b738ac8d4c88'), 'review_count': 12},\n",
       " {'_id': ObjectId('626648ff0130b738ac8d4cc9'), 'review_count': 181},\n",
       " {'_id': ObjectId('626648ff0130b738ac8d4cd5'), 'review_count': 42},\n",
       " {'_id': ObjectId('626648ff0130b738ac8d4d4b'), 'review_count': 10},\n",
       " {'_id': ObjectId('626648ff0130b738ac8d4da4'), 'review_count': 267},\n",
       " {'_id': ObjectId('626648ff0130b738ac8d4de6'), 'review_count': 51},\n",
       " {'_id': ObjectId('626648ff0130b738ac8d4e2a'), 'review_count': 8},\n",
       " {'_id': ObjectId('626648ff0130b738ac8d4f62'), 'review_count': 17},\n",
       " {'_id': ObjectId('626648ff0130b738ac8d4f6f'), 'review_count': 11},\n",
       " {'_id': ObjectId('626648ff0130b738ac8d4f7b'), 'review_count': 26},\n",
       " {'_id': ObjectId('626648ff0130b738ac8d5025'), 'review_count': 11},\n",
       " {'_id': ObjectId('626648ff0130b738ac8d5049'), 'review_count': 19},\n",
       " {'_id': ObjectId('626648ff0130b738ac8d5058'), 'review_count': 79},\n",
       " {'_id': ObjectId('626648ff0130b738ac8d509e'), 'review_count': 8},\n",
       " {'_id': ObjectId('626648ff0130b738ac8d50b3'), 'review_count': 67},\n",
       " {'_id': ObjectId('626648ff0130b738ac8d50fa'), 'review_count': 8},\n",
       " {'_id': ObjectId('626648ff0130b738ac8d514d'), 'review_count': 227},\n",
       " {'_id': ObjectId('626648ff0130b738ac8d51d7'), 'review_count': 15},\n",
       " {'_id': ObjectId('626648ff0130b738ac8d5203'), 'review_count': 17},\n",
       " {'_id': ObjectId('626648ff0130b738ac8d520d'), 'review_count': 5},\n",
       " {'_id': ObjectId('626648ff0130b738ac8d522b'), 'review_count': 27},\n",
       " {'_id': ObjectId('626648ff0130b738ac8d5253'), 'review_count': 29},\n",
       " {'_id': ObjectId('626648ff0130b738ac8d529e'), 'review_count': 8},\n",
       " {'_id': ObjectId('626648ff0130b738ac8d52a7'), 'review_count': 34},\n",
       " {'_id': ObjectId('626648ff0130b738ac8d52df'), 'review_count': 10},\n",
       " {'_id': ObjectId('626648ff0130b738ac8d53bb'), 'review_count': 6},\n",
       " {'_id': ObjectId('626648ff0130b738ac8d53f6'), 'review_count': 9},\n",
       " {'_id': ObjectId('626648ff0130b738ac8d5435'), 'review_count': 37},\n",
       " {'_id': ObjectId('626648ff0130b738ac8d543e'), 'review_count': 8},\n",
       " {'_id': ObjectId('626648ff0130b738ac8d5448'), 'review_count': 5},\n",
       " {'_id': ObjectId('626648ff0130b738ac8d5471'), 'review_count': 21},\n",
       " {'_id': ObjectId('626648ff0130b738ac8d54b2'), 'review_count': 231},\n",
       " {'_id': ObjectId('626648ff0130b738ac8d54be'), 'review_count': 23},\n",
       " {'_id': ObjectId('626648ff0130b738ac8d54ef'), 'review_count': 22},\n",
       " {'_id': ObjectId('626648ff0130b738ac8d5529'), 'review_count': 69},\n",
       " {'_id': ObjectId('626648ff0130b738ac8d552f'), 'review_count': 82},\n",
       " {'_id': ObjectId('626648ff0130b738ac8d5570'), 'review_count': 12},\n",
       " {'_id': ObjectId('626648ff0130b738ac8d560c'), 'review_count': 5},\n",
       " {'_id': ObjectId('626648ff0130b738ac8d5627'), 'review_count': 76},\n",
       " {'_id': ObjectId('626648ff0130b738ac8d562e'), 'review_count': 11},\n",
       " {'_id': ObjectId('626648ff0130b738ac8d5692'), 'review_count': 52},\n",
       " {'_id': ObjectId('626648ff0130b738ac8d56b4'), 'review_count': 55},\n",
       " {'_id': ObjectId('626648ff0130b738ac8d56f3'), 'review_count': 22},\n",
       " {'_id': ObjectId('626648ff0130b738ac8d56f6'), 'review_count': 21},\n",
       " {'_id': ObjectId('626648ff0130b738ac8d5764'), 'review_count': 6},\n",
       " {'_id': ObjectId('626648ff0130b738ac8d57af'), 'review_count': 19},\n",
       " {'_id': ObjectId('626648ff0130b738ac8d57e1'), 'review_count': 9},\n",
       " {'_id': ObjectId('626648ff0130b738ac8d5862'), 'review_count': 7},\n",
       " {'_id': ObjectId('626648ff0130b738ac8d5946'), 'review_count': 11},\n",
       " {'_id': ObjectId('626648ff0130b738ac8d599d'), 'review_count': 6},\n",
       " {'_id': ObjectId('626648ff0130b738ac8d59c5'), 'review_count': 9},\n",
       " {'_id': ObjectId('626648ff0130b738ac8d59cb'), 'review_count': 35},\n",
       " {'_id': ObjectId('626648ff0130b738ac8d59e5'), 'review_count': 9},\n",
       " {'_id': ObjectId('626648ff0130b738ac8d5a42'), 'review_count': 8},\n",
       " {'_id': ObjectId('626648ff0130b738ac8d5a69'), 'review_count': 42},\n",
       " {'_id': ObjectId('626648ff0130b738ac8d5a92'), 'review_count': 39},\n",
       " {'_id': ObjectId('626648ff0130b738ac8d5af1'), 'review_count': 13},\n",
       " {'_id': ObjectId('626648ff0130b738ac8d5afb'), 'review_count': 269},\n",
       " {'_id': ObjectId('626648ff0130b738ac8d5b63'), 'review_count': 7},\n",
       " {'_id': ObjectId('626648ff0130b738ac8d5bc4'), 'review_count': 5},\n",
       " {'_id': ObjectId('626648ff0130b738ac8d5c17'), 'review_count': 10},\n",
       " {'_id': ObjectId('626648ff0130b738ac8d5ca6'), 'review_count': 7},\n",
       " {'_id': ObjectId('626648ff0130b738ac8d5d02'), 'review_count': 8},\n",
       " {'_id': ObjectId('626648ff0130b738ac8d5d63'), 'review_count': 6},\n",
       " {'_id': ObjectId('626648ff0130b738ac8d5d64'), 'review_count': 83},\n",
       " {'_id': ObjectId('626648ff0130b738ac8d5d75'), 'review_count': 113},\n",
       " {'_id': ObjectId('626648ff0130b738ac8d5d7b'), 'review_count': 30},\n",
       " {'_id': ObjectId('626648ff0130b738ac8d5dbb'), 'review_count': 5},\n",
       " {'_id': ObjectId('626648ff0130b738ac8d5e3a'), 'review_count': 10},\n",
       " {'_id': ObjectId('626648ff0130b738ac8d5e9f'), 'review_count': 11},\n",
       " {'_id': ObjectId('626648ff0130b738ac8d5ee5'), 'review_count': 208},\n",
       " {'_id': ObjectId('626648ff0130b738ac8d5efa'), 'review_count': 7},\n",
       " {'_id': ObjectId('626648ff0130b738ac8d5f00'), 'review_count': 12},\n",
       " {'_id': ObjectId('626648ff0130b738ac8d600d'), 'review_count': 5},\n",
       " {'_id': ObjectId('626648ff0130b738ac8d6014'), 'review_count': 8},\n",
       " {'_id': ObjectId('626648ff0130b738ac8d6026'), 'review_count': 6},\n",
       " {'_id': ObjectId('626648ff0130b738ac8d605e'), 'review_count': 85},\n",
       " {'_id': ObjectId('626648ff0130b738ac8d607d'), 'review_count': 7},\n",
       " {'_id': ObjectId('626648ff0130b738ac8d6121'), 'review_count': 16},\n",
       " {'_id': ObjectId('626648ff0130b738ac8d6146'), 'review_count': 8},\n",
       " {'_id': ObjectId('626648ff0130b738ac8d61ad'), 'review_count': 124},\n",
       " {'_id': ObjectId('626648ff0130b738ac8d6212'), 'review_count': 9},\n",
       " {'_id': ObjectId('626648ff0130b738ac8d62b6'), 'review_count': 20},\n",
       " {'_id': ObjectId('626648ff0130b738ac8d631c'), 'review_count': 53},\n",
       " {'_id': ObjectId('626648ff0130b738ac8d6357'), 'review_count': 11},\n",
       " {'_id': ObjectId('626648ff0130b738ac8d6393'), 'review_count': 11},\n",
       " {'_id': ObjectId('626648ff0130b738ac8d6438'), 'review_count': 184},\n",
       " {'_id': ObjectId('626648ff0130b738ac8d64de'), 'review_count': 39},\n",
       " {'_id': ObjectId('626648ff0130b738ac8d6533'), 'review_count': 99},\n",
       " {'_id': ObjectId('626648ff0130b738ac8d65b6'), 'review_count': 40},\n",
       " {'_id': ObjectId('626648ff0130b738ac8d65e8'), 'review_count': 169},\n",
       " {'_id': ObjectId('626648ff0130b738ac8d6662'), 'review_count': 10},\n",
       " {'_id': ObjectId('626648ff0130b738ac8d66bb'), 'review_count': 67},\n",
       " {'_id': ObjectId('626648ff0130b738ac8d66c9'), 'review_count': 21},\n",
       " {'_id': ObjectId('626648ff0130b738ac8d6712'), 'review_count': 5},\n",
       " {'_id': ObjectId('626648ff0130b738ac8d67ce'), 'review_count': 73},\n",
       " {'_id': ObjectId('626648ff0130b738ac8d6813'), 'review_count': 7},\n",
       " {'_id': ObjectId('626648ff0130b738ac8d6838'), 'review_count': 21},\n",
       " {'_id': ObjectId('626648ff0130b738ac8d688a'), 'review_count': 17},\n",
       " {'_id': ObjectId('626648ff0130b738ac8d68ce'), 'review_count': 37},\n",
       " {'_id': ObjectId('626648ff0130b738ac8d68df'), 'review_count': 73},\n",
       " {'_id': ObjectId('626648ff0130b738ac8d693f'), 'review_count': 23},\n",
       " {'_id': ObjectId('626648ff0130b738ac8d69a9'), 'review_count': 9},\n",
       " {'_id': ObjectId('626648ff0130b738ac8d6a0c'), 'review_count': 73},\n",
       " {'_id': ObjectId('626648ff0130b738ac8d6afe'), 'review_count': 17},\n",
       " {'_id': ObjectId('626648ff0130b738ac8d6b43'), 'review_count': 11},\n",
       " {'_id': ObjectId('626648ff0130b738ac8d6b58'), 'review_count': 105},\n",
       " {'_id': ObjectId('626648ff0130b738ac8d6b77'), 'review_count': 57},\n",
       " {'_id': ObjectId('626648ff0130b738ac8d6bde'), 'review_count': 6},\n",
       " {'_id': ObjectId('626648ff0130b738ac8d6c2b'), 'review_count': 61},\n",
       " {'_id': ObjectId('626648ff0130b738ac8d6e14'), 'review_count': 63},\n",
       " {'_id': ObjectId('626648ff0130b738ac8d6e91'), 'review_count': 7},\n",
       " {'_id': ObjectId('626648ff0130b738ac8d6eb6'), 'review_count': 5},\n",
       " {'_id': ObjectId('626648ff0130b738ac8d6ec1'), 'review_count': 30},\n",
       " {'_id': ObjectId('626648ff0130b738ac8d6ecf'), 'review_count': 47},\n",
       " {'_id': ObjectId('626648ff0130b738ac8d6f26'), 'review_count': 22},\n",
       " {'_id': ObjectId('626648ff0130b738ac8d6f6b'), 'review_count': 7},\n",
       " {'_id': ObjectId('626648ff0130b738ac8d7002'), 'review_count': 11},\n",
       " {'_id': ObjectId('626648ff0130b738ac8d7030'), 'review_count': 148},\n",
       " {'_id': ObjectId('626648ff0130b738ac8d70c8'), 'review_count': 29},\n",
       " {'_id': ObjectId('626648ff0130b738ac8d70d5'), 'review_count': 35},\n",
       " {'_id': ObjectId('626648ff0130b738ac8d7137'), 'review_count': 18},\n",
       " {'_id': ObjectId('626648ff0130b738ac8d7156'), 'review_count': 13},\n",
       " {'_id': ObjectId('626648ff0130b738ac8d717c'), 'review_count': 6},\n",
       " {'_id': ObjectId('626648ff0130b738ac8d7180'), 'review_count': 17},\n",
       " {'_id': ObjectId('626648ff0130b738ac8d71ce'), 'review_count': 7},\n",
       " {'_id': ObjectId('626648ff0130b738ac8d721b'), 'review_count': 16},\n",
       " {'_id': ObjectId('626648ff0130b738ac8d72ce'), 'review_count': 6},\n",
       " {'_id': ObjectId('626648ff0130b738ac8d72de'), 'review_count': 15},\n",
       " {'_id': ObjectId('626648ff0130b738ac8d72f2'), 'review_count': 26},\n",
       " {'_id': ObjectId('626648ff0130b738ac8d73e7'), 'review_count': 8},\n",
       " {'_id': ObjectId('626648ff0130b738ac8d743e'), 'review_count': 6},\n",
       " {'_id': ObjectId('626648ff0130b738ac8d744c'), 'review_count': 88},\n",
       " {'_id': ObjectId('626648ff0130b738ac8d7489'), 'review_count': 49},\n",
       " {'_id': ObjectId('626648ff0130b738ac8d748d'), 'review_count': 10},\n",
       " {'_id': ObjectId('626648ff0130b738ac8d74d5'), 'review_count': 152},\n",
       " {'_id': ObjectId('626648ff0130b738ac8d74df'), 'review_count': 17},\n",
       " {'_id': ObjectId('626648ff0130b738ac8d74fd'), 'review_count': 59},\n",
       " {'_id': ObjectId('626648ff0130b738ac8d766b'), 'review_count': 11},\n",
       " {'_id': ObjectId('626648ff0130b738ac8d7696'), 'review_count': 12},\n",
       " {'_id': ObjectId('626648ff0130b738ac8d772a'), 'review_count': 6},\n",
       " {'_id': ObjectId('626648ff0130b738ac8d7757'), 'review_count': 8},\n",
       " {'_id': ObjectId('626648ff0130b738ac8d77bc'), 'review_count': 41},\n",
       " {'_id': ObjectId('626648ff0130b738ac8d77d1'), 'review_count': 39},\n",
       " {'_id': ObjectId('626648ff0130b738ac8d77e3'), 'review_count': 12},\n",
       " {'_id': ObjectId('626648ff0130b738ac8d7813'), 'review_count': 24},\n",
       " {'_id': ObjectId('626648ff0130b738ac8d782d'), 'review_count': 29},\n",
       " {'_id': ObjectId('626648ff0130b738ac8d784e'), 'review_count': 15},\n",
       " {'_id': ObjectId('626648ff0130b738ac8d7876'), 'review_count': 5},\n",
       " {'_id': ObjectId('626648ff0130b738ac8d78c0'), 'review_count': 60},\n",
       " {'_id': ObjectId('626648ff0130b738ac8d78ef'), 'review_count': 17},\n",
       " {'_id': ObjectId('626648ff0130b738ac8d797c'), 'review_count': 18},\n",
       " {'_id': ObjectId('626648ff0130b738ac8d7a0d'), 'review_count': 27},\n",
       " {'_id': ObjectId('626648ff0130b738ac8d7a23'), 'review_count': 6},\n",
       " {'_id': ObjectId('626648ff0130b738ac8d7a60'), 'review_count': 5},\n",
       " {'_id': ObjectId('626648ff0130b738ac8d7aa2'), 'review_count': 8},\n",
       " {'_id': ObjectId('626648ff0130b738ac8d7b35'), 'review_count': 8},\n",
       " {'_id': ObjectId('626648ff0130b738ac8d7b63'), 'review_count': 26},\n",
       " {'_id': ObjectId('626648ff0130b738ac8d7c20'), 'review_count': 8},\n",
       " {'_id': ObjectId('626648ff0130b738ac8d7cc4'), 'review_count': 14},\n",
       " {'_id': ObjectId('626648ff0130b738ac8d7d34'), 'review_count': 13},\n",
       " {'_id': ObjectId('626648ff0130b738ac8d7d40'), 'review_count': 367},\n",
       " {'_id': ObjectId('626648ff0130b738ac8d7d99'), 'review_count': 52},\n",
       " {'_id': ObjectId('626648ff0130b738ac8d7d9f'), 'review_count': 48},\n",
       " {'_id': ObjectId('626648ff0130b738ac8d7da6'), 'review_count': 11},\n",
       " {'_id': ObjectId('626648ff0130b738ac8d7da7'), 'review_count': 79},\n",
       " {'_id': ObjectId('626648ff0130b738ac8d7e2e'), 'review_count': 8},\n",
       " {'_id': ObjectId('626648ff0130b738ac8d7e6c'), 'review_count': 34},\n",
       " {'_id': ObjectId('626648ff0130b738ac8d7e97'), 'review_count': 24},\n",
       " {'_id': ObjectId('626648ff0130b738ac8d7ea7'), 'review_count': 30},\n",
       " {'_id': ObjectId('626648ff0130b738ac8d7ebc'), 'review_count': 20},\n",
       " {'_id': ObjectId('626648ff0130b738ac8d7f19'), 'review_count': 9},\n",
       " {'_id': ObjectId('626648ff0130b738ac8d7f44'), 'review_count': 44},\n",
       " {'_id': ObjectId('626648ff0130b738ac8d7f61'), 'review_count': 165},\n",
       " {'_id': ObjectId('626648ff0130b738ac8d8079'), 'review_count': 134},\n",
       " {'_id': ObjectId('626648ff0130b738ac8d80ae'), 'review_count': 5},\n",
       " {'_id': ObjectId('626648ff0130b738ac8d80bd'), 'review_count': 12},\n",
       " {'_id': ObjectId('626648ff0130b738ac8d8112'), 'review_count': 32},\n",
       " {'_id': ObjectId('626648ff0130b738ac8d8170'), 'review_count': 91},\n",
       " {'_id': ObjectId('626648ff0130b738ac8d82c6'), 'review_count': 22},\n",
       " {'_id': ObjectId('626648ff0130b738ac8d8332'), 'review_count': 14},\n",
       " {'_id': ObjectId('626648ff0130b738ac8d8382'), 'review_count': 14},\n",
       " {'_id': ObjectId('626648ff0130b738ac8d8388'), 'review_count': 23},\n",
       " {'_id': ObjectId('626648ff0130b738ac8d84b2'), 'review_count': 13},\n",
       " {'_id': ObjectId('626648ff0130b738ac8d84e9'), 'review_count': 84},\n",
       " {'_id': ObjectId('626648ff0130b738ac8d84fe'), 'review_count': 96},\n",
       " {'_id': ObjectId('626648ff0130b738ac8d85b6'), 'review_count': 29},\n",
       " {'_id': ObjectId('626648ff0130b738ac8d85d4'), 'review_count': 20},\n",
       " {'_id': ObjectId('626648ff0130b738ac8d85eb'), 'review_count': 5},\n",
       " {'_id': ObjectId('626648ff0130b738ac8d85ee'), 'review_count': 7},\n",
       " {'_id': ObjectId('626648ff0130b738ac8d8675'), 'review_count': 5},\n",
       " {'_id': ObjectId('626648ff0130b738ac8d8682'), 'review_count': 5},\n",
       " {'_id': ObjectId('626648ff0130b738ac8d8695'), 'review_count': 8},\n",
       " {'_id': ObjectId('626648ff0130b738ac8d86ac'), 'review_count': 23},\n",
       " {'_id': ObjectId('626648ff0130b738ac8d8716'), 'review_count': 6},\n",
       " {'_id': ObjectId('626648ff0130b738ac8d8778'), 'review_count': 17},\n",
       " {'_id': ObjectId('626648ff0130b738ac8d87a5'), 'review_count': 9},\n",
       " {'_id': ObjectId('626648ff0130b738ac8d8863'), 'review_count': 6},\n",
       " {'_id': ObjectId('626648ff0130b738ac8d887c'), 'review_count': 45},\n",
       " {'_id': ObjectId('626648ff0130b738ac8d88b2'), 'review_count': 33},\n",
       " {'_id': ObjectId('626648ff0130b738ac8d88e8'), 'review_count': 10},\n",
       " {'_id': ObjectId('626648ff0130b738ac8d893c'), 'review_count': 5},\n",
       " {'_id': ObjectId('626648ff0130b738ac8d89d9'), 'review_count': 20},\n",
       " {'_id': ObjectId('626648ff0130b738ac8d8a03'), 'review_count': 9},\n",
       " {'_id': ObjectId('626648ff0130b738ac8d8af1'), 'review_count': 8},\n",
       " {'_id': ObjectId('626648ff0130b738ac8d8b22'), 'review_count': 6},\n",
       " {'_id': ObjectId('626648ff0130b738ac8d8b2b'), 'review_count': 6},\n",
       " {'_id': ObjectId('626648ff0130b738ac8d8b57'), 'review_count': 19},\n",
       " {'_id': ObjectId('626648ff0130b738ac8d8ba1'), 'review_count': 813},\n",
       " {'_id': ObjectId('626648ff0130b738ac8d8cbb'), 'review_count': 15},\n",
       " {'_id': ObjectId('626648ff0130b738ac8d8cca'), 'review_count': 16},\n",
       " {'_id': ObjectId('626648ff0130b738ac8d8cdd'), 'review_count': 67},\n",
       " {'_id': ObjectId('626648ff0130b738ac8d8d6c'), 'review_count': 323},\n",
       " {'_id': ObjectId('626648ff0130b738ac8d8d6f'), 'review_count': 129},\n",
       " {'_id': ObjectId('626648ff0130b738ac8d8d92'), 'review_count': 12},\n",
       " {'_id': ObjectId('626648ff0130b738ac8d8da7'), 'review_count': 11},\n",
       " {'_id': ObjectId('626648ff0130b738ac8d8dbc'), 'review_count': 13},\n",
       " {'_id': ObjectId('626648ff0130b738ac8d8e46'), 'review_count': 8},\n",
       " {'_id': ObjectId('626648ff0130b738ac8d8e8e'), 'review_count': 12},\n",
       " {'_id': ObjectId('626648ff0130b738ac8d8ebf'), 'review_count': 78},\n",
       " {'_id': ObjectId('626648ff0130b738ac8d8eee'), 'review_count': 23},\n",
       " {'_id': ObjectId('626648ff0130b738ac8d8f07'), 'review_count': 11},\n",
       " {'_id': ObjectId('626648ff0130b738ac8d8f1a'), 'review_count': 10},\n",
       " {'_id': ObjectId('626648ff0130b738ac8d8f5d'), 'review_count': 12},\n",
       " {'_id': ObjectId('626648ff0130b738ac8d8fad'), 'review_count': 13},\n",
       " {'_id': ObjectId('626648ff0130b738ac8d8fce'), 'review_count': 19},\n",
       " {'_id': ObjectId('626648ff0130b738ac8d8ff0'), 'review_count': 12},\n",
       " {'_id': ObjectId('626648ff0130b738ac8d9009'), 'review_count': 8},\n",
       " {'_id': ObjectId('626648ff0130b738ac8d902f'), 'review_count': 6},\n",
       " {'_id': ObjectId('626648ff0130b738ac8d90a6'), 'review_count': 16},\n",
       " {'_id': ObjectId('626648ff0130b738ac8d90ca'), 'review_count': 6},\n",
       " {'_id': ObjectId('626648ff0130b738ac8d90ce'), 'review_count': 111},\n",
       " {'_id': ObjectId('626648ff0130b738ac8d9126'), 'review_count': 5},\n",
       " {'_id': ObjectId('626648ff0130b738ac8d9135'), 'review_count': 5},\n",
       " {'_id': ObjectId('626648ff0130b738ac8d914a'), 'review_count': 207},\n",
       " {'_id': ObjectId('626648ff0130b738ac8d91bc'), 'review_count': 15},\n",
       " {'_id': ObjectId('626648ff0130b738ac8d91d5'), 'review_count': 11},\n",
       " {'_id': ObjectId('626648ff0130b738ac8d91ee'), 'review_count': 41},\n",
       " {'_id': ObjectId('626648ff0130b738ac8d920c'), 'review_count': 52},\n",
       " ...]"
      ]
     },
     "execution_count": 68,
     "metadata": {},
     "output_type": "execute_result"
    }
   ],
   "source": [
    "result_list"
   ]
  },
  {
   "cell_type": "markdown",
   "metadata": {
    "jp-MarkdownHeadingCollapsed": true,
    "tags": []
   },
   "source": [
    "### Retrieve top-k result"
   ]
  },
  {
   "cell_type": "code",
   "execution_count": 69,
   "metadata": {},
   "outputs": [
    {
     "data": {
      "text/plain": [
       "[{'_id': ObjectId('626648ff0130b738ac8e595e'), 'review_count': 3834},\n",
       " {'_id': ObjectId('626649000130b738ac8e9710'), 'review_count': 1796},\n",
       " {'_id': ObjectId('626648ff0130b738ac8dedbe'), 'review_count': 1537},\n",
       " {'_id': ObjectId('626648ff0130b738ac8de831'), 'review_count': 1500},\n",
       " {'_id': ObjectId('626648ff0130b738ac8dadcc'), 'review_count': 1453},\n",
       " {'_id': ObjectId('626648ff0130b738ac8e1a50'), 'review_count': 1452},\n",
       " {'_id': ObjectId('626648ff0130b738ac8d0a13'), 'review_count': 1219},\n",
       " {'_id': ObjectId('626649000130b738ac8ea433'), 'review_count': 1213},\n",
       " {'_id': ObjectId('626648ff0130b738ac8e0d83'), 'review_count': 1108},\n",
       " {'_id': ObjectId('626648ff0130b738ac8df6f3'), 'review_count': 1084}]"
      ]
     },
     "execution_count": 69,
     "metadata": {},
     "output_type": "execute_result"
    }
   ],
   "source": [
    "# filtering\n",
    "filter={\n",
    "    'city': 'Santa Barbara', \n",
    "    'stars': {\n",
    "        '$gt': 4\n",
    "    }\n",
    "}\n",
    "\n",
    "# data projection\n",
    "project={\n",
    "    'review_count': 1,\n",
    "    'id': 1,\n",
    "}\n",
    "\n",
    "sort=list({\n",
    "    'review_count': -1\n",
    "}.items())\n",
    "\n",
    "limit = 10\n",
    "\n",
    "result = collection.find(\n",
    "    filter=filter,\n",
    "    projection=project,\n",
    "    sort = sort,\n",
    "    limit = limit\n",
    ")\n",
    "\n",
    "result_list = list(result)\n",
    "result_list"
   ]
  },
  {
   "cell_type": "markdown",
   "metadata": {
    "jp-MarkdownHeadingCollapsed": true,
    "tags": []
   },
   "source": [
    "### Filter on data schema"
   ]
  },
  {
   "cell_type": "code",
   "execution_count": 70,
   "metadata": {},
   "outputs": [
    {
     "data": {
      "text/plain": [
       "1170543"
      ]
     },
     "execution_count": 70,
     "metadata": {},
     "output_type": "execute_result"
    }
   ],
   "source": [
    "# find documents where 'place' field is not None\n",
    "filter={\n",
    "    'is_open': {\n",
    "        '$ne': 0\n",
    "    }\n",
    "}\n",
    "\n",
    "result = collection.find(\n",
    "  filter=filter\n",
    ")\n",
    "\n",
    "result_list = list(result)\n",
    "len(result_list)"
   ]
  },
  {
   "cell_type": "code",
   "execution_count": 71,
   "metadata": {},
   "outputs": [
    {
     "data": {
      "text/plain": [
       "{'_id': ObjectId('626648fe0130b738ac8c601a'),\n",
       " 'business_id': 'mpf3x-BjTdTEA3yCZrAYPw',\n",
       " 'name': 'The UPS Store',\n",
       " 'address': '87 Grasso Plaza Shopping Center',\n",
       " 'city': 'Affton',\n",
       " 'state': 'MO',\n",
       " 'postal_code': '63123',\n",
       " 'latitude': 38.551126,\n",
       " 'longitude': -90.335695,\n",
       " 'stars': 3.0,\n",
       " 'review_count': 15,\n",
       " 'is_open': 1,\n",
       " 'attributes': {'BusinessAcceptsCreditCards': 'True'},\n",
       " 'categories': 'Shipping Centers, Local Services, Notaries, Mailbox Centers, Printing Services',\n",
       " 'hours': {'Monday': '0:0-0:0',\n",
       "  'Tuesday': '8:0-18:30',\n",
       "  'Wednesday': '8:0-18:30',\n",
       "  'Thursday': '8:0-18:30',\n",
       "  'Friday': '8:0-18:30',\n",
       "  'Saturday': '8:0-14:0'}}"
      ]
     },
     "execution_count": 71,
     "metadata": {},
     "output_type": "execute_result"
    }
   ],
   "source": [
    "result_list[0]"
   ]
  },
  {
   "cell_type": "markdown",
   "metadata": {
    "jp-MarkdownHeadingCollapsed": true,
    "tags": []
   },
   "source": [
    "### Combining different conditions"
   ]
  },
  {
   "cell_type": "code",
   "execution_count": 72,
   "metadata": {},
   "outputs": [
    {
     "data": {
      "text/plain": [
       "(45419,\n",
       " {'_id': ObjectId('626648fe0130b738ac8c6019'),\n",
       "  'business_id': 'Pns2l4eNsfO8kk83dixA6A',\n",
       "  'review_count': 7})"
      ]
     },
     "execution_count": 72,
     "metadata": {},
     "output_type": "execute_result"
    }
   ],
   "source": [
    "# combining logical conditions\n",
    "filter={\n",
    "    '$or': [\n",
    "        {\n",
    "            'city': 'Santa Barbara'\n",
    "        }, \n",
    "        {\n",
    "            'stars': {\n",
    "                '$gt': 4\n",
    "            }\n",
    "        }\n",
    "    ]\n",
    "}\n",
    "project={\n",
    "    'business_id': 1, \n",
    "    'review_count': 1, \n",
    "}\n",
    "\n",
    "result = collection.find(\n",
    "  filter=filter,\n",
    "  projection=project\n",
    ")\n",
    "\n",
    "result_list = list(result)\n",
    "len(result_list),result_list[0]"
   ]
  },
  {
   "cell_type": "code",
   "execution_count": 73,
   "metadata": {},
   "outputs": [
    {
     "data": {
      "text/plain": [
       "{'_id': ObjectId('626648fe0130b738ac8c6019'),\n",
       " 'business_id': 'Pns2l4eNsfO8kk83dixA6A',\n",
       " 'review_count': 7}"
      ]
     },
     "execution_count": 73,
     "metadata": {},
     "output_type": "execute_result"
    }
   ],
   "source": [
    "result_list[0]"
   ]
  },
  {
   "cell_type": "code",
   "execution_count": 74,
   "metadata": {},
   "outputs": [
    {
     "data": {
      "text/plain": [
       "{'review_id': 'KU_O5udG6zpxOg-VcAEodg',\n",
       " 'user_id': 'mh_-eMZ6K5RLWhZyISBhwA',\n",
       " 'business_id': 'XQfwVwDr-v0ZS3_CbbE5Xw',\n",
       " 'stars': 3.0,\n",
       " 'useful': 0,\n",
       " 'funny': 0,\n",
       " 'cool': 0,\n",
       " 'text': \"If you decide to eat here, just be aware it is going to take about 2 hours from beginning to end. We have tried it multiple times, because I want to like it! I have been to it's other locations in NJ and never had a bad experience. \\n\\nThe food is good, but it takes a very long time to come out. The waitstaff is very young, but usually pleasant. We have just had too many experiences where we spent way too long waiting. We usually opt for another diner or restaurant on the weekends, in order to be done quicker.\",\n",
       " 'date': '2018-07-07 22:09:11'}"
      ]
     },
     "execution_count": 74,
     "metadata": {},
     "output_type": "execute_result"
    }
   ],
   "source": [
    "review[0]"
   ]
  },
  {
   "cell_type": "markdown",
   "metadata": {
    "jp-MarkdownHeadingCollapsed": true,
    "tags": []
   },
   "source": [
    "### Filtro basato su testo"
   ]
  },
  {
   "cell_type": "code",
   "execution_count": 75,
   "metadata": {},
   "outputs": [
    {
     "data": {
      "text/plain": [
       "(73275,\n",
       " {'_id': ObjectId('626649080130b738ac90aebe'),\n",
       "  'business_id': 'QoezRbYQncpRqyrLH6Iqjg',\n",
       "  'text': 'They have lots of good deserts and tasty cuban sandwiches'})"
      ]
     },
     "execution_count": 75,
     "metadata": {},
     "output_type": "execute_result"
    }
   ],
   "source": [
    "\n",
    "import re \n",
    "\n",
    "filter={\n",
    "    'text': {\n",
    "        '$regex': re.compile(r\"good\")\n",
    "    }\n",
    "}\n",
    "\n",
    "project={\n",
    "    'stars': 1, \n",
    "    'business_id': 1,\n",
    "    'text':1\n",
    "}\n",
    "\n",
    "\n",
    "result = collection.find(\n",
    "  filter=filter,\n",
    "  projection=project\n",
    ")\n",
    "\n",
    "result_list = list(result)\n",
    "len(result_list),result_list[0]"
   ]
  },
  {
   "cell_type": "markdown",
   "metadata": {
    "jp-MarkdownHeadingCollapsed": true,
    "tags": []
   },
   "source": [
    "### Aggregation framework\n",
    "\n",
    "1. Find the number of tweets per language.\n",
    "2. Find all hashtags used in the tweets."
   ]
  },
  {
   "cell_type": "code",
   "execution_count": 88,
   "metadata": {},
   "outputs": [
    {
     "data": {
      "text/plain": [
       "{'review_id': 'KU_O5udG6zpxOg-VcAEodg',\n",
       " 'user_id': 'mh_-eMZ6K5RLWhZyISBhwA',\n",
       " 'business_id': 'XQfwVwDr-v0ZS3_CbbE5Xw',\n",
       " 'stars': 3.0,\n",
       " 'useful': 0,\n",
       " 'funny': 0,\n",
       " 'cool': 0,\n",
       " 'text': \"If you decide to eat here, just be aware it is going to take about 2 hours from beginning to end. We have tried it multiple times, because I want to like it! I have been to it's other locations in NJ and never had a bad experience. \\n\\nThe food is good, but it takes a very long time to come out. The waitstaff is very young, but usually pleasant. We have just had too many experiences where we spent way too long waiting. We usually opt for another diner or restaurant on the weekends, in order to be done quicker.\",\n",
       " 'date': '2018-07-07 22:09:11'}"
      ]
     },
     "execution_count": 88,
     "metadata": {},
     "output_type": "execute_result"
    }
   ],
   "source": [
    "review[0]"
   ]
  },
  {
   "cell_type": "code",
   "execution_count": 90,
   "metadata": {
    "tags": []
   },
   "outputs": [
    {
     "data": {
      "text/plain": [
       "[]"
      ]
     },
     "execution_count": 90,
     "metadata": {},
     "output_type": "execute_result"
    }
   ],
   "source": [
    "pipe = [\n",
    "    {\n",
    "        '$project': {\n",
    "            'business_id': 1,\n",
    "            'name': 1,\n",
    "            'city': 1,\n",
    "            'stars': 1,\n",
    "            'review_count': 1\n",
    "        }\n",
    "    }, \n",
    "    {   '$lookup':{\n",
    "            'from':\"yelpReview\",\n",
    "            'localField':'business_id',\n",
    "            'foreignField':'business_id',\n",
    "            'as':'yelpReview'\n",
    "        }\n",
    "\n",
    "    },\n",
    "    {\n",
    "        '$unwind':'$yelpReview'\n",
    "    },\n",
    "      \n",
    "    {\n",
    "        '$match': {\n",
    "            'stars':{\n",
    "                '$eq': \"3.0\"\n",
    "            }\n",
    "        }\n",
    "    }, \n",
    "    {\n",
    "        '$group': {\n",
    "            '_id': '$business_id', \n",
    "            'count': {\n",
    "                '$sum': 1\n",
    "            }\n",
    "        }\n",
    "    }\n",
    "]\n",
    "\n",
    "result = collection_business.aggregate(pipe)\n",
    "list(result)"
   ]
  },
  {
   "cell_type": "code",
   "execution_count": 31,
   "metadata": {
    "scrolled": true,
    "tags": []
   },
   "outputs": [
    {
     "data": {
      "text/plain": [
       "[{'_id': 'COVID19', 'count': 3},\n",
       " {'_id': 'coronavirus', 'count': 2},\n",
       " {'_id': 'zonerosse', 'count': 1},\n",
       " {'_id': 'Cuba', 'count': 1},\n",
       " {'_id': 'iorestoacasa', 'count': 1},\n",
       " {'_id': 'irresponsabili', 'count': 1},\n",
       " {'_id': 'cumartesi', 'count': 1},\n",
       " {'_id': 'COVID2019', 'count': 1},\n",
       " {'_id': 'benvarım', 'count': 1},\n",
       " {'_id': 'Koronovirus', 'count': 1},\n",
       " {'_id': 'sxsw', 'count': 1}]"
      ]
     },
     "execution_count": 31,
     "metadata": {},
     "output_type": "execute_result"
    }
   ],
   "source": [
    "pipe = [\n",
    "    {\n",
    "        '$project': {\n",
    "            'id': 1, \n",
    "            'full_text': 1, \n",
    "            'lang': 1, \n",
    "            'entities.hashtags': 1\n",
    "        }\n",
    "    }, {\n",
    "        '$unwind': {\n",
    "            'path': '$entities.hashtags', \n",
    "            'preserveNullAndEmptyArrays': False\n",
    "        }\n",
    "    }, {\n",
    "        '$replaceRoot': {\n",
    "            'newRoot': '$entities.hashtags'\n",
    "        }\n",
    "    }, {\n",
    "        '$project': {\n",
    "            'text': 1\n",
    "        }\n",
    "    }, {\n",
    "        '$group': {\n",
    "            '_id': '$text', \n",
    "            'count': {\n",
    "                '$sum': 1\n",
    "            }\n",
    "        }\n",
    "    }, {\n",
    "        '$sort': {\n",
    "            'count': -1\n",
    "        }\n",
    "    }\n",
    "]\n",
    "\n",
    "result = collection.aggregate(pipe)\n",
    "result_list = list(result)\n",
    "result_list"
   ]
  },
  {
   "cell_type": "markdown",
   "metadata": {
    "tags": []
   },
   "source": [
    "## Indices"
   ]
  },
  {
   "cell_type": "markdown",
   "metadata": {
    "jp-MarkdownHeadingCollapsed": true,
    "tags": []
   },
   "source": [
    "### Compound index"
   ]
  },
  {
   "cell_type": "code",
   "execution_count": 32,
   "metadata": {},
   "outputs": [
    {
     "name": "stdout",
     "output_type": "stream",
     "text": [
      "[SON([('v', 2), ('key', SON([('_id', 1)])), ('name', '_id_')]), SON([('v', 2), ('key', SON([('created_at', 1), ('retweet_count', -1)])), ('name', 'twoLevel_index'), ('background', True), ('sparse', False)])]\n"
     ]
    }
   ],
   "source": [
    "from pymongo import ASCENDING, DESCENDING\n",
    "\n",
    "# compound index\n",
    "db.tweets.create_index([(\"created_at\", ASCENDING),(\"retweet_count\", DESCENDING)], \n",
    "                       name=\"twoLevel_index\",\n",
    "                       background=True,\n",
    "                       unique=False,\n",
    "                       sparse=False)\n",
    "\n",
    "# print out available indices\n",
    "print(list(db.tweets.list_indexes()))"
   ]
  },
  {
   "cell_type": "markdown",
   "metadata": {
    "jp-MarkdownHeadingCollapsed": true,
    "tags": []
   },
   "source": [
    "### Text index"
   ]
  },
  {
   "cell_type": "code",
   "execution_count": 33,
   "metadata": {},
   "outputs": [
    {
     "name": "stdout",
     "output_type": "stream",
     "text": [
      "[SON([('v', 2), ('key', SON([('_id', 1)])), ('name', '_id_')]), SON([('v', 2), ('key', SON([('created_at', 1), ('retweet_count', -1)])), ('name', 'twoLevel_index'), ('background', True), ('sparse', False)]), SON([('v', 2), ('key', SON([('_fts', 'text'), ('_ftsx', 1)])), ('name', 'text_index'), ('weights', SON([('source', 1)])), ('default_language', 'english'), ('language_override', 'language'), ('textIndexVersion', 3)])]\n"
     ]
    }
   ],
   "source": [
    "# text index\n",
    "db.tweets.create_index([('source', pymongo.TEXT)], default_language='english',name='text_index')\n",
    "print(list(db.tweets.list_indexes()))"
   ]
  },
  {
   "cell_type": "code",
   "execution_count": 34,
   "metadata": {},
   "outputs": [
    {
     "data": {
      "text/plain": [
       "(16,\n",
       " {'_id': ObjectId('6265887a51d11a414a387dae'),\n",
       "  'source': '<a href=\"http://twitter.com/download/iphone\" rel=\"nofollow\">Twitter for iPhone</a>'})"
      ]
     },
     "execution_count": 34,
     "metadata": {},
     "output_type": "execute_result"
    }
   ],
   "source": [
    "filter = {\n",
    "    \"$text\": {\"$search\": \"iphone\"}\n",
    "}\n",
    "\n",
    "# proiezione di dati\n",
    "project={\n",
    "    'source': 1\n",
    "}\n",
    "\n",
    "result = db.tweets.find(\n",
    "  filter=filter,\n",
    "  projection=project\n",
    ")\n",
    "\n",
    "result_list = list(result)\n",
    "len(result_list),result_list[0]"
   ]
  }
 ],
 "metadata": {
  "kernelspec": {
   "display_name": "Python 3 (ipykernel)",
   "language": "python",
   "name": "python3"
  },
  "language_info": {
   "codemirror_mode": {
    "name": "ipython",
    "version": 3
   },
   "file_extension": ".py",
   "mimetype": "text/x-python",
   "name": "python",
   "nbconvert_exporter": "python",
   "pygments_lexer": "ipython3",
   "version": "3.10.2"
  }
 },
 "nbformat": 4,
 "nbformat_minor": 4
}
